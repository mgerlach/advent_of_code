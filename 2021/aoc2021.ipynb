{
  "cells": [
    {
      "cell_type": "markdown",
      "metadata": {
        "id": "view-in-github",
        "colab_type": "text"
      },
      "source": [
        "<a href=\"https://colab.research.google.com/github/mgerlach/advent_of_code/blob/main/2021/aoc2021.ipynb\" target=\"_parent\"><img src=\"https://colab.research.google.com/assets/colab-badge.svg\" alt=\"Open In Colab\"/></a>"
      ]
    },
    {
      "cell_type": "markdown",
      "metadata": {
        "id": "Y68psGPX-f10"
      },
      "source": [
        "1) number of increments, window length 1 (part 1), window length 3 (part 2)"
      ]
    },
    {
      "cell_type": "code",
      "execution_count": null,
      "metadata": {
        "colab": {
          "base_uri": "https://localhost:8080/"
        },
        "id": "oIEwfUSo9ea6",
        "outputId": "0fe396ec-a608-4ad9-87ca-e97278ffc356"
      },
      "outputs": [
        {
          "data": {
            "text/plain": [
              "1722"
            ]
          },
          "execution_count": 2,
          "metadata": {},
          "output_type": "execute_result"
        }
      ],
      "source": [
        "wl = 1  # window length, use 3 for part 2\n",
        "inc = 0 # increments\n",
        "\n",
        "m = [int(line) for line in open('drive/MyDrive/AoC/2021/input01.txt')]\n",
        "\n",
        "for i in range(0, len(m) - wl):\n",
        "  if m[i] < m[i+wl]:\n",
        "    inc += 1\n",
        "\n",
        "inc"
      ]
    },
    {
      "cell_type": "markdown",
      "metadata": {
        "id": "HbPVnHoO_Qfq"
      },
      "source": [
        "2) horizontal/depth course"
      ]
    },
    {
      "cell_type": "code",
      "execution_count": null,
      "metadata": {
        "colab": {
          "base_uri": "https://localhost:8080/"
        },
        "id": "Uhtw1KOy_Ur4",
        "outputId": "fe7c1d18-a3c3-4956-f35c-40c3b60beb9a"
      },
      "outputs": [
        {
          "data": {
            "text/plain": [
              "1698735"
            ]
          },
          "execution_count": 3,
          "metadata": {},
          "output_type": "execute_result"
        }
      ],
      "source": [
        "prog = [line.split() for line in open('drive/MyDrive/AoC/2021/input02.txt')]  # 0=cmd 1=amount\n",
        "h = 0\n",
        "d = 0\n",
        "for instr in prog:\n",
        "  cmd = instr[0]\n",
        "  amount = int(instr[1])\n",
        "  if cmd == 'forward':\n",
        "    h += amount\n",
        "  elif cmd == 'up':\n",
        "    d -= amount\n",
        "  elif cmd == 'down':\n",
        "    d += amount\n",
        "\n",
        "h * d"
      ]
    },
    {
      "cell_type": "code",
      "execution_count": null,
      "metadata": {
        "colab": {
          "base_uri": "https://localhost:8080/"
        },
        "id": "UtoKxNE3Cvu4",
        "outputId": "7acbb72e-ecca-48d1-f6d2-3bd3a86e17d1"
      },
      "outputs": [
        {
          "data": {
            "text/plain": [
              "1594785890"
            ]
          },
          "execution_count": 5,
          "metadata": {},
          "output_type": "execute_result"
        }
      ],
      "source": [
        "prog = [line.split() for line in open('drive/MyDrive/AoC/2021/input02.txt')]  # 0=cmd 1=amount\n",
        "h = 0\n",
        "d = 0\n",
        "aim = 0 \n",
        "for instr in prog:\n",
        "  cmd = instr[0]\n",
        "  amount = int(instr[1])\n",
        "  if cmd == 'forward':\n",
        "    h += amount\n",
        "    d += aim * amount\n",
        "  elif cmd == 'up':\n",
        "    aim -= amount\n",
        "  elif cmd == 'down':\n",
        "    aim += amount\n",
        "\n",
        "h * d\n"
      ]
    },
    {
      "cell_type": "markdown",
      "metadata": {
        "id": "eMcgDuC7NaYp"
      },
      "source": [
        "3) Most / least common bits in binary numbers represented as equal length strings"
      ]
    },
    {
      "cell_type": "code",
      "execution_count": null,
      "metadata": {
        "colab": {
          "base_uri": "https://localhost:8080/"
        },
        "id": "JjAW85etNptr",
        "outputId": "816af42e-ce9b-42b5-f94c-13268894e744"
      },
      "outputs": [
        {
          "output_type": "execute_result",
          "data": {
            "text/plain": [
              "4138664"
            ]
          },
          "metadata": {},
          "execution_count": 2
        }
      ],
      "source": [
        "# count values per bit, keep either most common or least common value for each bit\n",
        "from functools import reduce\n",
        "\n",
        "ms = [line.strip() for line in open('drive/MyDrive/AoC/2021/input03.txt')]  # ms = measurements, binary 12 char strings\n",
        "half = len(ms)/2\n",
        "\n",
        "# count 1s in each bit position\n",
        "initial_bit_count1s = [0] * len(ms[0])\n",
        "count1s = reduce(lambda cnt1s, m: [cnt1s[i] + int(m[i]) for i, x in enumerate(cnt1s)], ms, initial_bit_count1s)\n",
        "\n",
        "most_common_bitvals = \"\".join('1' if c > half else '0' for c in count1s)\n",
        "least_common_bitvals = \"\".join('1' if c < half else '0' for c in count1s)  # could also invert most_common_bitvals\n",
        "\n",
        "int(most_common_bitvals, 2) * int(least_common_bitvals, 2)"
      ]
    },
    {
      "cell_type": "code",
      "execution_count": null,
      "metadata": {
        "colab": {
          "base_uri": "https://localhost:8080/"
        },
        "id": "KUTwafbeVsCC",
        "outputId": "79453137-f075-4ffc-b7a7-8f7480fb0075"
      },
      "outputs": [
        {
          "output_type": "execute_result",
          "data": {
            "text/plain": [
              "4273224"
            ]
          },
          "metadata": {},
          "execution_count": 6
        }
      ],
      "source": [
        "# count values for first bit, keep lines with first bit either most or least common value,\n",
        "# repeat with next bit on filtered list, repeat until only one list entry is left\n",
        "measurements = [line.strip() for line in open('drive/MyDrive/AoC/2021/input03.txt')]  # binary 12 char strings\n",
        "bits = len(measurements[0])\n",
        "\n",
        "# find the measurement according to filtermode\n",
        "# ms - measurements\n",
        "# filtermode 1 - keep numbers with bit value = most common value of the bit (equally common - keep those with 1)\n",
        "# filtermode 0 - keep numbers with bit value = least common value of the bit (equally common - keep those with 0)\n",
        "def find(ms, filtermode):\n",
        "\n",
        "  def filter(ms, bit):\n",
        "    half = len(ms)/2\n",
        "    # count 1s in bit position\n",
        "    count1s = sum(int(m[bit]) for m in ms)\n",
        "    # filter according to count1s and filtermode\n",
        "    filterval = filtermode if count1s > half else (1-filtermode if count1s < half else filtermode)\n",
        "    return [m for m in ms if int(m[bit]) == filterval]\n",
        "\n",
        "  def iter(ms, bit):\n",
        "    filtered = filter(ms, bit)\n",
        "    return filtered[0] if len(filtered) == 1 else iter(filtered, bit+1)\n",
        "\n",
        "  return iter(ms, 0)\n",
        "\n",
        "int(find(measurements, 1), 2) * int(find(measurements, 0), 2)"
      ]
    },
    {
      "cell_type": "markdown",
      "metadata": {
        "id": "6o9nSEeb2_Bd"
      },
      "source": [
        "4) Bingo (5x5 Boards)\n"
      ]
    },
    {
      "cell_type": "code",
      "execution_count": null,
      "metadata": {
        "colab": {
          "base_uri": "https://localhost:8080/"
        },
        "id": "JP5HBO3T3jZr",
        "outputId": "2c416c03-f856-41ec-a6f7-b553353ee39a"
      },
      "outputs": [
        {
          "output_type": "stream",
          "name": "stdout",
          "text": [
            "First board\n",
            "[[6, 0], [26, 0], [69, 1], [27, 1], [75, 0]]\n",
            "[[61, 0], [33, 1], [88, 1], [38, 0], [20, 0]]\n",
            "[[9, 1], [56, 0], [70, 0], [98, 1], [82, 0]]\n",
            "[[80, 1], [76, 0], [55, 1], [66, 1], [29, 0]]\n",
            "[[97, 1], [84, 1], [42, 1], [77, 1], [73, 1]]\n",
            "41503\n",
            "Last board\n",
            "[[94, 1], [38, 1], [96, 1], [44, 1], [46, 0]]\n",
            "[[10, 1], [14, 1], [75, 0], [97, 1], [76, 1]]\n",
            "[[7, 1], [61, 1], [56, 1], [36, 1], [1, 0]]\n",
            "[[81, 0], [67, 1], [49, 1], [78, 1], [86, 1]]\n",
            "[[31, 1], [65, 1], [88, 1], [24, 0], [63, 1]]\n",
            "3178\n"
          ]
        }
      ],
      "source": [
        "# Board structure\n",
        "# 2-dimensional array of pairs (2-elem lists) with left(0) = number, right(1) = marker (1 = marked, 0 = not marked)\n",
        "# The number/marker pairs are shared between all boards.\n",
        "\n",
        "from functools import reduce\n",
        "\n",
        "# Assume numbers drawn between 0 and 99 (incl.), initialize a marker object (a list length 2) for each number,\n",
        "# containing the number itself (index 0, actually only needed for display as the index of the marker object \n",
        "# already represents the number) and a marker (index 1) of value 0 if the number has not been drawn, yet, and\n",
        "# 1 if the number was drawn. These markers are shared between all the boards, such that setting the marker to 1\n",
        "# in one of the numbers, the number will appear as marked on all boards containing it.\n",
        "\n",
        "markers = [[n, 0] for n in range(0, 100)]\n",
        "boards = []\n",
        "\n",
        "for i, l in enumerate(open('drive/MyDrive/AoC/2021/input04.txt')):\n",
        "  if i == 0:\n",
        "    # The numbers that are drawn appear in the first line of the input\n",
        "    numbers = [int(s.strip()) for s in l.split(',')]\n",
        "  elif i % 6 == 1: \n",
        "    # A blank line announcing a new 5x5 board, lines 1, 7, 13, etc.\n",
        "    boards.append([])\n",
        "  else:\n",
        "    # By using the numbers on the board def. as index into markers, the marker objects are shared between all the boards\n",
        "    boards[int((i-1)/6)].append([markers[int(s.strip())] for s in l.split()])\n",
        "\n",
        "# Some helpers\n",
        "\n",
        "def mark(n):\n",
        "  markers[n][1] = 1  # marks number on all boards\n",
        "\n",
        "def rowbingo(board) -> bool:\n",
        "  # bool(list) is True if non-empty, i. e. 5 marked numbers in at least 1 row\n",
        "  return bool([row for row in board if sum(n[1] for n in row) == 5])  \n",
        "\n",
        "def colbingo(board) -> bool:\n",
        "  # The reduce counts marked numbers (row[i][1] == 1) in all columns (i=0..4)\n",
        "  # true if 5 numbers are marked in any column\n",
        "  return 5 in reduce(lambda counts, row: [c+row[i][1] for i, c in enumerate(counts)], board, [0, 0, 0, 0, 0])\n",
        "\n",
        "def bingo(board) -> bool:\n",
        "  return rowbingo(board) or colbingo(board)\n",
        "\n",
        "def sum_unmarked(board) -> int:\n",
        "  return sum(sum(n[0] for n in row if n[1] == 0) for row in board)\n",
        "\n",
        "def p(board):\n",
        "  for row in board:\n",
        "    print(row)\n",
        "\n",
        "# Part 1: First board to win\n",
        "bingoboards = []\n",
        "index = 0\n",
        "while len(bingoboards) == 0:\n",
        "  mark(numbers[index])\n",
        "  bingoboards = list(filter(bingo, boards))  # [board for board in boards if bingo(board)]\n",
        "  if bingoboards:\n",
        "    print(\"First board\")\n",
        "    p(bingoboards[0])\n",
        "    print(sum_unmarked(bingoboards[0]) * numbers[index])\n",
        "  else:\n",
        "    index += 1\n",
        "\n",
        "# Part 2: Last board to win\n",
        "\n",
        "# Now need to remove boards with bingo until only one left\n",
        "# (first remove the one found above)\n",
        "boards.remove(bingoboards[0])\n",
        "while len(boards) > 1:\n",
        "  # print(f\"index: {index}, number of boards: {len(boards)}\")\n",
        "  mark(numbers[index])\n",
        "  boards = [board for board in boards if not bingo(board)]  # list(filter(lambda board: not(bingo(board)), boards))\n",
        "  index += 1\n",
        "\n",
        "print(\"Last board\")\n",
        "# Go on until bingo\n",
        "while index < len(numbers):\n",
        "  mark(numbers[index])\n",
        "  if (bingo(boards[0])):\n",
        "    p(boards[0])\n",
        "    print(sum_unmarked(boards[0]) * numbers[index])\n",
        "    index = len(numbers)  # stop\n",
        "  else:\n",
        "    index += 1\n",
        "\n"
      ]
    },
    {
      "cell_type": "markdown",
      "metadata": {
        "id": "x2f2mAYv2MEX"
      },
      "source": [
        "5) Overlapping lines"
      ]
    },
    {
      "cell_type": "code",
      "execution_count": null,
      "metadata": {
        "colab": {
          "base_uri": "https://localhost:8080/"
        },
        "id": "Xg0ly6Ku2O2W",
        "outputId": "ca6dcb52-8986-4d69-82cb-ada8cd7dca77"
      },
      "outputs": [
        {
          "output_type": "stream",
          "name": "stdout",
          "text": [
            "number of points where lines overlap: 22083\n"
          ]
        }
      ],
      "source": [
        "# Part 1 only horizontal and vertical lines\n",
        "# Part 2 also 45 degree diagonal lines\n",
        "import re\n",
        "\n",
        "grid = {}  # maps points (x, y) to count\n",
        "\n",
        "# needed for part 2\n",
        "def sgn(x): \n",
        "  return 1 if x > 0 else (-1 if x < 0 else 0)\n",
        "\n",
        "def inc_point(x, y):\n",
        "  if (x, y) not in grid:\n",
        "    grid[(x, y)] = 1\n",
        "  else:\n",
        "    grid[(x, y)] += 1\n",
        "\n",
        "def add_line(x1, y1, x2, y2):\n",
        "  if x1==x2:\n",
        "    for y in range(min(y1,y2), max(y1,y2)+1):\n",
        "      inc_point(x1, y)\n",
        "  elif y1==y2:\n",
        "    for x in range(min(x1,x2), max(x1,x2)+1):\n",
        "      inc_point(x, y1)\n",
        "  # Part 2 - could also use this as single option without all the ifs (trusting the input) as it would cover horizontal and vertical lines, too\n",
        "  elif abs(x2-x1)==abs(y2-y1):\n",
        "    dx = sgn(x2-x1)\n",
        "    dy = sgn(y2-y1)\n",
        "    for i in range(0, abs(x2-x1)+1):\n",
        "      inc_point(x1 + i * dx, y1 + i * dy)\n",
        "\n",
        "for l in open('drive/MyDrive/AoC/2021/input05.txt'):\n",
        "  m = re.fullmatch(r\"(\\d+),(\\d+) -> (\\d+),(\\d+)\\n\", l)\n",
        "  add_line(*[int(m.group(i)) for i in [1, 2, 3, 4]])\n",
        "\n",
        "print(f\"number of points where lines overlap: {sum(1 if grid[k] > 1 else 0 for k in grid.keys())}\")"
      ]
    },
    {
      "cell_type": "markdown",
      "metadata": {
        "id": "l9jzmfCsif76"
      },
      "source": [
        "6) Population growth"
      ]
    },
    {
      "cell_type": "code",
      "execution_count": null,
      "metadata": {
        "colab": {
          "base_uri": "https://localhost:8080/"
        },
        "id": "SKBCm2R-imKk",
        "outputId": "ed46d0f4-1aed-4f23-e37b-3bb68deb368e"
      },
      "outputs": [
        {
          "output_type": "stream",
          "name": "stdout",
          "text": [
            "80: 380612\n"
          ]
        }
      ],
      "source": [
        "# Part 1 naive brute force\n",
        "population = [int(timer_str) for timer_str in open('drive/MyDrive/AoC/2021/input06.txt').readline().split(',')]\n",
        "iterations = 80\n",
        "for i in range(0, iterations):\n",
        "  # print(f\"{i}: {len(population)}\")\n",
        "  new_timers = [8] * sum(1 if timer == 0 else 0 for timer in population)\n",
        "  population = [6 if timer == 0 else timer-1 for timer in population]\n",
        "  population += new_timers\n",
        "\n",
        "print(f\"{iterations}: {len(population)}\")\n"
      ]
    },
    {
      "cell_type": "code",
      "execution_count": null,
      "metadata": {
        "colab": {
          "base_uri": "https://localhost:8080/"
        },
        "id": "9uz7l56xlzie",
        "outputId": "554aeae7-c2ed-4ff1-927a-b714e8cd1f2e"
      },
      "outputs": [
        {
          "name": "stdout",
          "output_type": "stream",
          "text": [
            "256: [145229151101, 175734577513, 183417971628, 196504736072, 231271638229, 222902115155, 282121656192, 119339467551, 153645343459] (1710166656900)\n"
          ]
        }
      ],
      "source": [
        "# Part 2 a bit more intelligent\n",
        "pop_raw = [int(timer_str) for timer_str in open('drive/MyDrive/AoC/2021/input06.txt').readline().split(',')]\n",
        "pop_counts = [0,0,0,0,0,0,0,0,0]  # counts for timer values 0-8\n",
        "for timer in pop_raw:\n",
        "  pop_counts[timer] += 1\n",
        "iterations = 256\n",
        "for i in range(0, iterations):\n",
        "  # print(f\"{i}: {pop_counts} ({sum(pop_counts)})\")\n",
        "  new_counts = pop_counts[1:]  # decrease all from 1-8\n",
        "  new_counts[6] += pop_counts[0]  # 0s become 6s\n",
        "  pop_counts = new_counts + [pop_counts[0]]  # 0s produce new 8s\n",
        "\n",
        "print(f\"{iterations}: {pop_counts} ({sum(pop_counts)})\")\n"
      ]
    },
    {
      "cell_type": "markdown",
      "metadata": {
        "id": "0ykn752K8tQL"
      },
      "source": [
        "7) Find min diff"
      ]
    },
    {
      "cell_type": "code",
      "execution_count": null,
      "metadata": {
        "colab": {
          "base_uri": "https://localhost:8080/"
        },
        "id": "zzL9RSGA84Ub",
        "outputId": "e9b5efd5-ccb2-4097-dce5-c91faf37ca9c"
      },
      "outputs": [
        {
          "output_type": "stream",
          "name": "stdout",
          "text": [
            "estimation(part 1): 243.2525\n",
            "part 1: (347, 347449)\n",
            "part 2: (486, 98039527)\n"
          ]
        }
      ],
      "source": [
        "positions = [int(s) for s in open('drive/MyDrive/AoC/2021/input07.txt').readline().split(',')]\n",
        "# input = [16,1,2,0,4,2,7,1,2,14]\n",
        "print(f\"estimation(part 1): {sum(positions)/len(positions)/2}\")\n",
        "\n",
        "def consumption1(target, current):\n",
        "  return sum(abs(target - curr) for curr in current)\n",
        "\n",
        "def consumption2(target, current):\n",
        "  return sum(int(abs(target-curr)*(abs(target-curr)+1)/2) for curr in current)\n",
        "\n",
        "print(\"part 1:\", min([(i, consumption1(i, positions)) for i in range(0, len(positions))], key=lambda t: t[1]))\n",
        "print(\"part 2:\", min([(i, consumption2(i, positions)) for i in range(0, len(positions))], key=lambda t: t[1]))\n",
        "  "
      ]
    },
    {
      "cell_type": "markdown",
      "metadata": {
        "id": "j0HGeXKy8VLf"
      },
      "source": [
        "8) 4-Digit display wiring"
      ]
    },
    {
      "cell_type": "code",
      "execution_count": null,
      "metadata": {
        "colab": {
          "base_uri": "https://localhost:8080/"
        },
        "id": "VSIcdkV88Z3A",
        "outputId": "b61110db-fd53-4e73-e2b0-0285a5723301"
      },
      "outputs": [
        {
          "output_type": "stream",
          "name": "stdout",
          "text": [
            "part 1: 539\n",
            "part 2: 1084606\n"
          ]
        }
      ],
      "source": [
        "patterns_and_output = [{'patterns': l[0].split(), 'output': l[1].split()} for l in [line.split('|') for line in open('drive/MyDrive/AoC/2021/input08.txt')]]\n",
        "\n",
        "# segments for digits 0-9\n",
        "segments = [ 'abcefg', 'cf', 'acdeg', 'acdfg', 'bcdf', 'abdfg', 'abdefg', 'acf', 'abcdefg', 'abcdfg' ]\n",
        "\n",
        "# 1 unique digits in output\n",
        "\n",
        "# segment counts by digit\n",
        "sc = dict((i, len(s)) for i, s in enumerate(segments))\n",
        "\n",
        "print(\"part 1:\", sum(1 if len(o) in [sc[1], sc[4], sc[7], sc[8]] else 0 for po in patterns_and_output for o in po['output']))\n",
        "\n",
        "\n",
        "# 2 find wiring from patterns, then translate/sort output to find the digits\n",
        "\n",
        "# Segment letters for each digit - this is what the output must be translated to!\n",
        "# 1:     c     f\n",
        "# 7: a   c     f    \n",
        "# 4:   b c d   f     \n",
        "# 5: a b   d   f g\n",
        "# 2: a   c d e   g\n",
        "# 3: a   c d   f g\n",
        "# 9: a b c d   f g\n",
        "# 0: a b c   e f g \n",
        "# 6: a b   d e f g\n",
        "# 8: a b c d e f g \n",
        "\n",
        "from functools import reduce\n",
        "\n",
        "# output: map letter in input pattern -> segments (a-g)\n",
        "def decode(patterns) -> dict:\n",
        "\n",
        "  # sort patterns by number of segments used for the digit,\n",
        "  # there are always 1 of length 2 (representing \"1\"), 1/3 (\"7\"), 1/4 (\"4\"), 3/5, 3/6, and 1 of length 7 (\"8\")\n",
        "  sp = sorted(patterns, key=lambda s: len(s))\n",
        "  len2_1_cf = sp[0]  # read: pattern of length 2 = digit \"1\" = segments c and f\n",
        "  len3_7_acf = sp[1] \n",
        "  len4_4_bcdf = sp[2]  \n",
        "  len5_235 = sp[3:6]  # read: list of patterns of length 5 (there are always 3), representing digits \"2\", \"3\", \"5\" (5 segments each)\n",
        "  len6_069 = sp[6:9]  # dito for length 6\n",
        "  len7_8_abcdefg = sp[9]\n",
        "\n",
        "  # some utilities \n",
        "\n",
        "  def s_diff(s1:str, s2:str) -> str:\n",
        "    return \"\".join(c for c in s1 if c not in s2)  \n",
        "\n",
        "  def s_inter(s1:str, s2:str) -> str:\n",
        "    return \"\".join(c for c in s1 if c in s2)\n",
        "\n",
        "  def s_union(s1:str, s2:str) -> str:\n",
        "    return \"\".join(set(s1+s2))\n",
        "\n",
        "  def chars_in(s1:str, s2:str) -> bool:\n",
        "    return sum(1 if c in s2 else 0 for c in s1) == len(s1)\n",
        "\n",
        "  # one of many possible ways of deducting the mapping of the segment codes used in output to the correct segments\n",
        "  \n",
        "  mapping = {}\n",
        "  # 1\n",
        "  seg_a = s_diff(len3_7_acf, len2_1_cf)\n",
        "  mapping[seg_a] = 'a'\n",
        "  # 2 dg = \"3\" / len5 which includes (\"1\") - \"7\"\n",
        "  seg_dg = s_diff([p for p in len5_235 if chars_in(len2_1_cf, p)][0], len3_7_acf)\n",
        "  # 3 \n",
        "  seg_bd = s_diff(len4_4_bcdf, len2_1_cf)\n",
        "  # 4\n",
        "  seg_d = s_inter(seg_dg, seg_bd)\n",
        "  mapping[seg_d] = 'd'\n",
        "  # 5\n",
        "  seg_g = s_diff(seg_dg, seg_d)\n",
        "  mapping[seg_g] = 'g'\n",
        "  # 6\n",
        "  seg_b = s_diff(seg_bd, seg_d)\n",
        "  mapping[seg_b] = 'b'\n",
        "  # 7\n",
        "  seg_eg = s_diff(len7_8_abcdefg, s_union(len3_7_acf, len4_4_bcdf))\n",
        "  # 8\n",
        "  seg_e = s_diff(seg_eg, seg_g)\n",
        "  mapping[seg_e] = 'e'\n",
        "  # 9 f = \"6\" / len 6 which has only one of the segments of \"1\" (cf) - segments a,b,d,e,g\n",
        "  seg_f = reduce(lambda p, seg: s_diff(p, seg), \n",
        "                 [seg_a, seg_b, seg_d, seg_e, seg_g], \n",
        "                 [p for p in len6_069 if len(s_inter(p, len2_1_cf)) == 1][0])\n",
        "  mapping[seg_f] = 'f'\n",
        "  # 10 \n",
        "  seg_c = s_diff(len2_1_cf, seg_f)\n",
        "  mapping[seg_c] = 'c'\n",
        "  return mapping\n",
        "\n",
        "# apply mapping to output to get correct segment codes\n",
        "def translate(output, mapping):\n",
        "  return \"\".join(mapping[o] for o in output)\n",
        "\n",
        "# sort letters in a string (needed for looking up digits by segments string)\n",
        "def s_sort(s:str) -> str:\n",
        "  return \"\".join(sorted(s))\n",
        "\n",
        "# digits by segments, it is important that the segment letters are sorted for each digit!\n",
        "digits = dict((s, d) for d, s in enumerate(segments))\n",
        "\n",
        "res = 0\n",
        "for po in patterns_and_output:\n",
        "  mapping = decode(po['patterns'])\n",
        "  decoded_output = sum(digits[s_sort(translate(output, mapping))] * pow(10, i) for i, output in enumerate(reversed(po['output'])))\n",
        "  # print(decoded_output)\n",
        "  res += decoded_output\n",
        "\n",
        "print(\"part 2:\", res)"
      ]
    },
    {
      "cell_type": "markdown",
      "metadata": {
        "id": "CCoj8v8ZM09g"
      },
      "source": [
        "9) Height map"
      ]
    },
    {
      "cell_type": "code",
      "execution_count": null,
      "metadata": {
        "colab": {
          "base_uri": "https://localhost:8080/"
        },
        "id": "1qN4FtKCM4aD",
        "outputId": "c4d82215-7dba-4846-8f74-d88583dadd69"
      },
      "outputs": [
        {
          "output_type": "stream",
          "name": "stdout",
          "text": [
            "part 1: 456\n",
            "part 2 (mutable): 1047744\n",
            "part 2 (functional): 1047744\n"
          ]
        }
      ],
      "source": [
        "heightmap = [[int(c) for c in line.strip()] for line in open('drive/MyDrive/AoC/2021/input09.txt')]\n",
        "\n",
        "h = len(heightmap)\n",
        "w = len(heightmap[0])\n",
        "\n",
        "# in the following x, y are coordinates\n",
        "# p (point), lp (low point), nb (neighbor) are tuples representing points with 2 coordinates\n",
        "# so we can write x, y = p meaning x = p[0], y = p[1]\n",
        "# low_points, nbs (neighbors), b (basin) are sets of tuples (points)\n",
        "\n",
        "# this should be memoized / cached\n",
        "def neighbors(p) -> list:\n",
        "  x, y = p\n",
        "  return [(xx, yy) \n",
        "          for yy in range(y-1, y+2) \n",
        "            for xx in range(x-1, x+2) \n",
        "              if ((xx == x) ^ (yy == y)) and xx in range(0, w) and yy in range(0, h)]\n",
        "\n",
        "def height(p) -> int:\n",
        "  x, y = p\n",
        "  return heightmap[y][x]\n",
        "\n",
        "# 1 - low points \n",
        "\n",
        "low_points = [\n",
        "  (x, y) \n",
        "  for y in range(0, h)\n",
        "    for x in range(0, w) \n",
        "      if len([p for p in neighbors((x, y)) if height(p) > height((x, y))]) == len(neighbors((x, y)))]\n",
        "\n",
        "print(\"part 1:\",\n",
        "  sum(height(p) + 1 for p in low_points))\n",
        "\n",
        "# part 2 - basins, using mutable sets\n",
        "\n",
        "def basin(point) -> set:\n",
        "  def extend_by(p):\n",
        "    basin.add(p)\n",
        "    for nb in neighbors(p):\n",
        "      if nb not in basin and height(nb) in range(height(p), 9):\n",
        "        extend_by(nb)\n",
        "  basin = set()\n",
        "  extend_by(point)\n",
        "  return basin\n",
        "\n",
        "basin_sizes = sorted([len(basin(lp)) for lp in low_points], reverse=True)\n",
        "print(\"part 2 (mutable):\", basin_sizes[0] * basin_sizes[1] * basin_sizes[2])\n",
        "\n",
        "# part 2 - basins, using functional adding to sets (return new extended set)\n",
        "\n",
        "from functools import reduce\n",
        "\n",
        "def fbasin(point) -> set:\n",
        "  def extend(basin, p) -> set:\n",
        "    return reduce(lambda ext_basin, nb: extend(ext_basin, nb) if nb not in ext_basin and height(nb) in range(height(p), 9) else ext_basin, \n",
        "                  neighbors(p),      # iterable 'looped' over\n",
        "                  set([*basin, p]))  # initial value, creates a new set (ext_basin), * explodes/unpacks the current basin\n",
        "  return extend(set(), point)\n",
        "\n",
        "fbasin_sizes = sorted([len(fbasin(lp)) for lp in low_points], reverse=True)\n",
        "print(\"part 2 (functional):\", fbasin_sizes[0] * fbasin_sizes[1] * fbasin_sizes[2])\n"
      ]
    },
    {
      "cell_type": "markdown",
      "metadata": {
        "id": "4rYx6344oOFv"
      },
      "source": [
        "10) Chunks surrounded by `(), [], {}, <>`\n"
      ]
    },
    {
      "cell_type": "code",
      "execution_count": null,
      "metadata": {
        "colab": {
          "base_uri": "https://localhost:8080/"
        },
        "id": "B1XxUnf7rujv",
        "outputId": "c9fb97d2-1573-43fd-f6ba-5c30714a1da4"
      },
      "outputs": [
        {
          "output_type": "stream",
          "name": "stdout",
          "text": [
            "part 1: 290691\n",
            "part 2: 2768166558\n"
          ]
        }
      ],
      "source": [
        "lines = [l.strip() for l in open('drive/MyDrive/AoC/2021/input10.txt')]\n",
        "opening = '([{<'\n",
        "closing = ')]}>'\n",
        "opened_by = dict([(c, opening[i]) for i, c in enumerate(closing)])\n",
        "illegal_scores = {\n",
        "    ')': 3,\n",
        "    ']': 57,\n",
        "    '}': 1197,\n",
        "    '>': 25137\n",
        "}\n",
        "# 1 - corrupted lines, find first illegal char, score the line accordingly, sum up all line scores\n",
        "\n",
        "def find_illegal_char(line):\n",
        "  stack = []\n",
        "  for ch in line:\n",
        "    if (ch in opening):\n",
        "      stack.append(ch)\n",
        "    else:  # assume closed\n",
        "      if not stack:\n",
        "        return ch\n",
        "      opened = stack.pop()\n",
        "      if opened != opened_by[ch]:\n",
        "        return ch\n",
        "  return None\n",
        "\n",
        "print(\"part 1:\", sum(illegal_scores[il] if il is not None else 0 for il in [find_illegal_char(line) for line in lines]))\n",
        "\n",
        "# 2 - discard corrupted lines, complete the remaining lines and score each line for completion chars\n",
        "\n",
        "closed_by = dict([(o, closing[i]) for i, o in enumerate(opening)])\n",
        "completion_scores = dict([(c, i+1) for i, c in enumerate(closing)])\n",
        "\n",
        "from functools import reduce\n",
        "\n",
        "def score_completion(line):\n",
        "  stack = []\n",
        "  for ch in line:\n",
        "    if (ch in opening):\n",
        "      stack.append(ch)\n",
        "    else:  # assume closed\n",
        "      if not stack:\n",
        "        return 0  # illegal\n",
        "      opened = stack.pop()\n",
        "      if opened != opened_by[ch]:\n",
        "        return 0  # illegal\n",
        "  return reduce(lambda score, o: 5 * score + completion_scores[closed_by[o]], list(reversed(stack)), 0)\n",
        "\n",
        "scores = [score_completion(line) for line in lines]\n",
        "filtered_scores = [s for s in scores if s > 0]\n",
        "\n",
        "print(\"part 2:\", sorted(filtered_scores)[int(len(filtered_scores)/2)])"
      ]
    },
    {
      "cell_type": "markdown",
      "metadata": {
        "id": "00i2u8JQvjyU"
      },
      "source": [
        "11) Flashing octopuses"
      ]
    },
    {
      "cell_type": "code",
      "execution_count": null,
      "metadata": {
        "colab": {
          "base_uri": "https://localhost:8080/"
        },
        "id": "Ky5EoCfnvjY8",
        "outputId": "7b20e213-2656-47a0-aaa3-1e50d291f747"
      },
      "outputs": [
        {
          "output_type": "stream",
          "name": "stdout",
          "text": [
            "part 1\n",
            "1200211116\n",
            "1239811111\n",
            "1116581111\n",
            "1775581111\n",
            "1754651111\n",
            "5545861111\n",
            "8457082111\n",
            "6790003122\n",
            "5569003240\n",
            "5557332200\n",
            "1673\n",
            "part 2:\n",
            "0000000000\n",
            "0000000000\n",
            "0000000000\n",
            "0000000000\n",
            "0000000000\n",
            "0000000000\n",
            "0000000000\n",
            "0000000000\n",
            "0000000000\n",
            "0000000000\n",
            "279\n"
          ]
        }
      ],
      "source": [
        "grid = [[int(c) for c in l.strip()] for l in open('drive/MyDrive/AoC/2021/input11.txt')]\n",
        "h = len(grid)\n",
        "w = len(grid[0])\n",
        "\n",
        "# this should be memoized / cached\n",
        "def neighbors(p) -> list:\n",
        "  x, y = p\n",
        "  return [(xx, yy) \n",
        "          for yy in range(y-1, y+2) \n",
        "            for xx in range(x-1, x+2) \n",
        "              if (xx != x or yy != y) and xx in range(0, w) and yy in range(0, h)]\n",
        "\n",
        "def get_energy(p) -> int:\n",
        "  x, y = p\n",
        "  return grid[y][x]\n",
        "\n",
        "# mutates grid\n",
        "def set_energy(p, energy):\n",
        "  x, y = p\n",
        "  grid[y][x] = energy\n",
        "\n",
        "# increases point p in grid by 1 (mod 10) and returns True if p's energy is now 0 (flashing)\n",
        "def inc_energy(p):\n",
        "  x, y = p\n",
        "  set_energy(p, (get_energy(p) + 1) % 10)\n",
        "  return get_energy(p) == 0\n",
        "\n",
        "def p():\n",
        "  for row in grid:\n",
        "    print(\"\".join(str(x) for x in row))\n",
        "\n",
        "# returns number of flashes in step\n",
        "def step():\n",
        "  flashing = [(x, y) for y in range(0, h) for x in range(0, w) if inc_energy((x, y))]\n",
        "  flashed = flashing\n",
        "  flashes = len(flashing)\n",
        "  while flashing:\n",
        "    increasing = [nb for p in flashing for nb in neighbors(p) if nb not in flashed]\n",
        "    flashing = [p for p in increasing if get_energy(p) > 0 and inc_energy(p)]\n",
        "    # p()\n",
        "    flashed += flashing\n",
        "    flashes += len(flashing)\n",
        "  return flashes\n",
        "\n",
        "# part 1 - how many flashes in 100 steps\n",
        "flashes = 0\n",
        "for i in range(0, 100):\n",
        "#  print(i+1)\n",
        "  flashes += step() \n",
        "\n",
        "print(\"part 1\")\n",
        "p()\n",
        "print(flashes)\n",
        "\n",
        "# part 2 - when do all octopuses flash simultaneously\n",
        "steps = 100  # from part 1\n",
        "while sum(sum(row) for row in grid) > 0:\n",
        "  steps += 1\n",
        "  step()\n",
        "\n",
        "print(\"part 2:\")\n",
        "p()\n",
        "print(steps)"
      ]
    },
    {
      "cell_type": "code",
      "execution_count": null,
      "metadata": {
        "id": "GaLALjX-pyeP"
      },
      "outputs": [],
      "source": [
        "# functional\n",
        "\n",
        "# this should be memoized / cached\n",
        "def neighbors(grid, p) -> list:\n",
        "  h = len(grid)\n",
        "  w = len(grid[0])\n",
        "  x, y = p\n",
        "  return [(xx, yy) \n",
        "          for yy in range(y-1, y+2) \n",
        "            for xx in range(x-1, x+2) \n",
        "              if (xx != x or yy != y) and xx in range(0, w) and yy in range(0, h)]\n",
        "\n",
        "def energy(grid, p):\n",
        "  x, y = p\n",
        "  return grid[y][x]\n",
        "\n",
        "def p(grid):\n",
        "  for row in grid:\n",
        "    print(\"\".join(str(e) for e in row))\n",
        "\n",
        "# TODO Something does not match the (working) non-functional approach above. Too many flashes in part 1, endless iteration in part 2.\n",
        "\n",
        "def inc(grid, points, inc_0s=False):\n",
        "  new_grid = [[(energy + 1) % 10 if (x, y) in points and (inc_0s or energy > 0) else energy for x, energy in enumerate(row)] for y, row in enumerate(grid)]\n",
        "  new_0s = [p for p in points if energy(new_grid, p) == 0]\n",
        "  return (new_grid, new_0s)\n",
        "\n",
        "# returns: new grid, num flashes\n",
        "def step(gf):\n",
        "  grid, flashes = gf\n",
        "  h = len(grid)\n",
        "  w = len(grid[0])\n",
        "  increasing = [(x, y) for y in range(0, h) for x in range(0, w)]  # initially, increase energy for all points\n",
        "  grid, flashing = inc(grid, increasing, inc_0s=True)\n",
        "  flashed = flashing\n",
        "  flashes += len(flashing)\n",
        "  while flashing:\n",
        "    increasing = [nb for p in flashing for nb in neighbors(grid, p) if nb not in flashed]\n",
        "    grid, flashing = inc(grid, increasing, inc_0s=False)\n",
        "    flashed += flashing\n",
        "    flashes += len(flashing)\n",
        "  return (grid, flashes)\n",
        "\n",
        "# part 1 - how many flashes in 100 steps\n",
        "initial_grid = [[int(c) for c in l.strip()] for l in open('drive/MyDrive/AoC/2021/input11_example.txt')]\n",
        "\n",
        "from functools import reduce\n",
        "\n",
        "g, f = reduce(lambda gf, i: step(gf), range(0, 100), (initial_grid, 0))\n",
        "\n",
        "print('part 1:')\n",
        "p(g)\n",
        "print(f)\n",
        "\n",
        "# part 2 - when do all octopuses flash simultaneously\n",
        "steps = 100  # from part 1\n",
        "while sum(sum(row) for row in g) > 0:\n",
        "  steps += 1\n",
        "  g, f = step((g, f))\n",
        "\n",
        "print(\"part 2:\")\n",
        "p(g)\n",
        "print(steps)"
      ]
    },
    {
      "cell_type": "markdown",
      "source": [
        "12) Caves graph"
      ],
      "metadata": {
        "id": "4N79F7Fww6IQ"
      }
    },
    {
      "cell_type": "code",
      "source": [
        "import re\n",
        "from functools import reduce\n",
        "\n",
        "# graph = dict(node -> adjacent nodes) (nodes = caves)\n",
        "\n",
        "# adds an edge to a graph by merging adjacent nodes for both nodes of given edge \n",
        "def add_edge(adj:dict, edge:tuple) -> dict:\n",
        "  n1, n2 = edge\n",
        "  return {**adj, **{n1: adj.get(n1, []) + [n2], n2: adj.get(n2, []) + [n1]}}  # functional merge of two dicts\n",
        "\n",
        "graph = reduce(add_edge, \n",
        "               [re.fullmatch('([a-zA-Z]+)-([a-zA-Z]+)', line.strip()).groups() \\\n",
        "                for line in open('drive/MyDrive/AoC/2021/input12.txt')], \n",
        "               {})\n",
        "\n",
        "def is_small(node):\n",
        "  return node[0].islower()\n",
        "\n",
        "def is_large(node):\n",
        "  return node[0].isupper()\n",
        "\n",
        "def walk1(node, path):\n",
        "  # if node == 'end': print(path+[node])\n",
        "  return 1 if node=='end' else sum(walk1(n, path+[node]) for n in graph[node] if is_large(n) or n not in path)\n",
        "\n",
        "print('part 1:', walk1('start', []))\n",
        "\n",
        "def walk2(node, small_twice, path):\n",
        "  # if node == 'end': print(path+[node])\n",
        "  return 1 if node=='end' \\\n",
        "           else sum(walk2(n, n if is_small(n) and n in path else small_twice, path+[node]) \\\n",
        "                    for n in graph[node] \\\n",
        "                    if is_large(n) or n not in path or (small_twice is None and n != 'start'))\n",
        "\n",
        "print('part 2:', walk2('start', None, []))"
      ],
      "metadata": {
        "colab": {
          "base_uri": "https://localhost:8080/"
        },
        "id": "sALg6TtIw8l0",
        "outputId": "72e3abe7-083f-447d-ee23-b97580b6ad53"
      },
      "execution_count": null,
      "outputs": [
        {
          "output_type": "stream",
          "name": "stdout",
          "text": [
            "part 1: 4186\n",
            "part 2: 92111\n"
          ]
        }
      ]
    },
    {
      "cell_type": "markdown",
      "source": [
        "13) Folding transparent paper"
      ],
      "metadata": {
        "id": "kjQm1RPWnnxJ"
      }
    },
    {
      "cell_type": "code",
      "source": [
        "import re\n",
        "from functools import reduce\n",
        "\n",
        "dots = set([tuple([int(s) for s in line.strip().split(',')]) for line in open('drive/MyDrive/AoC/2021/input13.txt') if re.match('^\\d', line)])\n",
        "folds = [re.fullmatch('fold along ([xy])=(\\d+)', line.strip()).groups() for line in open('drive/MyDrive/AoC/2021/input13.txt') if line.startswith('fold')]\n",
        "print(\"dots :\", len(dots))\n",
        "print(\"folds:\", folds)\n",
        "\n",
        "def fold(dots, f):\n",
        "  axis, s = f\n",
        "  v = int(s)\n",
        "  return set([(x, y) if x < v else (2*v-x, y) for x, y in dots]) if axis == 'x' else set([(x, y) if y < v else (x, 2*v-y) for x, y in dots])\n",
        "\n",
        "print('part 1:', len(fold(dots, folds[0])))\n",
        "\n",
        "def p(code):\n",
        "  code_size = reduce(lambda m, dot: (max(dot[0], m[0]), max(dot[1], m[1])), code, (0, 0))\n",
        "  print(\"code size:\", code_size)\n",
        "  for y in range(0, code_size[1]+1):\n",
        "    print(\"\".join('#' if (x, y) in code else ' ' for x in range(0, code_size[0]+1)))\n",
        "\n",
        "code = reduce(fold, folds, dots)\n",
        "\n",
        "print('part 2:')\n",
        "p(code)"
      ],
      "metadata": {
        "colab": {
          "base_uri": "https://localhost:8080/"
        },
        "id": "1DejvypDnsUn",
        "outputId": "d7731826-9d1f-452a-b3c8-7aaf848ba209"
      },
      "execution_count": null,
      "outputs": [
        {
          "output_type": "stream",
          "name": "stdout",
          "text": [
            "dots : 903\n",
            "folds: [('x', '655'), ('y', '447'), ('x', '327'), ('y', '223'), ('x', '163'), ('y', '111'), ('x', '81'), ('y', '55'), ('x', '40'), ('y', '27'), ('y', '13'), ('y', '6')]\n",
            "part 1: 753\n",
            "part 2:\n",
            "code size: (38, 5)\n",
            "#  # #### #    #### #  #   ## ###  #  #\n",
            "#  #    # #    #    #  #    # #  # # # \n",
            "####   #  #    ###  ####    # #  # ##  \n",
            "#  #  #   #    #    #  #    # ###  # # \n",
            "#  # #    #    #    #  # #  # # #  # # \n",
            "#  # #### #### #### #  #  ##  #  # #  #\n"
          ]
        }
      ]
    },
    {
      "cell_type": "markdown",
      "source": [
        "14) Polymers"
      ],
      "metadata": {
        "id": "1IWP7M-kGndn"
      }
    },
    {
      "cell_type": "code",
      "source": [
        "import re\n",
        "from functools import reduce\n",
        "\n",
        "lines = [line.strip() for line in open('drive/MyDrive/AoC/2021/input14.txt')]\n",
        "template = lines[0]\n",
        "print('template:', template)\n",
        "rules = dict([re.fullmatch('([A-Z][A-Z])\\s*->\\s*([A-Z])', lines[i]).groups() for i in range (2, len(lines))])\n",
        "print('rules:', rules)\n",
        "\n",
        "# brute force\n",
        "def step(t):\n",
        "  return t[0] + \"\".join(rules[t[i:i+2]] + t[i+1] for i in range(0, len(t)-1))\n",
        "\n",
        "res = reduce(lambda iter, i: step(iter), range(0, 10), template)\n",
        "# print(res)\n",
        "\n",
        "def counts(seq):\n",
        "  return reduce(lambda c, e: {**c, **{e: c.get(e, 0) + 1}}, seq, {})\n",
        "\n",
        "c1 = counts(res)\n",
        "print(c1)\n",
        "\n",
        "print('part 1:', max(c1.values()) - min(c1.values()))\n",
        "\n",
        "# counting single char occurrences (c) and pairs (p)\n",
        "\n",
        "# helper: functional decrease value for key by delta, remove if <0\n",
        "def dec(d, key, delta):\n",
        "  return dict([(k, v - delta) if k==key else (k, v) for k, v in d.items() if k != key or v > delta])\n",
        "\n",
        "# applies rule for given pair (with occurrence of pair before step)\n",
        "# cp = pair of dicts (char counts, pair counts)\n",
        "def apply_rule(cp, pair_and_count):\n",
        "  pair, count = pair_and_count\n",
        "  c, p = cp\n",
        "  p = dec(p, pair, count)  # pair is replaced by two new pairs (new char in the middle)\n",
        "  new_c = rules[pair]\n",
        "  new_p1 = pair[0] + new_c\n",
        "  new_p2 = new_c + pair[1]\n",
        "  return ({ **c, **{new_c: c.get(new_c, 0) + count}}, { **p, **{new_p1: p.get(new_p1, 0) + count, new_p2: p.get(new_p2, 0) + count}})\n",
        "\n",
        "def step2(cp):\n",
        "  c, p = cp\n",
        "  return reduce(inc, p.items(), cp)\n",
        "\n",
        "# count chars and pairs, and iterate over them 40 times\n",
        "c2, p2 = reduce(lambda cp, i: step2(cp), range(0, 40), (counts(template), counts([template[i:i+2] for i in range (0, len(template)-1)])))\n",
        "\n",
        "print(c2, p2)\n",
        "print('part 2:', max(c2.values()) - min(c2.values()))\n"
      ],
      "metadata": {
        "colab": {
          "base_uri": "https://localhost:8080/"
        },
        "id": "ysLa_7VnGpDS",
        "outputId": "1de1bef3-d818-46f9-e9f5-d1982f9c21bb"
      },
      "execution_count": null,
      "outputs": [
        {
          "output_type": "stream",
          "name": "stdout",
          "text": [
            "template: PFVKOBSHPSPOOOCOOHBP\n",
            "rules: {'FV': 'C', 'CP': 'K', 'FS': 'K', 'VF': 'N', 'HN': 'F', 'FF': 'N', 'SS': 'K', 'VS': 'V', 'BV': 'F', 'HC': 'K', 'BP': 'F', 'OV': 'N', 'BF': 'V', 'VH': 'V', 'PF': 'N', 'FC': 'S', 'CS': 'B', 'FK': 'N', 'VK': 'H', 'FN': 'P', 'SH': 'V', 'CV': 'K', 'HP': 'K', 'HO': 'C', 'NO': 'V', 'CK': 'C', 'VB': 'S', 'OC': 'N', 'NS': 'C', 'NF': 'H', 'SF': 'N', 'NK': 'S', 'NP': 'P', 'OO': 'S', 'NH': 'C', 'BC': 'H', 'KS': 'H', 'PV': 'O', 'KO': 'K', 'OK': 'H', 'OH': 'H', 'BH': 'F', 'NB': 'B', 'FH': 'N', 'HV': 'F', 'BN': 'S', 'ON': 'V', 'CB': 'V', 'CF': 'H', 'FB': 'S', 'KF': 'S', 'PS': 'P', 'OB': 'C', 'NN': 'K', 'KV': 'C', 'BK': 'H', 'SN': 'S', 'NC': 'H', 'PK': 'B', 'PC': 'H', 'KN': 'S', 'VO': 'V', 'FO': 'K', 'CH': 'B', 'PH': 'N', 'SO': 'C', 'KH': 'S', 'HB': 'V', 'HH': 'B', 'BB': 'H', 'SC': 'V', 'HS': 'K', 'SP': 'V', 'KB': 'N', 'VN': 'H', 'HK': 'H', 'KP': 'K', 'OP': 'F', 'CO': 'B', 'VP': 'H', 'OS': 'N', 'OF': 'H', 'KK': 'N', 'CC': 'K', 'BS': 'C', 'VV': 'O', 'CN': 'H', 'PB': 'P', 'BO': 'N', 'SB': 'H', 'FP': 'F', 'SK': 'F', 'PO': 'S', 'KC': 'H', 'VC': 'H', 'NV': 'N', 'HF': 'B', 'PN': 'F', 'SV': 'K', 'PP': 'K'}\n",
            "{'P': 588, 'F': 1961, 'N': 2303, 'H': 3125, 'C': 1816, 'B': 1081, 'V': 3525, 'K': 2320, 'S': 1856, 'O': 882}\n",
            "part 1: 2937\n",
            "{'P': 603917485143, 'F': 2295667911687, 'V': 3993952303392, 'K': 2260144780364, 'O': 1032034041564, 'B': 1131432447039, 'S': 1827139961118, 'H': 3244930663904, 'C': 1853515924751, 'N': 2647985408783} {'CK': 687998821664, 'VS': 323224675306, 'NV': 688089351811, 'BH': 319557753546, 'FK': 195759995238, 'NC': 295908328213, 'KH': 601799405976, 'CS': 89985401274, 'FF': 301921991328, 'HH': 388210290451, 'SB': 161621783444, 'SF': 165028871686, 'BV': 248118206927, 'VF': 248118206927, 'HV': 243670779620, 'KV': 282742407367, 'PF': 201289112596, 'ON': 344022734642, 'FS': 61465216932, 'SC': 61465216932, 'SN': 337099624243, 'NK': 269929109564, 'FN': 604017926193, 'NH': 456878060471, 'HF': 424901984244, 'HC': 441697637414, 'VV': 1031943542802, 'KS': 669289170861, 'CB': 159190996732, 'CC': 344026964055, 'NN': 344066617169, 'FH': 159775445354, 'SH': 381722324373, 'BS': 44993461485, 'NF': 458142840993, 'FV': 245883757768, 'VN': 296073122767, 'PP': 3065997, 'VC': 30731123552, 'FP': 603907833693, 'HK': 776398538787, 'VH': 708567763065, 'VO': 1032034041563, 'VB': 323259827410, 'SK': 330050302218, 'BF': 496264903913, 'HB': 487355346018, 'KC': 534254215676, 'CV': 343894120359, 'PB': 4493435, 'PN': 402618721097, 'OV': 688011306921, 'KN': 172048501593, 'SV': 221598829817, 'SS': 168553008405, 'NS': 134971100562, 'CH': 228419620667, 'HS': 334657926291, 'KK': 4493438, 'KP': 6585452, 'BC': 22496693728, 'FC': 122935745181, 'HN': 148038161079, 'BK': 1427440, 'PK': 2092015, 'KO': 1, 'PS': 2, 'OH': 1}\n",
            "part 2: 3390034818249\n"
          ]
        }
      ]
    },
    {
      "cell_type": "markdown",
      "source": [
        "15) shortest (lowest weight) path search"
      ],
      "metadata": {
        "id": "mN0I2r7LJE7k"
      }
    },
    {
      "cell_type": "code",
      "source": [
        "# Dijkstra shortest path from (0, 0) to target node\n",
        "# We have a fully connected graph here consisting of h * w nodes where there are edges to 2-4 neighbors (2 in the corners, 3 at the borders, 4 in the middle).\n",
        "# The node values can be viewed as distance from any of its neighbors\n",
        "\n",
        "def dijkstra_dist(nodes, w1, h1, rep, goal):\n",
        "  \n",
        "  h = h1 * rep\n",
        "  w = w1 * rep\n",
        "  num_nodes = h * w\n",
        "    \n",
        "  # should be memoized ;)\n",
        "  def neighbors(p) -> list:\n",
        "    x, y = p\n",
        "    return [(x, y)\n",
        "            for x, y in [(x+1,y), (x,y+1), (x-1,y), (x,y-1)]\n",
        "                if x in range(0, w) and x in range(0, h)]\n",
        "\n",
        "  # init\n",
        "  distances = {(0, 0): 0}  # point -> distance , default interpreted as infinite\n",
        "  predecessors = {}  # point -> point , default interpreted as none\n",
        "  nodes_to_visit = set([(x, y) for y in range(0, h) for x in range(0, w)])\n",
        "  \n",
        "  def risk(v):\n",
        "    x, y = v\n",
        "    dy = int(y/h1)\n",
        "    dx = int(x/w1)\n",
        "    diff = dx + dy\n",
        "    return (nodes[(x-dx*w1, y-dy*w1)] + diff - 1) % 9 + 1\n",
        "\n",
        "  def dist_update(u, v, dists, preds):\n",
        "    alt = dists.get(u) + risk(v)\n",
        "    if alt < dists.get(v, 999999):\n",
        "      dists[v] = alt\n",
        "      preds[v] = u\n",
        "\n",
        "  while nodes_to_visit: # not empty\n",
        "    if (len(nodes_to_visit) % 1000 == 0):\n",
        "      print(len(nodes_to_visit))\n",
        "    u = min(distances.items(), key=lambda d: d[1] if d[0] in nodes_to_visit else 999999)[0] \\\n",
        "      if len(nodes_to_visit) > num_nodes/2 \\\n",
        "      else min(nodes_to_visit, key=lambda n: distances.get(n, 999999)) \n",
        "    nodes_to_visit.remove(u)\n",
        "    if u == goal:\n",
        "      break\n",
        "    for v in neighbors(u):\n",
        "      if v in nodes_to_visit:\n",
        "        dist_update(u, v, distances, predecessors)\n",
        "\n",
        "  return distances[goal]\n",
        "\n",
        "lines = [line.strip() for line in open('drive/MyDrive/AoC/2021/input15.txt')]\n",
        "h = len(lines)\n",
        "w = len(lines[0])\n",
        "nodes = dict([((x, y), int(s))  for y, line in enumerate(lines) for x, s in enumerate(line)])\n",
        "\n",
        "print('part 1:', dijkstra_dist(nodes, w, h, 1, (w-1, h-1)))\n",
        "\n",
        "### THIS IS REALLY SLOW - TAKES 2hrs FOR THE 250000 NODES OF PART 2 ### \n",
        "#print('part 2:', dijkstra_dist(nodes, w, h, 5, (5*w-1, 5*h-1)))\n"
      ],
      "metadata": {
        "colab": {
          "base_uri": "https://localhost:8080/"
        },
        "id": "TGOjiNgTI87s",
        "outputId": "8526fdf2-f1df-48ca-9c9e-aa406696c11e"
      },
      "execution_count": null,
      "outputs": [
        {
          "output_type": "stream",
          "name": "stdout",
          "text": [
            "10000\n",
            "9000\n",
            "8000\n",
            "7000\n",
            "6000\n",
            "5000\n",
            "4000\n",
            "3000\n",
            "2000\n",
            "1000\n",
            "part 1: 523\n"
          ]
        }
      ]
    },
    {
      "cell_type": "markdown",
      "source": [
        "16) Intcode"
      ],
      "metadata": {
        "id": "0GyFy5wR4pl0"
      }
    },
    {
      "cell_type": "code",
      "source": [
        "from functools import reduce\n",
        "\n",
        "# Tree classes for operators, operations, literals\n",
        "\n",
        "# Added for part 2\n",
        "\n",
        "class Operation:\n",
        "  def __init__(self, name, operation):\n",
        "    self.name = name\n",
        "    self.operation = operation\n",
        "  def name(self):\n",
        "    return self.name\n",
        "  def evaluate(self, operands):\n",
        "    return self.operation(operands)\n",
        "  def __str__(self):\n",
        "    return self.name\n",
        "  __repr__ = __str__\n",
        "\n",
        "operations = [\n",
        "  Operation('+', lambda operands: sum(o.evaluate() for o in operands)),\n",
        "  Operation('*', lambda operands: reduce(lambda product, o: product * o.evaluate(), operands, 1)),\n",
        "  Operation('min', lambda operands: min(o.evaluate() for o in operands)),\n",
        "  Operation('max', lambda operands: max(o.evaluate() for o in operands)),\n",
        "  None,  # literal\n",
        "  Operation('>', lambda operands: 1 if operands[0].evaluate() > operands[1].evaluate() else 0),\n",
        "  Operation('<', lambda operands: 1 if operands[0].evaluate() < operands[1].evaluate() else 0),\n",
        "  Operation('==', lambda operands: 1 if operands[0].evaluate() == operands[1].evaluate() else 0)\n",
        "]\n",
        "\n",
        "# End added for part 2\n",
        "\n",
        "class Literal:\n",
        "  def __init__(self, version, val):\n",
        "    self.version = version\n",
        "    self.val = val\n",
        "  def evaluate(self):\n",
        "    return self.val\n",
        "  def sum_version(self):\n",
        "    return self.version\n",
        "  def __str__(self):\n",
        "    # return f'{self.val}[{self.version}]'  # part 1\n",
        "    return f'{self.val}'  # part 2\n",
        "  __repr__ = __str__\n",
        "\n",
        "class Operator:\n",
        "  def __init__(self, version, type_id, operands):\n",
        "    self.version = version\n",
        "    self.type_id = type_id\n",
        "    self.operands = operands\n",
        "  def evaluate(self):\n",
        "    # return None  # part 1 (operations not yet known)\n",
        "    return operations[self.type_id].evaluate(self.operands)\n",
        "  def sum_version(self):\n",
        "    return self.version + sum(o.sum_version() for o in self.operands)\n",
        "  def __str__(self):\n",
        "    # return f\"op[{self.version},{self.type_id}]({', '.join(str(o) for o in self.operands)})\"  # part 1 (operations not yet known)\n",
        "    return f\"{operations[self.type_id]}({', '.join(str(o) for o in self.operands)})\"  # part 2\n",
        "  __repr__ = __str__\n",
        "\n",
        "# Helpers\n",
        "\n",
        "# Read n bits as int, return with rest\n",
        "def read_bits(bin_input, n):\n",
        "  return (int(bin_input[:n], 2), bin_input[n:])\n",
        "\n",
        "# Literal parsing: Lazy chunking of string into chunks of length n\n",
        "# Yields pairs of chunk and rest after chunk\n",
        "def chunked(string, chunk_len):\n",
        "  rest = string\n",
        "  while chunk_len <= len(rest):\n",
        "    chunk = rest[:chunk_len]\n",
        "    rest = rest[chunk_len:]\n",
        "    yield (chunk, rest)\n",
        "\n",
        "# Literal parsing: Lazily take from an iterable until predicate is fulfilled by\n",
        "# the next element (which is then yielded as last one)\n",
        "def takeuntil(pred, iterable):\n",
        "  i = iter(iterable)\n",
        "  n = next(i)\n",
        "  while not pred(n):\n",
        "    yield n\n",
        "    n = next(i)\n",
        "  yield n\n",
        "\n",
        "# Literal parsing: Checks if a digit chunk is the last (first bit == 0)\n",
        "# Input is a tuple (digit chunk, parsing rest), so the function can be used with takeuntil\n",
        "# on a sequence produced by chunked\n",
        "def is_last_digit(digit_and_rest) -> bool:\n",
        "  digit, _ = digit_and_rest\n",
        "  return digit[0] == '0'\n",
        "\n",
        "# Literal parsing for use with reduce, appends the binary representation of a \n",
        "# digit to the previously parsed beginning of the literal;\n",
        "# returns the new literal beginning with the rest after the chunk just added\n",
        "def append_digit(literal_and_prev_rest, digit_and_rest):\n",
        "  literal, _ = literal_and_prev_rest\n",
        "  digit, rest = digit_and_rest\n",
        "  return (literal + digit[1:len(digit)], rest)\n",
        "\n",
        "# Parsing = recursive assembly of a tree of Operators and Literals\n",
        "\n",
        "def parse_literal(version, bin_input, chunk_len):\n",
        "  literal, rest = reduce(append_digit, takeuntil(is_last_digit, chunked(bin_input, chunk_len)), ('', ''))\n",
        "  return (Literal(version, int(literal, 2)), rest)\n",
        "\n",
        "def parse_operator_with_length_limit(version, type_id, bin_input):\n",
        "  limit, rest = read_bits(bin_input, 15)\n",
        "  packets, sub_rest = parse_packets(rest[:limit])\n",
        "  assert sub_rest == ''\n",
        "  return (Operator(version, type_id, packets), rest[limit:])\n",
        "\n",
        "def parse_operator_with_operands_limit(version, type_id, bin_input):\n",
        "  limit, rest = read_bits(bin_input, 11)\n",
        "  packets, rest = parse_packets(rest, limit)\n",
        "  return (Operator(version, type_id, packets), rest)\n",
        "\n",
        "def parse_packets(bin_input, packet_limit=None):\n",
        "  packets = []\n",
        "  rest = bin_input\n",
        "  while len(rest) >= 11 and (packet_limit is None or len(packets) < packet_limit):\n",
        "    version, rest = read_bits(rest, 3)\n",
        "    type_id, rest = read_bits(rest, 3)\n",
        "    if (type_id == 4):\n",
        "      literal, rest = parse_literal(version, rest, 5)\n",
        "      packets.append(literal)\n",
        "    else: \n",
        "      len_type_id, rest = read_bits(rest, 1)\n",
        "      operator, rest = parse_operator_with_length_limit(version, type_id, rest) \\\n",
        "                  if len_type_id==0 \\\n",
        "                  else parse_operator_with_operands_limit(version, type_id, rest)\n",
        "      packets.append(operator)\n",
        "  return packets, rest\n",
        "\n",
        "hex_input = open('drive/MyDrive/AoC/2021/input16.txt').readline().strip()\n",
        "# hex_input = '9C0141080250320F1802104A08'\n",
        "\n",
        "packets, rest = parse_packets(\"\".join(format(int(d, 16), '04b') for d in hex_input))\n",
        "print(\"packets:\", packets)\n",
        "print(\"rest:\", rest)\n",
        "print(\"part 1, sum of packet versions:\", sum(p.sum_version() for p in packets))\n",
        "print(\"part 2, evaluation of packets:\", [p.evaluate() for p in packets])\n"
      ],
      "metadata": {
        "colab": {
          "base_uri": "https://localhost:8080/"
        },
        "id": "45WZNvhm4pXF",
        "outputId": "441624ea-244a-4f5d-cc21-ce79feb268cb"
      },
      "execution_count": null,
      "outputs": [
        {
          "output_type": "stream",
          "name": "stdout",
          "text": [
            "packets: [+(*(843, ==(813368, 813368)), 53943, *(<(34819, 34819), 7549566), max(11, 680, 58649361, 1258420029, 3613), +(7856267009332), *(63406121605, >(176, 64705)), 242, 119, min(658), min(62875, 2582, 96), *(716, <(1831, 1)), *(24693, >(424545, 15)), +(2, 3), *(<(234, 668770), 103076), *(<(227, 227), 3988), *(<(+(4, 15, 3), +(15, 9, 9)), 38844), *(9), min(3563, 72, 1885, 824940, 1022465), 94, *(89, ==(+(4, 15, 2), +(10, 11, 12))), *(+(9, 14, 15), +(7, 10, 6), +(11, 15, 11)), *(>(+(4, 9, 8), +(8, 10, 14)), 10), *(11889, >(77, 2640)), *(>(66148276326, 127), 18970730068), max(13, 139, 46), 9761, *(<(+(2, 14, 3), +(9, 3, 2)), 158452), *(==(64, 203), 497), +(6, 49, 1002099, 689786, 3646), +(12656205, 57796478963, 12634253), *(162, 47, 19, 98, 142), 142, min(595628, 174, 22302, 777), 3099, max(12, 1521), *(255, 86), max(780128, 33621, 59805, 177), *(<(8964053, 9), 359815), 42673, +(*(9, 10, 10), *(9, 4, 4), *(15, 13, 2)), max(+(max(*(max(min(min(min(*(max(max(+(max(min(max(min(+(+(*(*(30)))))))))))))))))))), min(4291448979, 3947), *(38, 99, 89), 3095, *(5, <(239, 3570)), max(786945), +(56542, 14, 8, 11173548), *(113, >(114, 114)), *(35368, >(4, 4)), *(13491, >(+(5, 15, 14), +(13, 5, 8))), 2222, *(104, ==(2954, 124)), *(108, 17, 227, 202))]\n",
            "rest: 0\n",
            "part 1, sum of packet versions: 989\n",
            "part 2, evaluation of packets: [7936430475134]\n"
          ]
        }
      ]
    },
    {
      "cell_type": "markdown",
      "source": [
        "17) Trajectories"
      ],
      "metadata": {
        "id": "IxXDP70ckYki"
      }
    },
    {
      "cell_type": "code",
      "source": [
        "import re\n",
        "from itertools import takewhile\n",
        "from math import sqrt\n",
        "\n",
        "input = open('drive/MyDrive/AoC/2021/input17.txt').readline().strip()\n",
        "print(input)\n",
        "tdef = [int(g) for g in re.fullmatch('target area: x=(-?\\d+)..(-?\\d+), y=(-?\\d+)..(-?\\d+)', input).groups()]\n",
        "t_min_x = tdef[0]\n",
        "t_max_x = tdef[1]\n",
        "t_min_y = tdef[2]\n",
        "t_max_y = tdef[3]\n",
        "\n",
        "def overshot_x(x):\n",
        "  return x > t_max_x\n",
        "\n",
        "def overshot_y(y):\n",
        "  return y < t_min_y\n",
        "\n",
        "def overshot(p):\n",
        "  x, y = p\n",
        "  return overshot_x(x) or overshot_y(y)\n",
        "\n",
        "def simulate(x, y, vx, vy):\n",
        "  while True:\n",
        "    x += vx\n",
        "    y += vy\n",
        "    vx = max(vx-1, 0)\n",
        "    vy -= 1\n",
        "    yield x, y\n",
        "\n",
        "def trajectory(init_vx, init_vy):\n",
        "  return [(x, y) for x, y in takewhile(lambda p: not overshot(p), simulate(0, 0, init_vx, init_vy))]\n",
        "\n",
        "def on_target(p):\n",
        "  x, y = p\n",
        "  return x in range(t_min_x, t_max_x+1) and y in range(t_min_y, t_max_y+1)\n",
        "\n",
        "def t_on_target(trajectory):\n",
        "  # we take while not overshot, so the last point must be on or before target\n",
        "  return on_target(trajectory[-1]) \n",
        "\n",
        "def get_max_y(trajectory):\n",
        "  return max(y for x, y in trajectory)\n",
        "\n",
        "# Did not have much time and concentration for this. So just brute forced it,\n",
        "# making sure to calculate all trajectories with initial velocities including\n",
        "# - all the coordinates of the target area\n",
        "#   (reaching the target in one step, covering all target fields) \n",
        "#   i. e. init_vx <= max x of the target, init_vy >= min y of the target\n",
        "# - init_vx + (init_vx-1) + ... + 1 >= min x of the target (t_min_x), \n",
        "#   <=> init_vx(init_vx+1)/2 >= t_min_x\n",
        "#   <=> init_vx^2 + init_vx - 2*t_min_x >= 0\n",
        "#   <=> positive init_vx >= (-1 + sqrt(1 + 8*t_min_x))/2 \n",
        "# - for upper bound of init_vy, just tried 100, 200 and\n",
        "#   discovered that init_vy cannot be greater than 104 by looking at the output \n",
        "#   of printing all trajectories on target\n",
        "# Then just calculated the trajectories for all initial velocities within these\n",
        "# bounds and collected the max max(y) of all trajectories hitting the target\n",
        "\n",
        "on_target = \\\n",
        "  [t for t in \n",
        "    [trajectory(init_vx, init_vy) \n",
        "      for init_vx in range(int((-1+sqrt(1+8*t_min_x))/2), t_max_x+1) \n",
        "      for init_vy in range(t_min_y, 105)]\n",
        "    if t_on_target(t)]\n",
        "\n",
        "print(\"max y if trajectory on target:\", max(get_max_y(t) for t in on_target))\n",
        "print(\"initial velocities on target:\", len(on_target))\n",
        "\n"
      ],
      "metadata": {
        "colab": {
          "base_uri": "https://localhost:8080/"
        },
        "id": "buuM77nSkaSC",
        "outputId": "6078620e-312c-4b53-e84d-ad2181735d12"
      },
      "execution_count": null,
      "outputs": [
        {
          "output_type": "stream",
          "name": "stdout",
          "text": [
            "target area: x=206..250, y=-105..-57\n",
            "max y if trajectory on target: 5460\n",
            "initial velocities on target: 3618\n"
          ]
        }
      ]
    },
    {
      "cell_type": "markdown",
      "source": [
        "18) Snailfish (Tree of pairs and literals)"
      ],
      "metadata": {
        "id": "FvW1Yf5tRtal"
      }
    },
    {
      "cell_type": "code",
      "source": [
        "import math\n",
        "from functools import reduce\n",
        "from itertools import takewhile\n",
        "\n",
        "class Node:\n",
        "  def __init__(self):\n",
        "    self.parent = None\n",
        "  def find_num_left(self):\n",
        "    return None if self.parent is None else \\\n",
        "      (self.parent.find_num_left() if self == self.parent.left else self.parent.left.find_last_number())    \n",
        "  def find_num_right(self):\n",
        "    return None if self.parent is None else \\\n",
        "      (self.parent.right.find_first_number() if self == self.parent.left else self.parent.find_num_right())  \n",
        "  def add(self, right, debug=False):\n",
        "# TODO if find_num_left()/right() above did not need self.parent, \n",
        "#  add() would not have to mutate the tree structure, i.e. no need for clone(),\n",
        "#  and explode and split could be implemented (as methods) to clone only nodes \n",
        "#  to be mutated and their ancestors (including root, and return the new root!)\n",
        "    root = Pair(self.clone(), right.clone())\n",
        "    if debug: print('after addition:', root)\n",
        "    needs_reduce = True\n",
        "    while needs_reduce:\n",
        "# To reduce a snailfish number, you must repeatedly do the first action in \n",
        "# this list that applies to the snailfish number:\n",
        "# - If any pair is nested inside four pairs, the leftmost such pair explodes. \n",
        "# - If any regular number is 10 or greater, the leftmost such regular number splits.\n",
        "      deep_pair = root.find_first_pair_at_depth(4)\n",
        "      if deep_pair is not None:\n",
        "# To explode a pair, the pair's left value is added to the first regular\n",
        "# number to the left of the exploding pair (if any), and the pair's right \n",
        "# value is added to the first regular number to the right of the exploding pair (if any).\n",
        "# Exploding pairs will always consist of two regular numbers. \n",
        "# Then, the entire exploding pair is replaced with the regular number 0.\n",
        "        l = deep_pair.find_num_left()\n",
        "        r = deep_pair.find_num_right()\n",
        "        if l is not None:\n",
        "          l.val += deep_pair.left.val\n",
        "        if r is not None:\n",
        "          r.val += deep_pair.right.val\n",
        "        lit = Literal(0)\n",
        "        lit.parent = deep_pair.parent\n",
        "        if deep_pair == deep_pair.parent.left:\n",
        "          lit.parent.left = lit\n",
        "        else:\n",
        "          lit.parent.right = lit\n",
        "        if debug: print('after explode: ', root)\n",
        "      else:\n",
        "        large_number = root.find_first_number_gte(10)\n",
        "        if large_number is not None:\n",
        "# To split a regular number, replace it with a pair; \n",
        "# the left element of the pair should be the regular number divided by two and rounded down, \n",
        "# while the right element of the pair should be the regular number divided by two and rounded up.\n",
        "          pair = Pair(Literal(math.floor(large_number.val/2)), Literal(math.ceil(large_number.val/2)))\n",
        "          pair.parent = large_number.parent\n",
        "          if large_number == large_number.parent.left:\n",
        "            pair.parent.left = pair\n",
        "          else:\n",
        "            pair.parent.right = pair\n",
        "          if debug: print('after split:   ', root)\n",
        "        else:\n",
        "          needs_reduce = False\n",
        "    return root\n",
        "\n",
        "class Literal(Node):\n",
        "  def __init__(self, val):\n",
        "    Node.__init__(self)\n",
        "    self.val = val\n",
        "  def clone(self):\n",
        "    return Literal(self.val)\n",
        "  def find_first_number_gte(self, limit):\n",
        "    return self if self.val >= limit else None\n",
        "  def find_first_pair_at_depth(self, target_depth, depth):\n",
        "    return None\n",
        "  def find_first_number(self):\n",
        "    return self\n",
        "  def find_last_number(self):\n",
        "    return self\n",
        "  def magnitude(self):\n",
        "    return self.val\n",
        "  def __str__(self):\n",
        "    return f'{self.val}'\n",
        "  __repr__ = __str__\n",
        "\n",
        "class Pair(Node):\n",
        "  def __init__(self, left, right):\n",
        "    Node.__init__(self)\n",
        "    self.left = left\n",
        "    self.right = right\n",
        "    self.left.parent = self\n",
        "    self.right.parent = self\n",
        "  def clone(self):\n",
        "    return Pair(self.left.clone(), self.right.clone())\n",
        "  def find_first_number_gte(self, limit):\n",
        "    return self.left.find_first_number_gte(limit) or self.right.find_first_number_gte(limit)\n",
        "  def find_first_pair_at_depth(self, target_depth, depth=0):\n",
        "    return self if depth == target_depth else \\\n",
        "      self.left.find_first_pair_at_depth(target_depth, depth+1) or \\\n",
        "      self.right.find_first_pair_at_depth(target_depth, depth+1)\n",
        "  def find_first_number(self):\n",
        "    return self.left.find_first_number()\n",
        "  def find_last_number(self):\n",
        "    return self.right.find_last_number()\n",
        "  def magnitude(self):\n",
        "    return 3*self.left.magnitude() + 2*self.right.magnitude()\n",
        "  def __str__(self):\n",
        "    return f'[{self.left}, {self.right}]'\n",
        "  __repr__ = __str__\n",
        "\n",
        "# returns parsing result and, if depth > 0, also the rest, assuming balanced brackets and no spaces\n",
        "def parse(input, depth=0):\n",
        "  char, rest = input[0], input[1:]\n",
        "  if char == '[':\n",
        "    left, rest = parse(rest, depth+1)\n",
        "    right, rest = parse(rest[1:], depth+1)  # skip the ,\n",
        "    pair = Pair(left, right)\n",
        "    return (pair, rest[1:]) if depth > 0 else pair  # skip the ]; on root level, don't return the rest (assuming it is empty)\n",
        "  else:\n",
        "    # must be a digit\n",
        "    rest_digits = ''.join(takewhile(lambda char: char in '0123456789', rest))\n",
        "    lit = Literal(int(char + rest_digits))\n",
        "    return (lit, rest[len(rest_digits):]) if depth > 0 else lit\n",
        "\n",
        "parsed_input = [parse(line.strip()) for line in open('drive/MyDrive/AoC/2021/input18.txt')]\n",
        "print(\"input size:\", len(parsed_input))\n",
        "print(\"part 1, magnitude of sum of all:     \", reduce(Node.add, parsed_input).magnitude())\n",
        "print(\"part 2, largest m. of sum of any two:\", \n",
        "      max(left.add(right).magnitude() for left in parsed_input for right in parsed_input if left != right))"
      ],
      "metadata": {
        "id": "UTqv7QKiRw4N",
        "colab": {
          "base_uri": "https://localhost:8080/"
        },
        "outputId": "4268dd1f-dd65-4b55-fd8a-ebd7d025d5ab"
      },
      "execution_count": 141,
      "outputs": [
        {
          "output_type": "stream",
          "name": "stdout",
          "text": [
            "input size: 100\n",
            "part 1, magnitude of sum of all:      3305\n",
            "part 2, largest m. of sum of any two: 4563\n"
          ]
        }
      ]
    }
  ],
  "metadata": {
    "colab": {
      "collapsed_sections": [],
      "name": "aoc2021.ipynb",
      "provenance": [],
      "mount_file_id": "1FGdyCsJksgRUjJ2DGdIN2rsgNKFsWZxp",
      "authorship_tag": "ABX9TyO3FfIYSwymcEN/nXfewYp+",
      "include_colab_link": true
    },
    "kernelspec": {
      "display_name": "Python 3",
      "name": "python3"
    },
    "language_info": {
      "name": "python"
    }
  },
  "nbformat": 4,
  "nbformat_minor": 0
}