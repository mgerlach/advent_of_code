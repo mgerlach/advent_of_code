{
  "nbformat": 4,
  "nbformat_minor": 0,
  "metadata": {
    "colab": {
      "provenance": [],
      "mount_file_id": "1bI3B0pabhjbdGYFUFznIHTbkYHhlnPKN",
      "authorship_tag": "ABX9TyNzQRMbUQuB1n2Jh0lvKJii",
      "include_colab_link": true
    },
    "kernelspec": {
      "name": "python3",
      "display_name": "Python 3"
    },
    "language_info": {
      "name": "python"
    }
  },
  "cells": [
    {
      "cell_type": "markdown",
      "metadata": {
        "id": "view-in-github",
        "colab_type": "text"
      },
      "source": [
        "<a href=\"https://colab.research.google.com/github/mgerlach/advent_of_code/blob/main/2024/aoc2024.ipynb\" target=\"_parent\"><img src=\"https://colab.research.google.com/assets/colab-badge.svg\" alt=\"Open In Colab\"/></a>"
      ]
    },
    {
      "cell_type": "markdown",
      "source": [
        "Day 01, part 1, sum of absolute diff of sorted list elements"
      ],
      "metadata": {
        "id": "OK5K0ylA-8lh"
      }
    },
    {
      "cell_type": "code",
      "source": [
        "input = [[int(i) for i in line.split()] for line in open('drive/MyDrive/AoC/2024/input01.txt')]\n",
        "n = len(input)\n",
        "l = sorted([i[0] for i in input])\n",
        "r = sorted([i[1] for i in input])\n",
        "sum([abs(l[i] - r[i]) for i in range(n)])"
      ],
      "metadata": {
        "colab": {
          "base_uri": "https://localhost:8080/"
        },
        "id": "owxfIRB-73TW",
        "outputId": "309d5173-04c2-41c7-b5d9-850923db77a7"
      },
      "execution_count": 14,
      "outputs": [
        {
          "output_type": "execute_result",
          "data": {
            "text/plain": [
              "1530215"
            ]
          },
          "metadata": {},
          "execution_count": 14
        }
      ]
    },
    {
      "cell_type": "markdown",
      "source": [
        "Day 01, part2, sum lhs elements multiplied by frequency in rhs list"
      ],
      "metadata": {
        "id": "CdcLpLnV_PML"
      }
    },
    {
      "cell_type": "code",
      "source": [
        "from collections import Counter\n",
        "l = [i[0] for i in input]\n",
        "r = [i[1] for i in input]\n",
        "r_counts = Counter(r)\n",
        "sum([l[i] * r_counts[l[i]] for i in range(n)])"
      ],
      "metadata": {
        "colab": {
          "base_uri": "https://localhost:8080/"
        },
        "id": "MTWKPqpv-Olj",
        "outputId": "4453c07f-bb60-40c3-f97b-242955ae73e6"
      },
      "execution_count": 21,
      "outputs": [
        {
          "output_type": "execute_result",
          "data": {
            "text/plain": [
              "26800609"
            ]
          },
          "metadata": {},
          "execution_count": 21
        }
      ]
    }
  ]
}