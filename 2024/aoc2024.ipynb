{
  "nbformat": 4,
  "nbformat_minor": 0,
  "metadata": {
    "colab": {
      "provenance": [],
      "mount_file_id": "https://github.com/mgerlach/advent_of_code/blob/main/2024/aoc2024.ipynb",
      "authorship_tag": "ABX9TyMLk0q6TEOSvCK7kxekfmtz",
      "include_colab_link": true
    },
    "kernelspec": {
      "name": "python3",
      "display_name": "Python 3"
    },
    "language_info": {
      "name": "python"
    }
  },
  "cells": [
    {
      "cell_type": "markdown",
      "metadata": {
        "id": "view-in-github",
        "colab_type": "text"
      },
      "source": [
        "<a href=\"https://colab.research.google.com/github/mgerlach/advent_of_code/blob/main/2024/aoc2024.ipynb\" target=\"_parent\"><img src=\"https://colab.research.google.com/assets/colab-badge.svg\" alt=\"Open In Colab\"/></a>"
      ]
    },
    {
      "cell_type": "markdown",
      "source": [
        "Global generic utils"
      ],
      "metadata": {
        "id": "NqpSHdZry-H0"
      }
    },
    {
      "cell_type": "code",
      "source": [
        "from collections import Counter\n",
        "from functools import reduce\n",
        "from itertools import groupby, islice, takewhile\n",
        "\n",
        "def vec_add(v1, v2):\n",
        "  return tuple(sum(i) for i in zip(v1, v2))\n",
        "\n",
        "def vec_sub(v1, v2):\n",
        "  return tuple(i[0] - i[1] for i in zip(v1, v2))\n",
        "\n",
        "dirs45 = [(dy, dx) for dy in [-1, 0, 1] for dx in [-1, 0, 1] if dy != 0 or dx != 0]\n",
        "\n",
        "dir_up = (-1, 0)\n",
        "dir_right = (0, 1)\n",
        "dir_down = (1, 0)\n",
        "dir_left = (0, -1)\n",
        "\n",
        "dirs90 = [dir_up, dir_right, dir_down, dir_left]\n",
        "turn_right = {dir_up: dir_right, dir_right: dir_down, dir_down: dir_left, dir_left: dir_up}\n",
        "turn_left = {dir_up: dir_left, dir_left: dir_down, dir_down: dir_right, dir_right: dir_up}\n",
        "\n",
        "def in_range(p, dimensions):\n",
        "  y, x = p\n",
        "  height, width = dimensions\n",
        "  return y >= 0 and y < height and x >= 0 and x < width\n",
        "\n",
        "def get_cell(p, grid):\n",
        "  y, x = p\n",
        "  return grid[y][x]\n",
        "\n",
        "# use with itertools islice(limit), islice(start, limit, step), takewhile(predicate, iterate(...))\n",
        "def iterate(start, func):\n",
        "  current = start\n",
        "  while True:\n",
        "    yield current\n",
        "    current = func(current)\n",
        "\n",
        "def read_grid(filename):\n",
        "  input = [line.strip() for line in open(f'drive/MyDrive/AoC/2024/{filename}.txt')]\n",
        "  height = len(input)\n",
        "  width = len(input[0])\n",
        "  return input, height, width"
      ],
      "metadata": {
        "id": "6gZpKr0ZzFrO"
      },
      "execution_count": 111,
      "outputs": []
    },
    {
      "cell_type": "markdown",
      "source": [
        "Day 01, input"
      ],
      "metadata": {
        "id": "r1TPXsFIHvfH"
      }
    },
    {
      "cell_type": "code",
      "source": [
        "input01 = [[int(i) for i in line.split()] for line in open('drive/MyDrive/AoC/2024/input01.txt')]"
      ],
      "metadata": {
        "id": "SKku640EHqzU"
      },
      "execution_count": null,
      "outputs": []
    },
    {
      "cell_type": "markdown",
      "source": [
        "Day 01, part 1, sum of absolute diff of sorted list elements"
      ],
      "metadata": {
        "id": "OK5K0ylA-8lh"
      }
    },
    {
      "cell_type": "code",
      "source": [
        "sum(abs(l - r) for (l, r) in zip(sorted(l for (l, _) in input01), sorted(r for (_, r) in input01)))"
      ],
      "metadata": {
        "colab": {
          "base_uri": "https://localhost:8080/"
        },
        "id": "owxfIRB-73TW",
        "outputId": "f7583ee1-cae1-4cad-8e42-f1d90cce0480"
      },
      "execution_count": null,
      "outputs": [
        {
          "output_type": "execute_result",
          "data": {
            "text/plain": [
              "1530215"
            ]
          },
          "metadata": {},
          "execution_count": 45
        }
      ]
    },
    {
      "cell_type": "markdown",
      "source": [
        "Day 01, part 2, sum lhs elements multiplied by frequency in rhs list"
      ],
      "metadata": {
        "id": "CdcLpLnV_PML"
      }
    },
    {
      "cell_type": "code",
      "source": [
        "from collections import Counter\n",
        "r_counts = Counter(r for (_, r) in input01)\n",
        "sum(l * r_counts[l] for (l, _) in input01)"
      ],
      "metadata": {
        "colab": {
          "base_uri": "https://localhost:8080/"
        },
        "id": "MTWKPqpv-Olj",
        "outputId": "226bff3f-6f41-4fba-d568-47d7f2aad7c1"
      },
      "execution_count": null,
      "outputs": [
        {
          "output_type": "execute_result",
          "data": {
            "text/plain": [
              "26800609"
            ]
          },
          "metadata": {},
          "execution_count": 46
        }
      ]
    },
    {
      "cell_type": "markdown",
      "source": [
        "Day 02, input"
      ],
      "metadata": {
        "id": "1L9Nb_rMHT9g"
      }
    },
    {
      "cell_type": "code",
      "source": [
        "input02 = [[int(i) for i in line.split()] for line in open('drive/MyDrive/AoC/2024/input02.txt')]"
      ],
      "metadata": {
        "id": "XFpAAU_dHRO1"
      },
      "execution_count": null,
      "outputs": []
    },
    {
      "cell_type": "markdown",
      "source": [
        "Day 02, utils"
      ],
      "metadata": {
        "id": "mvPBjJnKIIBp"
      }
    },
    {
      "cell_type": "code",
      "source": [
        "def same_sgn(deltas_line):\n",
        "  return all(deltas_line[i] * deltas_line[i+1] > 0 for i in range(len(deltas_line)-1))\n",
        "\n",
        "def delta_max(deltas_line, m):\n",
        "  return all(abs(d) <= m for d in deltas_line)"
      ],
      "metadata": {
        "id": "3scnsnVp6oAB"
      },
      "execution_count": null,
      "outputs": []
    },
    {
      "cell_type": "markdown",
      "source": [
        "Day 02, part 1, determine (all increasing or all decreasing) and deltas < 4"
      ],
      "metadata": {
        "id": "CDo_j_XGl44_"
      }
    },
    {
      "cell_type": "code",
      "source": [
        "deltas = [[line[n+1] - line[n] for n in range(len(line)-1)] for line in input02]\n",
        "\n",
        "sum(1 for deltas_line in deltas if same_sgn(deltas_line) and delta_max(deltas_line, 3))"
      ],
      "metadata": {
        "colab": {
          "base_uri": "https://localhost:8080/"
        },
        "id": "uChLkyXjJu4Q",
        "outputId": "464eb271-9978-4b0b-8fb2-ff9120513417"
      },
      "execution_count": null,
      "outputs": [
        {
          "output_type": "execute_result",
          "data": {
            "text/plain": [
              "359"
            ]
          },
          "metadata": {},
          "execution_count": 49
        }
      ]
    },
    {
      "cell_type": "markdown",
      "source": [
        "Day 02, part 2, allow removal of any single element"
      ],
      "metadata": {
        "id": "pyqz85jtYXCG"
      }
    },
    {
      "cell_type": "code",
      "source": [
        "def check_line(line):\n",
        "  deltas = [line[i+1] - line[i] for i in range(len(line)-1)]\n",
        "  return same_sgn(deltas) and delta_max(deltas, 3)\n",
        "\n",
        "def remove1(line):\n",
        "  return [line[:i] + line[i+1:] for i in range(len(line))]\n",
        "\n",
        "# part 1 regression\n",
        "# print(sum(1 for line in input02 if check_line(line)))\n",
        "\n",
        "# part 2\n",
        "sum(1 for line in input02 if check_line(line) or any(check_line(r) for r in remove1(line)))"
      ],
      "metadata": {
        "colab": {
          "base_uri": "https://localhost:8080/"
        },
        "id": "F_RiahZiKqp7",
        "outputId": "1dd8358d-7e95-4013-c2cc-429bba81813c"
      },
      "execution_count": null,
      "outputs": [
        {
          "output_type": "execute_result",
          "data": {
            "text/plain": [
              "418"
            ]
          },
          "metadata": {},
          "execution_count": 50
        }
      ]
    },
    {
      "cell_type": "markdown",
      "source": [
        "Day 03, input"
      ],
      "metadata": {
        "id": "j-Ni1FCRkrMk"
      }
    },
    {
      "cell_type": "code",
      "source": [
        "input03 = \"\".join(line for line in open('drive/MyDrive/AoC/2024/input03.txt'))"
      ],
      "metadata": {
        "id": "GFPJR9oEgR9g"
      },
      "execution_count": null,
      "outputs": []
    },
    {
      "cell_type": "markdown",
      "source": [
        "Day 03, utils"
      ],
      "metadata": {
        "id": "8OPwaByp2goY"
      }
    },
    {
      "cell_type": "code",
      "source": [
        "import re\n",
        "\n",
        "def find_mul_and_eval(instructions):\n",
        "  # regex mul\\\\((\\\\d+),(\\\\d+)\\\\)\n",
        "  matches = re.findall(\"mul\\((\\d+),(\\d+)\\)\", instructions)\n",
        "  return sum(int(x) * int(y) for (x, y) in matches)"
      ],
      "metadata": {
        "id": "Vhwgw70512ue"
      },
      "execution_count": null,
      "outputs": []
    },
    {
      "cell_type": "markdown",
      "source": [
        "Day 03, part 1, find mul(x,y) sequences, multiply and add"
      ],
      "metadata": {
        "id": "ctTUKUfAlLvJ"
      }
    },
    {
      "cell_type": "code",
      "source": [
        "# input03 = \"xmul(2,4)%&mul[3,7]!@^do_not_mul(5,5)+mul(32,64]then(mul(11,8)mul(8,5))\"\n",
        "find_mul_and_eval(input03)"
      ],
      "metadata": {
        "id": "GXsh1v2Mk07N",
        "colab": {
          "base_uri": "https://localhost:8080/"
        },
        "outputId": "30e03cef-1442-4a3f-e081-748fca3f01c8"
      },
      "execution_count": null,
      "outputs": [
        {
          "output_type": "execute_result",
          "data": {
            "text/plain": [
              "162813399"
            ]
          },
          "metadata": {},
          "execution_count": 53
        }
      ]
    },
    {
      "cell_type": "markdown",
      "source": [
        "Day 03, part 2, evaluate do() and don't() sequences"
      ],
      "metadata": {
        "id": "M3oaKPP2nPmU"
      }
    },
    {
      "cell_type": "code",
      "source": [
        "import re\n",
        "from functools import reduce\n",
        "\n",
        "def next_state(state, split):\n",
        "  s, is_active = state\n",
        "  match split:\n",
        "    case \"do()\":\n",
        "      return (s, True)\n",
        "    case \"don't()\":\n",
        "      return (s, False)\n",
        "    case _:\n",
        "      return (s + (find_mul_and_eval(split) if is_active else 0), is_active)\n",
        "\n",
        "# input03 = \"xmul(2,4)&mul[3,7]!^don't()_mul(5,5)+mul(32,64](mul(11,8)undo()?mul(8,5))\"\n",
        "# split on (do\\\\(\\\\)|don't\\\\(\\\\)) - capturing group leads to delimiters being included in result\n",
        "s, is_active = reduce(next_state, re.split(\"(do\\(\\)|don't\\(\\))\", input03), (0, True))\n",
        "s"
      ],
      "metadata": {
        "colab": {
          "base_uri": "https://localhost:8080/"
        },
        "id": "IloCNlgql80L",
        "outputId": "60fa6c4f-c045-41e8-c6ce-0048a5c48385"
      },
      "execution_count": null,
      "outputs": [
        {
          "output_type": "execute_result",
          "data": {
            "text/plain": [
              "53783319"
            ]
          },
          "metadata": {},
          "execution_count": 54
        }
      ]
    },
    {
      "cell_type": "markdown",
      "source": [
        "Day 04, input"
      ],
      "metadata": {
        "id": "mC6UgWYuvkn9"
      }
    },
    {
      "cell_type": "code",
      "source": [
        "input04, rows, cols = read_grid(\"input04\")"
      ],
      "metadata": {
        "id": "27Y3thHmvm7E"
      },
      "execution_count": 113,
      "outputs": []
    },
    {
      "cell_type": "markdown",
      "source": [
        "Day 04, part 1, find XMAS"
      ],
      "metadata": {
        "id": "8EXwD1_3cfVI"
      }
    },
    {
      "cell_type": "code",
      "source": [
        "def check_char(p, char):\n",
        "  return in_range(p, (rows, cols)) and get_cell(p, input04) == char\n",
        "\n",
        "def check(s, p, d):\n",
        "  return s == \"\" or check_char(p, s[0]) and check(s[1:], vec_add(p, d), d)\n",
        "\n",
        "def count_xmas(p):\n",
        "  return sum(1 for d in dirs45 if check(\"XMAS\", p, d))\n",
        "\n",
        "sum(count_xmas((y, x)) for y in range(rows) for x in range(cols))"
      ],
      "metadata": {
        "colab": {
          "base_uri": "https://localhost:8080/"
        },
        "id": "w2qf355Rw6lx",
        "outputId": "c3329622-fe74-408c-98a9-1c2b38f3a69a"
      },
      "execution_count": 114,
      "outputs": [
        {
          "output_type": "execute_result",
          "data": {
            "text/plain": [
              "2567"
            ]
          },
          "metadata": {},
          "execution_count": 114
        }
      ]
    },
    {
      "cell_type": "markdown",
      "source": [
        "Day 04, part 2, find\n",
        "```\n",
        "M.S\n",
        ".A.\n",
        "M.S\n",
        "```\n",
        "\n"
      ],
      "metadata": {
        "id": "9lOrBwM1jbKl"
      }
    },
    {
      "cell_type": "code",
      "source": [
        "# The pattern can only occur in 4 different variants, with 'A' at (0,0)\n",
        "patterns = [\n",
        "  (((-1, -1), 'M'), ((-1, 1), 'S'), ((1, -1), 'M'), ((1, 1), 'S')),\n",
        "  (((-1, -1), 'M'), ((-1, 1), 'M'), ((1, -1), 'S'), ((1, 1), 'S')),\n",
        "  (((-1, -1), 'S'), ((-1, 1), 'M'), ((1, -1), 'S'), ((1, 1), 'M')),\n",
        "  (((-1, -1), 'S'), ((-1, 1), 'S'), ((1, -1), 'M'), ((1, 1), 'M'))\n",
        "]\n",
        "\n",
        "# variant without range check\n",
        "def check_char_unsafe(p, char):\n",
        "  return get_cell(p, input04) == char\n",
        "\n",
        "def check_pattern(p, pattern):\n",
        "  return all(check_char_unsafe(vec_add(p, d), char) for (d, char) in pattern)\n",
        "\n",
        "# Search for A within (1, 1)...(rows-1, cols-1) and check match for all patterns\n",
        "sum(1\n",
        "    for p in [(y, x) for y in range(1, rows-1) for x in range(1, cols-1) if get_cell((y, x), input04) == 'A']\n",
        "    for pattern in patterns if check_pattern(p, pattern))"
      ],
      "metadata": {
        "colab": {
          "base_uri": "https://localhost:8080/"
        },
        "id": "vAxUvNhOjoOZ",
        "outputId": "69b78d67-4197-481c-c053-b711b11ef013"
      },
      "execution_count": 116,
      "outputs": [
        {
          "output_type": "execute_result",
          "data": {
            "text/plain": [
              "2029"
            ]
          },
          "metadata": {},
          "execution_count": 116
        }
      ]
    },
    {
      "cell_type": "markdown",
      "source": [
        "Day 05, input"
      ],
      "metadata": {
        "id": "T-GlIeI_yH0R"
      }
    },
    {
      "cell_type": "code",
      "source": [
        "input05, _, _ = read_grid(\"input05\")\n",
        "split_index = input05.index('')\n",
        "rules = [tuple(int(n) for n in rule.split('|')) for rule in input05[:split_index]]\n",
        "updates = [[int(n) for n in update.split(',')] for update in input05[split_index+1:]]"
      ],
      "metadata": {
        "id": "G_ynPO_i05nv"
      },
      "execution_count": 118,
      "outputs": []
    },
    {
      "cell_type": "markdown",
      "source": [
        "Day 05, utils\n"
      ],
      "metadata": {
        "id": "21yWpqLA1uXG"
      }
    },
    {
      "cell_type": "code",
      "source": [
        "def verify_pair(left, right):\n",
        "  \"\"\"if a rule exists, check order against it, otherwise pass\"\"\"\n",
        "  existing_rules = [rule for rule in rules if left in rule and right in rule]\n",
        "  return not existing_rules or any(rl == left and rr == right for rl, rr in existing_rules)\n",
        "\n",
        "def verify_update(update):\n",
        "  return all(verify_pair(update[i], update[j]) for i in range(len(update)-1) for j in range(i+1, len(update)))"
      ],
      "metadata": {
        "id": "3Ze94NW_zPJo"
      },
      "execution_count": 119,
      "outputs": []
    },
    {
      "cell_type": "markdown",
      "source": [
        "Day 05, part 1, find correct updates, sum up middle their elements"
      ],
      "metadata": {
        "id": "8lU7RtCR7Pbd"
      }
    },
    {
      "cell_type": "code",
      "source": [
        "sum(update[int(len(update)/2)] for update in updates if verify_update(update))"
      ],
      "metadata": {
        "colab": {
          "base_uri": "https://localhost:8080/"
        },
        "id": "qWoawq4o4l6v",
        "outputId": "a74e3d6d-c03f-4351-9693-8eea17b5fc7a"
      },
      "execution_count": 120,
      "outputs": [
        {
          "output_type": "execute_result",
          "data": {
            "text/plain": [
              "7365"
            ]
          },
          "metadata": {},
          "execution_count": 120
        }
      ]
    },
    {
      "cell_type": "markdown",
      "source": [
        "Day 05, part 2, fix updates which break the rules, sum up their middle elements"
      ],
      "metadata": {
        "id": "xlrgyrB7-6T_"
      }
    },
    {
      "cell_type": "code",
      "source": [
        "def fix_update(update_rest, fixed):\n",
        "  if not update_rest:\n",
        "    return fixed\n",
        "  if not fixed:\n",
        "    return fix_update(update_rest[1:], [update_rest[0]])\n",
        "  # find correct place for update_rest[0] in fixed\n",
        "  for i in range(len(fixed)):\n",
        "    if verify_pair(update_rest[0], fixed[i]):\n",
        "      return fix_update(update_rest[1:], fixed[:i] + [update_rest[0]] + fixed[i:])\n",
        "  return fix_update(update_rest[1:], fixed + [update_rest[0]])\n",
        "\n",
        "sum(fix_update(update, [])[int(len(update)/2)] for update in updates if not verify_update(update))"
      ],
      "metadata": {
        "colab": {
          "base_uri": "https://localhost:8080/"
        },
        "id": "e3hdrfwD-5uA",
        "outputId": "d940802a-8e61-49e8-d57e-6786c3d9192f"
      },
      "execution_count": 121,
      "outputs": [
        {
          "output_type": "execute_result",
          "data": {
            "text/plain": [
              "5770"
            ]
          },
          "metadata": {},
          "execution_count": 121
        }
      ]
    },
    {
      "cell_type": "markdown",
      "source": [
        "Day 06, input"
      ],
      "metadata": {
        "id": "c6MRgkiLphhx"
      }
    },
    {
      "cell_type": "code",
      "source": [
        "input06, height, width = read_grid(\"input06\")\n",
        "dimensions = (height, width)\n",
        "start = [(y, x) for y in range(height) for x in range(width) if get_cell((y, x), input06) == '^'][0]"
      ],
      "metadata": {
        "id": "14BPsXpkMxlv"
      },
      "execution_count": 123,
      "outputs": []
    },
    {
      "cell_type": "markdown",
      "source": [
        "Day 06, part 1, visisted cells"
      ],
      "metadata": {
        "id": "CQSuREG4NiLi"
      }
    },
    {
      "cell_type": "code",
      "source": [
        "def get_visited(grid) -> tuple[list[tuple[tuple[int, int], tuple[int, int]]], bool]:\n",
        "  dir = dir_up\n",
        "  p = start\n",
        "  visited = {(p, dir)}\n",
        "  while in_range(p, dimensions):\n",
        "    next = vec_add(p, dir)\n",
        "    if in_range(next, dimensions):\n",
        "      if get_cell(next, input06) == '#':\n",
        "        dir = turn_right[dir]\n",
        "      elif (next, dir) in visited:\n",
        "        return (visited, True)\n",
        "      else:\n",
        "        p = next\n",
        "        visited.add((p, dir))\n",
        "    else:\n",
        "      return (visited, False)\n",
        "\n",
        "visited, _ = get_visited(input06)\n",
        "len({p for (p, dir) in visited})"
      ],
      "metadata": {
        "id": "QdJqwU6xNns3",
        "outputId": "976d8035-2d5f-4732-bd12-561b0565cc10",
        "colab": {
          "base_uri": "https://localhost:8080/"
        }
      },
      "execution_count": 124,
      "outputs": [
        {
          "output_type": "execute_result",
          "data": {
            "text/plain": [
              "4711"
            ]
          },
          "metadata": {},
          "execution_count": 124
        }
      ]
    },
    {
      "cell_type": "markdown",
      "source": [
        "Day 06, part 2, find loops"
      ],
      "metadata": {
        "id": "JZE3hTy7kGux"
      }
    },
    {
      "cell_type": "code",
      "source": [
        "mutable = [[c for c in row] for row in input06]\n",
        "loops = 0\n",
        "for y in range(height):\n",
        "  # print(y, loops)\n",
        "  for x in range(width):\n",
        "    if get_cell((y, x), input06) == '.':\n",
        "      mutable[y][x] = '#'\n",
        "      _, loop = get_visited(mutable)\n",
        "      loops += loop\n",
        "      mutable[y][x] = '.'\n",
        "loops"
      ],
      "metadata": {
        "id": "vilThMk8kFpb"
      },
      "execution_count": null,
      "outputs": []
    },
    {
      "cell_type": "markdown",
      "source": [
        "Day 07, input"
      ],
      "metadata": {
        "id": "N5Tv2i1YpcsL"
      }
    },
    {
      "cell_type": "code",
      "source": [
        "# [(desired_result, [operand1, operand2, ...])]\n",
        "input07 = [\n",
        "    (int(result.strip()), [int(operand.strip()) for operand in operands.split()])\n",
        "    for (result, operands) in [[s.strip() for s in line.split(':')] for line in open('drive/MyDrive/AoC/2024/input07.txt')]]"
      ],
      "metadata": {
        "id": "EUSaUdGeQh0m"
      },
      "execution_count": null,
      "outputs": []
    },
    {
      "cell_type": "markdown",
      "source": [
        "Day 07, part 1, find valid equations with '*' and '+'"
      ],
      "metadata": {
        "id": "3k_RnofPsbB2"
      }
    },
    {
      "cell_type": "code",
      "source": [
        "def check_equation(desired_result, current_result, remaining_operands):\n",
        "  if not remaining_operands:\n",
        "    return desired_result == current_result\n",
        "  if current_result > desired_result:\n",
        "    return False\n",
        "  return check_equation(desired_result, current_result + remaining_operands[0], remaining_operands[1:]) or \\\n",
        "         check_equation(desired_result, current_result * remaining_operands[0], remaining_operands[1:])\n",
        "\n",
        "sum(desired_result for (desired_result, operands) in input07 if check_equation(desired_result, operands[0], operands[1:]))"
      ],
      "metadata": {
        "colab": {
          "base_uri": "https://localhost:8080/"
        },
        "id": "2vrLLyYjpcLN",
        "outputId": "19a66d4c-f7b8-4aba-a321-50c6be4c7b48"
      },
      "execution_count": null,
      "outputs": [
        {
          "output_type": "execute_result",
          "data": {
            "text/plain": [
              "4555081946288"
            ]
          },
          "metadata": {},
          "execution_count": 82
        }
      ]
    },
    {
      "cell_type": "markdown",
      "source": [
        "Day 07, part 2, find valid equations with '*', '+', '||' (concat)"
      ],
      "metadata": {
        "id": "ZI6Yxu_cuWQq"
      }
    },
    {
      "cell_type": "code",
      "source": [
        "from math import log10\n",
        "def check_equation2(desired_result, current_result, remaining_operands):\n",
        "  if not remaining_operands:\n",
        "    return desired_result == current_result\n",
        "  if current_result > desired_result:\n",
        "    return False\n",
        "  return check_equation2(desired_result, current_result + remaining_operands[0], remaining_operands[1:]) or \\\n",
        "         check_equation2(desired_result, current_result * remaining_operands[0], remaining_operands[1:]) or \\\n",
        "         check_equation2(desired_result, current_result * 10 ** (int(log10(remaining_operands[0])) + 1) + remaining_operands[0], remaining_operands[1:])\n",
        "         # or with strings: check_equation2(desired_result, int(f'{current_result}{remaining_operands[0]}'), remaining_operands[1:])\n",
        "\n",
        "sum(desired_result for (desired_result, operands) in input07 if check_equation2(desired_result, operands[0], operands[1:]))"
      ],
      "metadata": {
        "colab": {
          "base_uri": "https://localhost:8080/"
        },
        "id": "HLi48dqUtOr5",
        "outputId": "affc09bb-3b97-4add-9014-3ba1c1670ae2"
      },
      "execution_count": null,
      "outputs": [
        {
          "output_type": "execute_result",
          "data": {
            "text/plain": [
              "227921760109726"
            ]
          },
          "metadata": {},
          "execution_count": 83
        }
      ]
    },
    {
      "cell_type": "markdown",
      "source": [
        "Day 08, input"
      ],
      "metadata": {
        "id": "_npwXTDQzmJS"
      }
    },
    {
      "cell_type": "code",
      "source": [
        "input08, height, width = read_grid(\"input08\")\n",
        "antennas = {}\n",
        "for (name, pos) in [(input08[y][x], (y, x)) for y in range(height) for x in range(width) if input08[y][x] != '.']:\n",
        "  if name in antennas:\n",
        "    antennas[name].append(pos)\n",
        "  else:\n",
        "    antennas[name] = [pos]\n"
      ],
      "metadata": {
        "id": "u4F3xlexzshP"
      },
      "execution_count": 96,
      "outputs": []
    },
    {
      "cell_type": "markdown",
      "source": [
        "Day 08, part 1, find antinodes (unique positions)"
      ],
      "metadata": {
        "id": "pKq4640e5zb4"
      }
    },
    {
      "cell_type": "code",
      "source": [
        "def antinodes(positions):\n",
        "  return [p for p in [vec_sub(p1, vec_sub(p2, p1)) for p1 in positions for p2 in positions if p1 != p2] if in_range(p, dimensions)]\n",
        "\n",
        "len({p for a in antennas.values() for p in antinodes(a)})"
      ],
      "metadata": {
        "colab": {
          "base_uri": "https://localhost:8080/"
        },
        "id": "zbQL-Qxz31kl",
        "outputId": "8133e30d-c497-435f-8fd1-43cda0a3401d"
      },
      "execution_count": 97,
      "outputs": [
        {
          "output_type": "execute_result",
          "data": {
            "text/plain": [
              "354"
            ]
          },
          "metadata": {},
          "execution_count": 97
        }
      ]
    },
    {
      "cell_type": "markdown",
      "source": [
        "Day 08, part 2, find more antinodes (unique positions)\n"
      ],
      "metadata": {
        "id": "U1C0YD4s9vb7"
      }
    },
    {
      "cell_type": "code",
      "source": [
        "def antinodes2(positions):\n",
        "  def antinodes_for_pair(p1, p2):\n",
        "    anodes = []\n",
        "    dir = vec_sub(p2, p1)  # step\n",
        "    p = p2  # p1, p2 are antinodes themselves, but no need to add p1 as we also call this for the swapped pair\n",
        "    while in_range(p, dimensions):\n",
        "      anodes.append(p)\n",
        "      p = vec_add(p, dir)\n",
        "    return anodes\n",
        "  return {a for p1 in positions for p2 in positions if p1 != p2 for a in antinodes_for_pair(p1, p2)}\n",
        "\n",
        "len({a for p in antennas.values() for a in antinodes2(p)})"
      ],
      "metadata": {
        "colab": {
          "base_uri": "https://localhost:8080/"
        },
        "id": "Z24X9r_K8ZNk",
        "outputId": "4b975a7d-3cf4-457c-db15-4fe2f20f9e0e"
      },
      "execution_count": 98,
      "outputs": [
        {
          "output_type": "execute_result",
          "data": {
            "text/plain": [
              "1263"
            ]
          },
          "metadata": {},
          "execution_count": 98
        }
      ]
    },
    {
      "cell_type": "markdown",
      "source": [
        "Day 09, input"
      ],
      "metadata": {
        "id": "24VlGq86D4kn"
      }
    },
    {
      "cell_type": "code",
      "source": [
        "input09 = open('drive/MyDrive/AoC/2024/input09.txt').read().strip()\n",
        "# input09 = '2333133121414131402'  # example\n",
        "codes = [int(c) for c in input09 + '0']"
      ],
      "metadata": {
        "id": "zQHuKZYxD7Dx"
      },
      "execution_count": null,
      "outputs": []
    },
    {
      "cell_type": "markdown",
      "source": [
        "Day 09, part 1, fill free space with single blocks"
      ],
      "metadata": {
        "id": "-2hePse4EPnB"
      }
    },
    {
      "cell_type": "code",
      "source": [
        "drive = [block for i in range(0, len(codes)-1, 2) for block in [int(i/2)] * codes[i] + [-1] * codes[i+1]]\n",
        "i = 0\n",
        "j = len(drive) - 1\n",
        "compacted = []\n",
        "while j >= i:\n",
        "  if drive[i] >= 0:\n",
        "    compacted.append(drive[i])\n",
        "  else:\n",
        "    compacted.append(drive[j])\n",
        "    j -= 1\n",
        "    while drive[j] == -1:\n",
        "      j -= 1\n",
        "  i += 1\n",
        "\n",
        "sum(b * i for (b, i) in zip(compacted, range(len(compacted))))"
      ],
      "metadata": {
        "id": "7nFewmeCEO-e",
        "outputId": "1aea6223-beb5-45db-f5e0-8d3da2d2ed0f",
        "colab": {
          "base_uri": "https://localhost:8080/"
        }
      },
      "execution_count": null,
      "outputs": [
        {
          "output_type": "execute_result",
          "data": {
            "text/plain": [
              "6384282079460"
            ]
          },
          "metadata": {},
          "execution_count": 20
        }
      ]
    },
    {
      "cell_type": "markdown",
      "source": [
        "Day 09, part 2, fill free space with whole files"
      ],
      "metadata": {
        "id": "MODS0kwzLxzw"
      }
    },
    {
      "cell_type": "code",
      "source": [
        "### SLOW for full input!!! ###\n",
        "drive = [block for i in range(0, len(codes)-1, 2) for block in [int(i/2)] * codes[i] + [-1] * codes[i+1]]\n",
        "compacted = [b for b in drive]\n",
        "j = len(compacted) - 1\n",
        "# print(compacted)\n",
        "while j >= 0:\n",
        "  while compacted[j] == -1:\n",
        "    j -= 1\n",
        "  # found number, determine size\n",
        "  n = j\n",
        "  while compacted[n] == compacted[j]:\n",
        "    n -= 1\n",
        "  num_size = j - n\n",
        "  # look for gaps\n",
        "  i = 0\n",
        "  while (i < j):\n",
        "    while compacted[i] != -1 and i < j:\n",
        "      i += 1\n",
        "    # found gap, determine size\n",
        "    g = i\n",
        "    while compacted[g] == -1:\n",
        "      g += 1\n",
        "    gap_size = g - i\n",
        "    if (gap_size >= num_size):\n",
        "      # move\n",
        "      for k in range(num_size):\n",
        "        compacted[i + k] = compacted[j - k]\n",
        "        compacted[j - k] = -1\n",
        "        # print(compacted)\n",
        "      break\n",
        "    i = g\n",
        "\n",
        "  j = n\n",
        "\n",
        "sum((b if b >= 0 else 0) * i for (b, i) in zip(compacted, range(len(compacted))))"
      ],
      "metadata": {
        "id": "pTQwq6ojEFCM",
        "outputId": "cbaa5536-1b82-4bd2-c4e4-fa03e9f1b0b4",
        "colab": {
          "base_uri": "https://localhost:8080/"
        }
      },
      "execution_count": null,
      "outputs": [
        {
          "output_type": "execute_result",
          "data": {
            "text/plain": [
              "2858"
            ]
          },
          "metadata": {},
          "execution_count": 12
        }
      ]
    },
    {
      "cell_type": "markdown",
      "source": [
        "Day 10, input\n"
      ],
      "metadata": {
        "id": "uHIZroNiDM0-"
      }
    },
    {
      "cell_type": "code",
      "source": [
        "input10 = [[int(c) if c.isdigit() else -1 for c in line.strip()] for line in open('drive/MyDrive/AoC/2024/input10.txt')]\n",
        "height = len(input10)\n",
        "width = len(input10[0])\n",
        "dimensions = (height, width)\n",
        "trailheads = [(y, x) for y in range(height) for x in range(width) if get_cell((y, x), input10) == 0]"
      ],
      "metadata": {
        "id": "ulrsBZq2DX2-"
      },
      "execution_count": null,
      "outputs": []
    },
    {
      "cell_type": "markdown",
      "source": [
        "Day 10, depth first search for peaks (9)"
      ],
      "metadata": {
        "id": "tEW2W5QcZQTI"
      }
    },
    {
      "cell_type": "code",
      "source": [
        "from functools import reduce\n",
        "def find_peaks(p, visited, peaks):\n",
        "  if not in_range(p, dimensions) \\\n",
        "    or get_cell(p, input10) == -1 \\\n",
        "    or p in visited \\\n",
        "    or visited and get_cell(p, input10) != get_cell(visited[-1], input10) + 1:\n",
        "    return peaks\n",
        "  if get_cell(p, input10) == 9:\n",
        "    # print(visited + [p])\n",
        "    return peaks + [p]\n",
        "  return reduce(lambda ps, d: find_peaks(vec_add(p, d), visited + [p], ps), dirs90, peaks)\n"
      ],
      "metadata": {
        "id": "JilzmHArDj79"
      },
      "execution_count": null,
      "outputs": []
    },
    {
      "cell_type": "markdown",
      "source": [
        "Day 10, part 1, sum number of peaks reachable per trailhead"
      ],
      "metadata": {
        "id": "5Mng-6-fZYxI"
      }
    },
    {
      "cell_type": "code",
      "source": [
        "sum(len(set(find_peaks(p, [], []))) for p in trailheads)"
      ],
      "metadata": {
        "colab": {
          "base_uri": "https://localhost:8080/"
        },
        "id": "lBaCaS6DZdpi",
        "outputId": "61bb8bd7-d46f-4aa6-f3d4-861b89ba8c8c"
      },
      "execution_count": null,
      "outputs": [
        {
          "output_type": "execute_result",
          "data": {
            "text/plain": [
              "796"
            ]
          },
          "metadata": {},
          "execution_count": 32
        }
      ]
    },
    {
      "cell_type": "markdown",
      "source": [
        "Day 10, part 2, sum number of distinct trails to peaks per trailhead"
      ],
      "metadata": {
        "id": "Evymr9cYZguI"
      }
    },
    {
      "cell_type": "code",
      "source": [
        "sum(len(find_peaks(p, [], [])) for p in trailheads)"
      ],
      "metadata": {
        "colab": {
          "base_uri": "https://localhost:8080/"
        },
        "id": "aVweMTquZsTf",
        "outputId": "96956a65-3c11-4be6-a68f-5ae23d8385bf"
      },
      "execution_count": null,
      "outputs": [
        {
          "output_type": "execute_result",
          "data": {
            "text/plain": [
              "1942"
            ]
          },
          "metadata": {},
          "execution_count": 33
        }
      ]
    },
    {
      "cell_type": "markdown",
      "source": [
        "Day 11, input"
      ],
      "metadata": {
        "id": "cfB3m3zYbAla"
      }
    },
    {
      "cell_type": "code",
      "source": [
        "input11 = [s.strip() for s in \"8435 234 928434 14 0 7 92446 8992692\".split()]\n",
        "# input11 = [s.strip() for s in \"125 17\".split()]"
      ],
      "metadata": {
        "id": "QJQB5jz7bASf"
      },
      "execution_count": 82,
      "outputs": []
    },
    {
      "cell_type": "markdown",
      "source": [
        "Day 11, funcs"
      ],
      "metadata": {
        "id": "dfs50bhbciqR"
      }
    },
    {
      "cell_type": "code",
      "source": [
        "def blink_single(s):\n",
        "  # if s in cache:\n",
        "    # return cache[s]\n",
        "  if s == '0':\n",
        "    res = ['1']\n",
        "  elif len(s) % 2 == 0:\n",
        "    h = len(s) // 2\n",
        "    res = [s[:h], f'{int(s[h:])}']\n",
        "  else:\n",
        "    res = [f'{int(s) * 2024}']\n",
        "  #cache[s] = res\n",
        "  return res\n",
        "\n",
        "cache = {}\n",
        "cache_hits = []\n",
        "iter = {}\n",
        "def blink(line, iterations):\n",
        "  iter[iterations] = iter[iterations] + 1 if iterations in iter else 1\n",
        "  if iterations == 0:\n",
        "    return line\n",
        "  res = []\n",
        "  for i in range(len(line)):\n",
        "    key = (line[i], iterations)\n",
        "    if key in cache:\n",
        "      cache_hits.append(key)\n",
        "      b = cache[key]\n",
        "    else:\n",
        "      b = blink(blink_single(line[i]), iterations - 1)\n",
        "      cache[key] = b\n",
        "    res += b\n",
        "  return res"
      ],
      "metadata": {
        "id": "DTlDxndlciR7"
      },
      "execution_count": 81,
      "outputs": []
    },
    {
      "cell_type": "markdown",
      "source": [
        "Day 11, part 1, 25 itertions / part 2, 75 iterations"
      ],
      "metadata": {
        "id": "i0f5MqgtioxE"
      }
    },
    {
      "cell_type": "code",
      "source": [
        "iter = {}\n",
        "cache = {}\n",
        "cache_hits = []\n",
        "r = blink(input11, 25)\n",
        "# print(r)\n",
        "print(f'stones: {len(r)}')\n",
        "print(f'blink() calls: {sum(i for i in iter.values())}, by iterations to go: {iter}')\n",
        "print(f'cache entries: {len(cache)}, cache size (number of strings, regardless of length): {sum(len(v) for v in cache.values())}')\n",
        "print(f'cache hits: {len(cache_hits)}, distinct: {len(set(cache_hits))}')"
      ],
      "metadata": {
        "colab": {
          "base_uri": "https://localhost:8080/"
        },
        "id": "fPMRBRvfds8G",
        "outputId": "cdec1648-290b-44b7-90eb-eb8e1d45adcc"
      },
      "execution_count": 83,
      "outputs": [
        {
          "output_type": "stream",
          "name": "stdout",
          "text": [
            "stones: 182081\n",
            "blink() calls: 3645, by iterations to go: {25: 1, 24: 8, 23: 10, 22: 13, 21: 19, 20: 27, 19: 32, 18: 43, 17: 55, 16: 68, 15: 85, 14: 92, 13: 111, 12: 114, 11: 123, 10: 151, 9: 156, 8: 183, 7: 200, 6: 213, 5: 238, 4: 268, 3: 319, 2: 326, 1: 389, 0: 401}\n",
            "cache entries: 3644, cache size (number of strings, regardless of length): 1493775\n",
            "cache hits: 1533, distinct: 476\n"
          ]
        }
      ]
    },
    {
      "cell_type": "markdown",
      "source": [
        "Day 12, input"
      ],
      "metadata": {
        "id": "L9907uoPDcsm"
      }
    },
    {
      "cell_type": "code",
      "source": [
        "grid, dimensions = read_lines(\"input12\")\n",
        "# grid=['AAAA','BBCD','BBCC','EEEC']\n",
        "# grid=['OOOOO','OXOXO','OOOOO','OXOXO','OOOOO']\n",
        "# dimensions=(len(grid), len(grid[0]))\n",
        "width, height = dimensions"
      ],
      "metadata": {
        "id": "aalsa-dy5ZvV"
      },
      "execution_count": 92,
      "outputs": []
    },
    {
      "cell_type": "markdown",
      "source": [
        "Day 12, part 1, areas * perimeters"
      ],
      "metadata": {
        "id": "3kANSv14R0IL"
      }
    },
    {
      "cell_type": "code",
      "source": [
        "def perimeter(p, grid):\n",
        "  c = get_cell(p, grid)\n",
        "  return sum(0 if in_range(vec_add(p, d), dimensions) and get_cell(vec_add(p, d), grid) == c else 1 for d in dirs90)\n",
        "\n",
        "global_visited = set()\n",
        "\n",
        "def region(p, grid):\n",
        "  c = get_cell(p, grid)\n",
        "  visited = set()\n",
        "\n",
        "  def collect(p):\n",
        "    if p in global_visited or p in visited or not in_range(p, dimensions) or get_cell(p, grid) != c:\n",
        "      return\n",
        "    visited.add(p)\n",
        "    global_visited.add(p)\n",
        "    for d in dirs90:\n",
        "       collect(vec_add(p, d))\n",
        "\n",
        "  collect(p)\n",
        "  return c, visited\n",
        "\n",
        "regions = [region(p, grid) for p in [(y, x) for y in range(height) for x in range(width)] if not p in global_visited]\n",
        "# print(regions)\n",
        "\n",
        "# len(r) = area of region r (consisting of all points for the region) with char c\n",
        "sum(sum(perimeter(p, grid) for p in r) * len(r) for (c, r) in regions)\n"
      ],
      "metadata": {
        "id": "bawcOtASR26A",
        "outputId": "0b866107-cfba-4bb3-e7aa-a5e8aed2ba29",
        "colab": {
          "base_uri": "https://localhost:8080/"
        }
      },
      "execution_count": 94,
      "outputs": [
        {
          "output_type": "execute_result",
          "data": {
            "text/plain": [
              "1494342"
            ]
          },
          "metadata": {},
          "execution_count": 94
        }
      ]
    },
    {
      "cell_type": "markdown",
      "source": [
        "Day 12, part 2, areas * side count"
      ],
      "metadata": {
        "id": "6st_ex4XjnTo"
      }
    },
    {
      "cell_type": "code",
      "source": [],
      "metadata": {
        "id": "SWYo8L6xbrHt"
      },
      "execution_count": null,
      "outputs": []
    }
  ]
}