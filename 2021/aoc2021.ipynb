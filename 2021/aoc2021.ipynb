{
  "nbformat": 4,
  "nbformat_minor": 0,
  "metadata": {
    "colab": {
      "name": "aoc2021.ipynb",
      "provenance": [],
      "collapsed_sections": [],
      "mount_file_id": "1FGdyCsJksgRUjJ2DGdIN2rsgNKFsWZxp",
      "authorship_tag": "ABX9TyN9o5uin+IpmrtZ161YNcn4",
      "include_colab_link": true
    },
    "kernelspec": {
      "name": "python3",
      "display_name": "Python 3"
    },
    "language_info": {
      "name": "python"
    }
  },
  "cells": [
    {
      "cell_type": "markdown",
      "metadata": {
        "id": "view-in-github",
        "colab_type": "text"
      },
      "source": [
        "<a href=\"https://colab.research.google.com/github/mgerlach/advent_of_code/blob/main/2021/aoc2021.ipynb\" target=\"_parent\"><img src=\"https://colab.research.google.com/assets/colab-badge.svg\" alt=\"Open In Colab\"/></a>"
      ]
    },
    {
      "cell_type": "markdown",
      "metadata": {
        "id": "Y68psGPX-f10"
      },
      "source": [
        "1) number of increments, window length 1 (part 1), window length 3 (part 2)"
      ]
    },
    {
      "cell_type": "code",
      "metadata": {
        "colab": {
          "base_uri": "https://localhost:8080/"
        },
        "id": "oIEwfUSo9ea6",
        "outputId": "0fe396ec-a608-4ad9-87ca-e97278ffc356"
      },
      "source": [
        "wl = 1  # window length, use 3 for part 2\n",
        "inc = 0 # increments\n",
        "\n",
        "m = [int(line) for line in open('drive/MyDrive/AoC/2021/input01.txt')]\n",
        "\n",
        "for i in range(0, len(m) - wl):\n",
        "  if m[i] < m[i+wl]:\n",
        "    inc += 1\n",
        "\n",
        "inc"
      ],
      "execution_count": null,
      "outputs": [
        {
          "output_type": "execute_result",
          "data": {
            "text/plain": [
              "1722"
            ]
          },
          "metadata": {},
          "execution_count": 2
        }
      ]
    },
    {
      "cell_type": "markdown",
      "metadata": {
        "id": "HbPVnHoO_Qfq"
      },
      "source": [
        "2) horizontal/depth course"
      ]
    },
    {
      "cell_type": "code",
      "metadata": {
        "colab": {
          "base_uri": "https://localhost:8080/"
        },
        "id": "Uhtw1KOy_Ur4",
        "outputId": "fe7c1d18-a3c3-4956-f35c-40c3b60beb9a"
      },
      "source": [
        "prog = [line.split() for line in open('drive/MyDrive/AoC/2021/input02.txt')]  # 0=cmd 1=amount\n",
        "h = 0\n",
        "d = 0\n",
        "for instr in prog:\n",
        "  cmd = instr[0]\n",
        "  amount = int(instr[1])\n",
        "  if cmd == 'forward':\n",
        "    h += amount\n",
        "  elif cmd == 'up':\n",
        "    d -= amount\n",
        "  elif cmd == 'down':\n",
        "    d += amount\n",
        "\n",
        "h * d\n"
      ],
      "execution_count": null,
      "outputs": [
        {
          "output_type": "execute_result",
          "data": {
            "text/plain": [
              "1698735"
            ]
          },
          "metadata": {},
          "execution_count": 3
        }
      ]
    },
    {
      "cell_type": "code",
      "metadata": {
        "colab": {
          "base_uri": "https://localhost:8080/"
        },
        "id": "UtoKxNE3Cvu4",
        "outputId": "7acbb72e-ecca-48d1-f6d2-3bd3a86e17d1"
      },
      "source": [
        "prog = [line.split() for line in open('drive/MyDrive/AoC/2021/input02.txt')]  # 0=cmd 1=amount\n",
        "h = 0\n",
        "d = 0\n",
        "aim = 0 \n",
        "for instr in prog:\n",
        "  cmd = instr[0]\n",
        "  amount = int(instr[1])\n",
        "  if cmd == 'forward':\n",
        "    h += amount\n",
        "    d += aim * amount\n",
        "  elif cmd == 'up':\n",
        "    aim -= amount\n",
        "  elif cmd == 'down':\n",
        "    aim += amount\n",
        "\n",
        "h * d\n"
      ],
      "execution_count": null,
      "outputs": [
        {
          "output_type": "execute_result",
          "data": {
            "text/plain": [
              "1594785890"
            ]
          },
          "metadata": {},
          "execution_count": 5
        }
      ]
    },
    {
      "cell_type": "markdown",
      "metadata": {
        "id": "eMcgDuC7NaYp"
      },
      "source": [
        "3) Most / least common bits in binary numbers represented as equal length strings"
      ]
    },
    {
      "cell_type": "code",
      "metadata": {
        "colab": {
          "base_uri": "https://localhost:8080/"
        },
        "id": "JjAW85etNptr",
        "outputId": "45c94949-74b6-4677-8892-0a6f4c5eb603"
      },
      "source": [
        "# count values per bit, keep either most common or least common value for each bit\n",
        "from functools import reduce\n",
        "\n",
        "ms = [line.strip() for line in open('drive/MyDrive/AoC/2021/input03.txt')]  # ms = measurements, binary 12 char strings\n",
        "half = len(ms)/2\n",
        "\n",
        "# count 1s in each bit position\n",
        "initial_bit_count1s = [0] * len(ms[0])\n",
        "count1s = reduce(lambda cnt1s, m: [cnt1s[i] + int(m[i]) for i, x in enumerate(cnt1s)], ms, initial_bit_count1s)\n",
        "\n",
        "most_common_bitvals = \"\".join(['1' if c > half else '0' for c in count1s])\n",
        "least_common_bitvals = \"\".join(['1' if c < half else '0' for c in count1s])  # could also invert most_common_bitvals\n",
        "\n",
        "int(most_common_bitvals, 2) * int(least_common_bitvals, 2)"
      ],
      "execution_count": null,
      "outputs": [
        {
          "output_type": "execute_result",
          "data": {
            "text/plain": [
              "4138664"
            ]
          },
          "metadata": {},
          "execution_count": 6
        }
      ]
    },
    {
      "cell_type": "code",
      "metadata": {
        "colab": {
          "base_uri": "https://localhost:8080/"
        },
        "id": "KUTwafbeVsCC",
        "outputId": "e66aeeb6-65a6-4121-912b-7e9aae9298e7"
      },
      "source": [
        "# count values for first bit, keep lines with first bit either most or least common value,\n",
        "# repeat with next bit on filtered list, repeat until only one list entry is left\n",
        "measurements = [line.strip() for line in open('drive/MyDrive/AoC/2021/input03.txt')]  # binary 12 char strings\n",
        "bits = len(measurements[0])\n",
        "\n",
        "# find the measurement according to filtermode\n",
        "# ms - measurements\n",
        "# filtermode 1 - keep numbers with bit value = most common value of the bit (equally common - keep those with 1)\n",
        "# filtermode 0 - keep numbers with bit value = least common value of the bit (equally common - keep those with 0)\n",
        "def find(ms, filtermode):\n",
        "\n",
        "  def filter(ms, bit):\n",
        "    half = len(ms)/2\n",
        "    # count 1s in bit position\n",
        "    count1s = sum([int(m[bit]) for m in ms])\n",
        "    # filter according to count1s and filtermode\n",
        "    filterval = filtermode if count1s > half else (1-filtermode if count1s < half else filtermode)\n",
        "    return [m for m in ms if int(m[bit]) == filterval]\n",
        "\n",
        "  def iter(ms, bit):\n",
        "    filtered = filter(ms, bit)\n",
        "    return filtered[0] if len(filtered) == 1 else iter(filtered, bit+1)\n",
        "\n",
        "  return iter(ms, 0)\n",
        "\n",
        "int(find(measurements, 1), 2) * int(find(measurements, 0), 2)"
      ],
      "execution_count": null,
      "outputs": [
        {
          "output_type": "execute_result",
          "data": {
            "text/plain": [
              "4273224"
            ]
          },
          "metadata": {},
          "execution_count": 4
        }
      ]
    },
    {
      "cell_type": "markdown",
      "metadata": {
        "id": "6o9nSEeb2_Bd"
      },
      "source": [
        "4) Bingo (5x5 Boards)\n"
      ]
    },
    {
      "cell_type": "code",
      "metadata": {
        "colab": {
          "base_uri": "https://localhost:8080/"
        },
        "id": "JP5HBO3T3jZr",
        "outputId": "5896c622-ab40-4b99-9fee-e28d840d9190"
      },
      "source": [
        "# Board structure\n",
        "# 2-dimensional array of pairs (2-elem lists) with left(0) = number, right(1) = marker (1 = marked, 0 = not marked)\n",
        "# The number/marker pairs are shared between all boards.\n",
        "\n",
        "from functools import reduce\n",
        "\n",
        "# Assume numbers drawn between 0 and 99 (incl.), initialize a marker object (a list length 2) for each number,\n",
        "# containing the number itself (index 0, actually only needed for display as the index of the marker object \n",
        "# already represents the number) and a marker (index 1) of value 0 if the number has not been drawn, yet, and\n",
        "# 1 if the number was drawn. These markers are shared between all the boards, such that setting the marker to 1\n",
        "# in one of the numbers, the number will appear as marked on all boards containing it.\n",
        "\n",
        "markers = [[n, 0] for n in range(0, 100)]\n",
        "boards = []\n",
        "\n",
        "for i, l in enumerate(open('drive/MyDrive/AoC/2021/input04.txt')):\n",
        "  if i == 0:\n",
        "    # The numbers that are drawn appear in the first line of the input\n",
        "    numbers = [int(s.strip()) for s in l.split(',')]\n",
        "  elif i % 6 == 1: \n",
        "    # A blank line announcing a new 5x5 board, lines 1, 7, 13, etc.\n",
        "    boards.append([])\n",
        "  else:\n",
        "    # By using the numbers on the board def. as index into markers, the marker objects are shared between all the boards\n",
        "    boards[int((i-1)/6)].append([markers[int(s.strip())] for s in l.split()])\n",
        "\n",
        "# Some helpers\n",
        "\n",
        "def mark(n):\n",
        "  markers[n][1] = 1  # marks number on all boards\n",
        "\n",
        "def rowbingo(board) -> bool:\n",
        "  # bool(list) is True if non-empty, i. e. 5 marked numbers in at least 1 row\n",
        "  return bool([row for row in board if sum([n[1] for n in row]) == 5])  \n",
        "\n",
        "def colbingo(board) -> bool:\n",
        "  # The reduce counts marked numbers (row[i][1] == 1) in all columns (i=0..4)\n",
        "  # true if 5 numbers are marked in any column\n",
        "  return 5 in reduce(lambda counts, row: [c+row[i][1] for i, c in enumerate(counts)], board, [0, 0, 0, 0, 0])\n",
        "\n",
        "def bingo(board) -> bool:\n",
        "  return rowbingo(board) or colbingo(board)\n",
        "\n",
        "def sum_unmarked(board) -> int:\n",
        "  return sum([sum([n[0] for n in row if n[1] == 0]) for row in board])\n",
        "\n",
        "def p(board):\n",
        "  for row in board:\n",
        "    print(row)\n",
        "\n",
        "# Part 1: First board to win\n",
        "bingoboards = []\n",
        "index = 0\n",
        "while len(bingoboards) == 0:\n",
        "  mark(numbers[index])\n",
        "  bingoboards = list(filter(bingo, boards))  # [board for board in boards if bingo(board)]\n",
        "  if bingoboards:\n",
        "    print(\"First board\")\n",
        "    p(bingoboards[0])\n",
        "    print(sum_unmarked(bingoboards[0]) * numbers[index])\n",
        "  else:\n",
        "    index += 1\n",
        "\n",
        "# Part 2: Last board to win\n",
        "\n",
        "# Now need to remove boards with bingo until only one left\n",
        "# (first remove the one found above)\n",
        "boards.remove(bingoboards[0])\n",
        "while len(boards) > 1:\n",
        "  # print(f\"index: {index}, number of boards: {len(boards)}\")\n",
        "  mark(numbers[index])\n",
        "  boards = [board for board in boards if not bingo(board)]  # list(filter(lambda board: not(bingo(board)), boards))\n",
        "  index += 1\n",
        "\n",
        "print(\"Last board\")\n",
        "# Go on until bingo\n",
        "while index < len(numbers):\n",
        "  mark(numbers[index])\n",
        "  if (bingo(boards[0])):\n",
        "    p(boards[0])\n",
        "    print(sum_unmarked(boards[0]) * numbers[index])\n",
        "    index = len(numbers)  # stop\n",
        "  else:\n",
        "    index += 1\n",
        "\n"
      ],
      "execution_count": null,
      "outputs": [
        {
          "output_type": "stream",
          "name": "stdout",
          "text": [
            "First board\n",
            "[[6, 0], [26, 0], [69, 1], [27, 1], [75, 0]]\n",
            "[[61, 0], [33, 1], [88, 1], [38, 0], [20, 0]]\n",
            "[[9, 1], [56, 0], [70, 0], [98, 1], [82, 0]]\n",
            "[[80, 1], [76, 0], [55, 1], [66, 1], [29, 0]]\n",
            "[[97, 1], [84, 1], [42, 1], [77, 1], [73, 1]]\n",
            "41503\n",
            "Last board\n",
            "[[94, 1], [38, 1], [96, 1], [44, 1], [46, 0]]\n",
            "[[10, 1], [14, 1], [75, 0], [97, 1], [76, 1]]\n",
            "[[7, 1], [61, 1], [56, 1], [36, 1], [1, 0]]\n",
            "[[81, 0], [67, 1], [49, 1], [78, 1], [86, 1]]\n",
            "[[31, 1], [65, 1], [88, 1], [24, 0], [63, 1]]\n",
            "3178\n"
          ]
        }
      ]
    },
    {
      "cell_type": "markdown",
      "metadata": {
        "id": "x2f2mAYv2MEX"
      },
      "source": [
        "5) Overlapping lines"
      ]
    },
    {
      "cell_type": "code",
      "metadata": {
        "colab": {
          "base_uri": "https://localhost:8080/"
        },
        "id": "Xg0ly6Ku2O2W",
        "outputId": "42cda9e8-2ca9-4f3b-fefe-6052baa607d9"
      },
      "source": [
        "# Part 1 only horizontal and vertical lines\n",
        "# Part 2 also 45 degree diagonal lines\n",
        "import re\n",
        "\n",
        "grid = {}  # maps points (x, y) to count\n",
        "\n",
        "# needed for part 2\n",
        "def sgn(x): \n",
        "  return 1 if x > 0 else (-1 if x < 0 else 0)\n",
        "\n",
        "def inc_point(x, y):\n",
        "  if (x, y) not in grid:\n",
        "    grid[(x, y)] = 1\n",
        "  else:\n",
        "    grid[(x, y)] += 1\n",
        "\n",
        "def add_line(x1, y1, x2, y2):\n",
        "  if x1==x2:\n",
        "    for y in range(min(y1,y2), max(y1,y2)+1):\n",
        "      inc_point(x1, y)\n",
        "  elif y1==y2:\n",
        "    for x in range(min(x1,x2), max(x1,x2)+1):\n",
        "      inc_point(x, y1)\n",
        "  # Part 2 - could also use this as single option without all the ifs (trusting the input) as it would cover horizontal and vertical lines, too\n",
        "  elif abs(x2-x1)==abs(y2-y1):\n",
        "    dx = sgn(x2-x1)\n",
        "    dy = sgn(y2-y1)\n",
        "    for i in range(0, abs(x2-x1)+1):\n",
        "      inc_point(x1 + i * dx, y1 + i * dy)\n",
        "\n",
        "for l in open('drive/MyDrive/AoC/2021/input05.txt'):\n",
        "  m = re.fullmatch(r\"(\\d+),(\\d+) -> (\\d+),(\\d+)\\n\", l)\n",
        "  add_line(*[int(m.group(i)) for i in [1, 2, 3, 4]])\n",
        "\n",
        "print(f\"number of points where lines overlap: {sum([1 if grid[k] > 1 else 0 for k in grid.keys()])}\")"
      ],
      "execution_count": null,
      "outputs": [
        {
          "output_type": "stream",
          "name": "stdout",
          "text": [
            "number of points where lines overlap: 22083\n"
          ]
        }
      ]
    },
    {
      "cell_type": "markdown",
      "metadata": {
        "id": "l9jzmfCsif76"
      },
      "source": [
        "6) Population growth"
      ]
    },
    {
      "cell_type": "code",
      "metadata": {
        "colab": {
          "base_uri": "https://localhost:8080/"
        },
        "id": "SKBCm2R-imKk",
        "outputId": "89f746b2-c3b4-4c3d-a7a7-c0f54bf107a8"
      },
      "source": [
        "# Part 1 naive brute force\n",
        "population = [int(timer_str) for timer_str in open('drive/MyDrive/AoC/2021/input06.txt').readline().split(',')]\n",
        "iterations = 80\n",
        "for i in range(0, iterations):\n",
        "  # print(f\"{i}: {len(population)}\")\n",
        "  new_timers = [8] * sum([1 if timer == 0 else 0 for timer in population])\n",
        "  population = [6 if timer == 0 else timer-1 for timer in population]\n",
        "  population += new_timers\n",
        "\n",
        "print(f\"{iterations}: {len(population)}\")\n"
      ],
      "execution_count": null,
      "outputs": [
        {
          "output_type": "stream",
          "name": "stdout",
          "text": [
            "80: 380612\n"
          ]
        }
      ]
    },
    {
      "cell_type": "code",
      "metadata": {
        "colab": {
          "base_uri": "https://localhost:8080/"
        },
        "id": "9uz7l56xlzie",
        "outputId": "554aeae7-c2ed-4ff1-927a-b714e8cd1f2e"
      },
      "source": [
        "# Part 2 a bit more intelligent\n",
        "pop_raw = [int(timer_str) for timer_str in open('drive/MyDrive/AoC/2021/input06.txt').readline().split(',')]\n",
        "pop_counts = [0,0,0,0,0,0,0,0,0]  # counts for timer values 0-8\n",
        "for timer in pop_raw:\n",
        "  pop_counts[timer] += 1\n",
        "iterations = 256\n",
        "for i in range(0, iterations):\n",
        "  # print(f\"{i}: {pop_counts} ({sum(pop_counts)})\")\n",
        "  new_counts = pop_counts[1:]  # decrease all from 1-8\n",
        "  new_counts[6] += pop_counts[0]  # 0s become 6s\n",
        "  pop_counts = new_counts + [pop_counts[0]]  # 0s produce new 8s\n",
        "\n",
        "print(f\"{iterations}: {pop_counts} ({sum(pop_counts)})\")\n"
      ],
      "execution_count": null,
      "outputs": [
        {
          "output_type": "stream",
          "name": "stdout",
          "text": [
            "256: [145229151101, 175734577513, 183417971628, 196504736072, 231271638229, 222902115155, 282121656192, 119339467551, 153645343459] (1710166656900)\n"
          ]
        }
      ]
    },
    {
      "cell_type": "markdown",
      "metadata": {
        "id": "0ykn752K8tQL"
      },
      "source": [
        "7) Find min diff"
      ]
    },
    {
      "cell_type": "code",
      "metadata": {
        "colab": {
          "base_uri": "https://localhost:8080/"
        },
        "id": "zzL9RSGA84Ub",
        "outputId": "e22a1f3c-45bf-4e1e-db20-a571ebf21d42"
      },
      "source": [
        "positions = [int(s) for s in open('drive/MyDrive/AoC/2021/input07.txt').readline().split(',')]\n",
        "# input = [16,1,2,0,4,2,7,1,2,14]\n",
        "print(f\"estimation(part 1): {sum(positions)/len(positions)/2}\")\n",
        "\n",
        "def consumption1(target, current):\n",
        "  return sum([abs(target - curr) for curr in current])\n",
        "\n",
        "def consumption2(target, current):\n",
        "  return sum([int(abs(target-curr)*(abs(target-curr)+1)/2) for curr in current])\n",
        "\n",
        "print(min([(i, consumption1(i, positions)) for i in range(0, len(positions))], key=lambda t: t[1]))\n",
        "print(min([(i, consumption2(i, positions)) for i in range(0, len(positions))], key=lambda t: t[1]))\n",
        "  "
      ],
      "execution_count": null,
      "outputs": [
        {
          "output_type": "stream",
          "name": "stdout",
          "text": [
            "estimation(part 1): 243.2525\n",
            "(347, 347449)\n",
            "(486, 98039527)\n"
          ]
        }
      ]
    }
  ]
}