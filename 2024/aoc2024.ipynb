{
  "nbformat": 4,
  "nbformat_minor": 0,
  "metadata": {
    "colab": {
      "provenance": [],
      "mount_file_id": "1bI3B0pabhjbdGYFUFznIHTbkYHhlnPKN",
      "authorship_tag": "ABX9TyOVh8y2v41Wtu86KAAK4pCa",
      "include_colab_link": true
    },
    "kernelspec": {
      "name": "python3",
      "display_name": "Python 3"
    },
    "language_info": {
      "name": "python"
    }
  },
  "cells": [
    {
      "cell_type": "markdown",
      "metadata": {
        "id": "view-in-github",
        "colab_type": "text"
      },
      "source": [
        "<a href=\"https://colab.research.google.com/github/mgerlach/advent_of_code/blob/main/2024/aoc2024.ipynb\" target=\"_parent\"><img src=\"https://colab.research.google.com/assets/colab-badge.svg\" alt=\"Open In Colab\"/></a>"
      ]
    },
    {
      "cell_type": "markdown",
      "source": [
        "Day 01, input"
      ],
      "metadata": {
        "id": "r1TPXsFIHvfH"
      }
    },
    {
      "cell_type": "code",
      "source": [
        "input = [[int(i) for i in line.split()] for line in open('drive/MyDrive/AoC/2024/input01.txt')]"
      ],
      "metadata": {
        "id": "SKku640EHqzU"
      },
      "execution_count": null,
      "outputs": []
    },
    {
      "cell_type": "markdown",
      "source": [
        "Day 01, part 1, sum of absolute diff of sorted list elements"
      ],
      "metadata": {
        "id": "OK5K0ylA-8lh"
      }
    },
    {
      "cell_type": "code",
      "source": [
        "sum([abs(l - r) for (l, r) in zip(sorted([l for (l, _) in input]), sorted([r for (_, r) in input]))])"
      ],
      "metadata": {
        "colab": {
          "base_uri": "https://localhost:8080/"
        },
        "id": "owxfIRB-73TW",
        "outputId": "7a050ccf-ff1c-48a1-d16e-dc08b6fd82fb"
      },
      "execution_count": null,
      "outputs": [
        {
          "output_type": "execute_result",
          "data": {
            "text/plain": [
              "1530215"
            ]
          },
          "metadata": {},
          "execution_count": 28
        }
      ]
    },
    {
      "cell_type": "markdown",
      "source": [
        "Day 01, part 2, sum lhs elements multiplied by frequency in rhs list"
      ],
      "metadata": {
        "id": "CdcLpLnV_PML"
      }
    },
    {
      "cell_type": "code",
      "source": [
        "from collections import Counter\n",
        "r_counts = Counter([r for (_, r) in input])\n",
        "sum([l * r_counts[l] for (l, _) in input])"
      ],
      "metadata": {
        "colab": {
          "base_uri": "https://localhost:8080/"
        },
        "id": "MTWKPqpv-Olj",
        "outputId": "ee21c9c6-d7d4-4909-8a89-0a56bf776755"
      },
      "execution_count": null,
      "outputs": [
        {
          "output_type": "execute_result",
          "data": {
            "text/plain": [
              "26800609"
            ]
          },
          "metadata": {},
          "execution_count": 29
        }
      ]
    },
    {
      "cell_type": "markdown",
      "source": [
        "Day 02, input"
      ],
      "metadata": {
        "id": "1L9Nb_rMHT9g"
      }
    },
    {
      "cell_type": "code",
      "source": [
        "input = [[int(i) for i in line.split()] for line in open('drive/MyDrive/AoC/2024/input02.txt')]"
      ],
      "metadata": {
        "id": "XFpAAU_dHRO1"
      },
      "execution_count": null,
      "outputs": []
    },
    {
      "cell_type": "markdown",
      "source": [
        "Day 02, part 1, part 1, determine (all increasing or all decreasing) and deltas < 4"
      ],
      "metadata": {
        "id": "mvPBjJnKIIBp"
      }
    },
    {
      "cell_type": "code",
      "source": [
        "deltas = [[line[n+1] - line[n] for n in range(len(line)-1)] for line in input]"
      ],
      "metadata": {
        "id": "9xFCJ3oVH9nX"
      },
      "execution_count": null,
      "outputs": []
    },
    {
      "cell_type": "code",
      "source": [
        "def same_sgn(deltas_line):\n",
        "  return all([deltas_line[i] * deltas_line[i+1] > 0 for i in range(len(deltas_line)-1)])"
      ],
      "metadata": {
        "id": "di6wBoYIIkvG"
      },
      "execution_count": null,
      "outputs": []
    },
    {
      "cell_type": "code",
      "source": [
        "def delta_max(deltas_line, m):\n",
        "  return all([abs(d) <= m for d in deltas_line])"
      ],
      "metadata": {
        "id": "pqb9kf6-I4Rk"
      },
      "execution_count": null,
      "outputs": []
    },
    {
      "cell_type": "code",
      "source": [
        "sum([1 if same_sgn(deltas_line) and delta_max(deltas_line, 3) else 0 for deltas_line in deltas])"
      ],
      "metadata": {
        "colab": {
          "base_uri": "https://localhost:8080/"
        },
        "id": "uChLkyXjJu4Q",
        "outputId": "1686cbc1-44c3-4abf-e3a7-3bd4e1e0c5a1"
      },
      "execution_count": null,
      "outputs": [
        {
          "output_type": "execute_result",
          "data": {
            "text/plain": [
              "359"
            ]
          },
          "metadata": {},
          "execution_count": 35
        }
      ]
    },
    {
      "cell_type": "markdown",
      "source": [
        "Day 02, part 2, allow removal of any single element"
      ],
      "metadata": {
        "id": "pyqz85jtYXCG"
      }
    },
    {
      "cell_type": "code",
      "source": [
        "def check_line(line):\n",
        "  deltas = [line[n+1] - line[n] for n in range(len(line)-1)]\n",
        "  return same_sgn(deltas) and delta_max(deltas, 3)\n",
        "\n",
        "def remove1(line):\n",
        "  return [line[:i] + line[i+1:] for i in range(len(line))]\n",
        "\n",
        "# part 1 regression\n",
        "sum([1 if check_line(line) else 0 for line in input])\n",
        "\n",
        "# part 2\n",
        "sum([1 if check_line(line) or any([check_line(r) for r in remove1(line)]) else 0 for line in input])"
      ],
      "metadata": {
        "colab": {
          "base_uri": "https://localhost:8080/"
        },
        "id": "F_RiahZiKqp7",
        "outputId": "dd8d867c-98ac-46ee-f750-898a31000621"
      },
      "execution_count": null,
      "outputs": [
        {
          "output_type": "execute_result",
          "data": {
            "text/plain": [
              "418"
            ]
          },
          "metadata": {},
          "execution_count": 46
        }
      ]
    },
    {
      "cell_type": "code",
      "source": [],
      "metadata": {
        "id": "rqCaAmMaZVeQ",
        "colab": {
          "base_uri": "https://localhost:8080/"
        },
        "outputId": "6f5a0f82-81e1-4484-b22d-76bf39da6b38"
      },
      "execution_count": null,
      "outputs": [
        {
          "output_type": "execute_result",
          "data": {
            "text/plain": [
              "datetime.date(5, 12, 30)"
            ]
          },
          "metadata": {},
          "execution_count": 10
        }
      ]
    },
    {
      "cell_type": "markdown",
      "source": [
        "Day 03, input"
      ],
      "metadata": {
        "id": "j-Ni1FCRkrMk"
      }
    },
    {
      "cell_type": "code",
      "source": [
        "from functools import reduce\n",
        "input = reduce(lambda s1, s2: s1 + s2, [line for line in open('drive/MyDrive/AoC/2024/input03.txt')], '')"
      ],
      "metadata": {
        "id": "GFPJR9oEgR9g"
      },
      "execution_count": 90,
      "outputs": []
    },
    {
      "cell_type": "markdown",
      "source": [
        "Day 03, part 1, find mul(x,y) sequences, multiply and add"
      ],
      "metadata": {
        "id": "ctTUKUfAlLvJ"
      }
    },
    {
      "cell_type": "code",
      "source": [
        "import re\n",
        "\n",
        "def find_mul_and_eval(split):\n",
        "  matches = re.findall(\"mul\\((\\d+),(\\d+)\\)\", split)\n",
        "  return sum([int(x) * int(y) for (x, y) in matches])"
      ],
      "metadata": {
        "id": "Vhwgw70512ue"
      },
      "execution_count": 95,
      "outputs": []
    },
    {
      "cell_type": "code",
      "source": [
        "# input = \"xmul(2,4)%&mul[3,7]!@^do_not_mul(5,5)+mul(32,64]then(mul(11,8)mul(8,5))\"\n",
        "find_mul_and_eval(input)"
      ],
      "metadata": {
        "id": "GXsh1v2Mk07N",
        "colab": {
          "base_uri": "https://localhost:8080/"
        },
        "outputId": "33a0d4bd-151b-40ef-b30b-d716d5fe7686"
      },
      "execution_count": 96,
      "outputs": [
        {
          "output_type": "execute_result",
          "data": {
            "text/plain": [
              "162813399"
            ]
          },
          "metadata": {},
          "execution_count": 96
        }
      ]
    },
    {
      "cell_type": "markdown",
      "source": [
        "Day 03, part 2, evaluate do() and don't() sequences"
      ],
      "metadata": {
        "id": "M3oaKPP2nPmU"
      }
    },
    {
      "cell_type": "code",
      "source": [
        "import re\n",
        "\n",
        "def next_state(state, split):\n",
        "  (sum, is_active) = state\n",
        "  match split:\n",
        "    case \"do()\":\n",
        "      return (sum, True)\n",
        "    case \"don't()\":\n",
        "      return (sum, False)\n",
        "    case _:\n",
        "      return (sum + (find_mul_and_eval(split) if is_active else 0), is_active)\n",
        "\n",
        "# input = \"xmul(2,4)&mul[3,7]!^don't()_mul(5,5)+mul(32,64](mul(11,8)undo()?mul(8,5))\"\n",
        "reduce(next_state, re.split(\"(do\\(\\)|don't\\(\\))\", input), (0, True))[0]"
      ],
      "metadata": {
        "colab": {
          "base_uri": "https://localhost:8080/"
        },
        "id": "IloCNlgql80L",
        "outputId": "beb03d60-6753-4ba8-9730-2e3c1e2b1878"
      },
      "execution_count": 97,
      "outputs": [
        {
          "output_type": "execute_result",
          "data": {
            "text/plain": [
              "53783319"
            ]
          },
          "metadata": {},
          "execution_count": 97
        }
      ]
    }
  ]
}