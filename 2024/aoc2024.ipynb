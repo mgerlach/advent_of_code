{
  "nbformat": 4,
  "nbformat_minor": 0,
  "metadata": {
    "colab": {
      "provenance": [],
      "mount_file_id": "1bI3B0pabhjbdGYFUFznIHTbkYHhlnPKN",
      "authorship_tag": "ABX9TyNFYgHVo5srAKThM46il1MQ",
      "include_colab_link": true
    },
    "kernelspec": {
      "name": "python3",
      "display_name": "Python 3"
    },
    "language_info": {
      "name": "python"
    }
  },
  "cells": [
    {
      "cell_type": "markdown",
      "metadata": {
        "id": "view-in-github",
        "colab_type": "text"
      },
      "source": [
        "<a href=\"https://colab.research.google.com/github/mgerlach/advent_of_code/blob/main/2024/aoc2024.ipynb\" target=\"_parent\"><img src=\"https://colab.research.google.com/assets/colab-badge.svg\" alt=\"Open In Colab\"/></a>"
      ]
    },
    {
      "cell_type": "markdown",
      "source": [
        "Day 01, input"
      ],
      "metadata": {
        "id": "r1TPXsFIHvfH"
      }
    },
    {
      "cell_type": "code",
      "source": [
        "input01 = [[int(i) for i in line.split()] for line in open('drive/MyDrive/AoC/2024/input01.txt')]"
      ],
      "metadata": {
        "id": "SKku640EHqzU"
      },
      "execution_count": null,
      "outputs": []
    },
    {
      "cell_type": "markdown",
      "source": [
        "Day 01, part 1, sum of absolute diff of sorted list elements"
      ],
      "metadata": {
        "id": "OK5K0ylA-8lh"
      }
    },
    {
      "cell_type": "code",
      "source": [
        "sum(abs(l - r) for (l, r) in zip(sorted(l for (l, _) in input01), sorted(r for (_, r) in input01)))"
      ],
      "metadata": {
        "colab": {
          "base_uri": "https://localhost:8080/"
        },
        "id": "owxfIRB-73TW",
        "outputId": "f67bdcd9-1067-435c-ac6f-f7543e184870"
      },
      "execution_count": null,
      "outputs": [
        {
          "output_type": "execute_result",
          "data": {
            "text/plain": [
              "1530215"
            ]
          },
          "metadata": {},
          "execution_count": 82
        }
      ]
    },
    {
      "cell_type": "markdown",
      "source": [
        "Day 01, part 2, sum lhs elements multiplied by frequency in rhs list"
      ],
      "metadata": {
        "id": "CdcLpLnV_PML"
      }
    },
    {
      "cell_type": "code",
      "source": [
        "from collections import Counter\n",
        "r_counts = Counter(r for (_, r) in input01)\n",
        "sum(l * r_counts[l] for (l, _) in input01)"
      ],
      "metadata": {
        "colab": {
          "base_uri": "https://localhost:8080/"
        },
        "id": "MTWKPqpv-Olj",
        "outputId": "1c12a56a-51c2-40a0-9ed1-1283735a67fd"
      },
      "execution_count": null,
      "outputs": [
        {
          "output_type": "execute_result",
          "data": {
            "text/plain": [
              "26800609"
            ]
          },
          "metadata": {},
          "execution_count": 83
        }
      ]
    },
    {
      "cell_type": "markdown",
      "source": [
        "Day 02, input"
      ],
      "metadata": {
        "id": "1L9Nb_rMHT9g"
      }
    },
    {
      "cell_type": "code",
      "source": [
        "input02 = [[int(i) for i in line.split()] for line in open('drive/MyDrive/AoC/2024/input02.txt')]"
      ],
      "metadata": {
        "id": "XFpAAU_dHRO1"
      },
      "execution_count": 10,
      "outputs": []
    },
    {
      "cell_type": "markdown",
      "source": [
        "Day 02, part 1, part 1, determine (all increasing or all decreasing) and deltas < 4"
      ],
      "metadata": {
        "id": "mvPBjJnKIIBp"
      }
    },
    {
      "cell_type": "code",
      "source": [
        "deltas = [[line[n+1] - line[n] for n in range(len(line)-1)] for line in input02]"
      ],
      "metadata": {
        "id": "9xFCJ3oVH9nX"
      },
      "execution_count": 11,
      "outputs": []
    },
    {
      "cell_type": "code",
      "source": [
        "def same_sgn(deltas_line):\n",
        "  return all(deltas_line[i] * deltas_line[i+1] > 0 for i in range(len(deltas_line)-1))"
      ],
      "metadata": {
        "id": "di6wBoYIIkvG"
      },
      "execution_count": 12,
      "outputs": []
    },
    {
      "cell_type": "code",
      "source": [
        "def delta_max(deltas_line, m):\n",
        "  return all(abs(d) <= m for d in deltas_line)"
      ],
      "metadata": {
        "id": "pqb9kf6-I4Rk"
      },
      "execution_count": 13,
      "outputs": []
    },
    {
      "cell_type": "code",
      "source": [
        "sum(1 for deltas_line in deltas if same_sgn(deltas_line) and delta_max(deltas_line, 3))"
      ],
      "metadata": {
        "colab": {
          "base_uri": "https://localhost:8080/"
        },
        "id": "uChLkyXjJu4Q",
        "outputId": "54d59658-eee7-4add-9eb0-f145a1489a78"
      },
      "execution_count": 14,
      "outputs": [
        {
          "output_type": "execute_result",
          "data": {
            "text/plain": [
              "359"
            ]
          },
          "metadata": {},
          "execution_count": 14
        }
      ]
    },
    {
      "cell_type": "markdown",
      "source": [
        "Day 02, part 2, allow removal of any single element"
      ],
      "metadata": {
        "id": "pyqz85jtYXCG"
      }
    },
    {
      "cell_type": "code",
      "source": [
        "def check_line(line):\n",
        "  deltas = [line[n+1] - line[n] for n in range(len(line)-1)]\n",
        "  return same_sgn(deltas) and delta_max(deltas, 3)\n",
        "\n",
        "def remove1(line):\n",
        "  return [line[:i] + line[i+1:] for i in range(len(line))]\n",
        "\n",
        "# part 1 regression\n",
        "sum(1 if check_line(line) else 0 for line in input02)\n",
        "\n",
        "# part 2\n",
        "sum(1 for line in input02 if check_line(line) or any(check_line(r) for r in remove1(line)))"
      ],
      "metadata": {
        "colab": {
          "base_uri": "https://localhost:8080/"
        },
        "id": "F_RiahZiKqp7",
        "outputId": "9fdbfd01-84c1-427f-9326-5d4dd3b3a051"
      },
      "execution_count": 18,
      "outputs": [
        {
          "output_type": "execute_result",
          "data": {
            "text/plain": [
              "418"
            ]
          },
          "metadata": {},
          "execution_count": 18
        }
      ]
    },
    {
      "cell_type": "markdown",
      "source": [
        "Day 03, input"
      ],
      "metadata": {
        "id": "j-Ni1FCRkrMk"
      }
    },
    {
      "cell_type": "code",
      "source": [
        "input03 = \"\".join(line for line in open('drive/MyDrive/AoC/2024/input03.txt'))"
      ],
      "metadata": {
        "id": "GFPJR9oEgR9g"
      },
      "execution_count": 5,
      "outputs": []
    },
    {
      "cell_type": "markdown",
      "source": [
        "Day 03, part 1, find mul(x,y) sequences, multiply and add"
      ],
      "metadata": {
        "id": "ctTUKUfAlLvJ"
      }
    },
    {
      "cell_type": "code",
      "source": [
        "import re\n",
        "\n",
        "def find_mul_and_eval(instructions):\n",
        "  # regex mul\\\\((\\\\d+),(\\\\d+)\\\\)\n",
        "  matches = re.findall(\"mul\\((\\d+),(\\d+)\\)\", instructions)\n",
        "  return sum(int(x) * int(y) for (x, y) in matches)"
      ],
      "metadata": {
        "id": "Vhwgw70512ue"
      },
      "execution_count": 2,
      "outputs": []
    },
    {
      "cell_type": "code",
      "source": [
        "# input03 = \"xmul(2,4)%&mul[3,7]!@^do_not_mul(5,5)+mul(32,64]then(mul(11,8)mul(8,5))\"\n",
        "find_mul_and_eval(input03)"
      ],
      "metadata": {
        "id": "GXsh1v2Mk07N",
        "colab": {
          "base_uri": "https://localhost:8080/"
        },
        "outputId": "f8923b12-9871-447d-ddc6-1d53ebcb5738"
      },
      "execution_count": 6,
      "outputs": [
        {
          "output_type": "execute_result",
          "data": {
            "text/plain": [
              "162813399"
            ]
          },
          "metadata": {},
          "execution_count": 6
        }
      ]
    },
    {
      "cell_type": "markdown",
      "source": [
        "Day 03, part 2, evaluate do() and don't() sequences"
      ],
      "metadata": {
        "id": "M3oaKPP2nPmU"
      }
    },
    {
      "cell_type": "code",
      "source": [
        "import re\n",
        "from functools import reduce\n",
        "\n",
        "def next_state(state, split):\n",
        "  s, is_active = state\n",
        "  match split:\n",
        "    case \"do()\":\n",
        "      return (s, True)\n",
        "    case \"don't()\":\n",
        "      return (s, False)\n",
        "    case _:\n",
        "      return (s + (find_mul_and_eval(split) if is_active else 0), is_active)\n",
        "\n",
        "# input03 = \"xmul(2,4)&mul[3,7]!^don't()_mul(5,5)+mul(32,64](mul(11,8)undo()?mul(8,5))\"\n",
        "# split on (do\\\\(\\\\)|don't\\\\(\\\\)) - capturing group leads to delimiters being included in result\n",
        "s, is_active = reduce(next_state, re.split(\"(do\\(\\)|don't\\(\\))\", input03), (0, True))\n",
        "s"
      ],
      "metadata": {
        "colab": {
          "base_uri": "https://localhost:8080/"
        },
        "id": "IloCNlgql80L",
        "outputId": "fe09d019-a5c4-40ed-acff-c8ea7b190042"
      },
      "execution_count": 7,
      "outputs": [
        {
          "output_type": "execute_result",
          "data": {
            "text/plain": [
              "53783319"
            ]
          },
          "metadata": {},
          "execution_count": 7
        }
      ]
    },
    {
      "cell_type": "markdown",
      "source": [
        "Day 04, input"
      ],
      "metadata": {
        "id": "mC6UgWYuvkn9"
      }
    },
    {
      "cell_type": "code",
      "source": [
        "input04 = [line.strip() for line in open('drive/MyDrive/AoC/2024/input04.txt')]\n",
        "rows = len(input04)\n",
        "cols = len(input04[0])"
      ],
      "metadata": {
        "id": "27Y3thHmvm7E"
      },
      "execution_count": null,
      "outputs": []
    },
    {
      "cell_type": "markdown",
      "source": [
        "Day 04, part 1, find XMAS"
      ],
      "metadata": {
        "id": "8EXwD1_3cfVI"
      }
    },
    {
      "cell_type": "code",
      "source": [
        "from functools import reduce\n",
        "\n",
        "def in_range(p):\n",
        "  r, c = p\n",
        "  return r >= 0 and r < rows and c >= 0 and c < cols\n",
        "\n",
        "def check_char(p, char):\n",
        "  r, c = p\n",
        "  return in_range(p) and input04[r][c] == char\n",
        "\n",
        "def check_xmas(p, d):\n",
        "  def next_state(state, char):\n",
        "    p, found = state\n",
        "    r, c = p\n",
        "    dr, dc = d\n",
        "    return (r + dr, c + dc), found and check_char(p, char)\n",
        "\n",
        "  p, found = reduce(next_state, \"XMAS\", (p, True))\n",
        "  return found\n",
        "\n",
        "deltas = [(dr, dc) for dr in [-1, 0, 1] for dc in [-1, 0, 1] if dr != 0 or dc !=0]\n",
        "\n",
        "def check_xmas_all(p):\n",
        "  return sum(check_xmas(p,d) for d in deltas)\n",
        "\n",
        "sum(check_xmas_all((r, c)) for r in range(rows) for c in range(cols))\n"
      ],
      "metadata": {
        "colab": {
          "base_uri": "https://localhost:8080/"
        },
        "id": "w2qf355Rw6lx",
        "outputId": "717ecb8d-f138-4f08-d907-17a552185650"
      },
      "execution_count": null,
      "outputs": [
        {
          "output_type": "execute_result",
          "data": {
            "text/plain": [
              "2567"
            ]
          },
          "metadata": {},
          "execution_count": 105
        }
      ]
    },
    {
      "cell_type": "markdown",
      "source": [
        "Day 05, part 2, find\n",
        "```\n",
        "M.S\n",
        ".A.\n",
        "M.S\n",
        "```\n",
        "\n"
      ],
      "metadata": {
        "id": "9lOrBwM1jbKl"
      }
    },
    {
      "cell_type": "code",
      "source": [
        "# The pattern can only occur in 4 different variants, with 'A' at (0,0)\n",
        "patterns = [\n",
        "    {(-1,-1): 'M', (-1,1): 'S', (1,-1): 'M', (1,1): 'S'},\n",
        "    {(-1,-1): 'M', (-1,1): 'M', (1,-1): 'S', (1,1): 'S'},\n",
        "    {(-1,-1): 'S', (-1,1): 'M', (1,-1): 'S', (1,1): 'M'},\n",
        "    {(-1,-1): 'S', (-1,1): 'S', (1,-1): 'M', (1,1): 'M'},\n",
        "]\n",
        "\n",
        "def vec_add(v1, v2):\n",
        "  return tuple(sum(i) for i in zip(v1, v2))\n",
        "\n",
        "# variant without range check\n",
        "def check_char_unsafe(p, char):\n",
        "  r, c = p\n",
        "  return input04[r][c] == char\n",
        "\n",
        "def check_pattern(p, pattern):\n",
        "  return all([check_char_unsafe(vec_add(p, d), char) for (d, char) in pattern.items()])\n",
        "\n",
        "# Search for A within (1,1)...(rows-1, cols-1) and check match for all patterns\n",
        "sum(1\n",
        "    for p in [(r, c) for r in range(1, rows-1) for c in range(1, cols-1) if input04[r][c] == 'A']\n",
        "    for pattern in patterns if check_pattern(p, pattern))"
      ],
      "metadata": {
        "colab": {
          "base_uri": "https://localhost:8080/"
        },
        "id": "vAxUvNhOjoOZ",
        "outputId": "e5b3f100-5406-4b26-822a-b92173cc7d87"
      },
      "execution_count": null,
      "outputs": [
        {
          "output_type": "execute_result",
          "data": {
            "text/plain": [
              "2029"
            ]
          },
          "metadata": {},
          "execution_count": 108
        }
      ]
    }
  ]
}