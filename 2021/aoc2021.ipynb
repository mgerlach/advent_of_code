{
  "nbformat": 4,
  "nbformat_minor": 0,
  "metadata": {
    "colab": {
      "name": "aoc2021.ipynb",
      "provenance": [],
      "collapsed_sections": [],
      "mount_file_id": "1FGdyCsJksgRUjJ2DGdIN2rsgNKFsWZxp",
      "authorship_tag": "ABX9TyNzCJZzHcCFsFJczOqvkS38",
      "include_colab_link": true
    },
    "kernelspec": {
      "name": "python3",
      "display_name": "Python 3"
    },
    "language_info": {
      "name": "python"
    }
  },
  "cells": [
    {
      "cell_type": "markdown",
      "metadata": {
        "id": "view-in-github",
        "colab_type": "text"
      },
      "source": [
        "<a href=\"https://colab.research.google.com/github/mgerlach/advent_of_code/blob/main/2021/aoc2021.ipynb\" target=\"_parent\"><img src=\"https://colab.research.google.com/assets/colab-badge.svg\" alt=\"Open In Colab\"/></a>"
      ]
    },
    {
      "cell_type": "markdown",
      "metadata": {
        "id": "Y68psGPX-f10"
      },
      "source": [
        "1) number of increments, window length 1 (part 1), window length 3 (part 2)"
      ]
    },
    {
      "cell_type": "code",
      "metadata": {
        "colab": {
          "base_uri": "https://localhost:8080/"
        },
        "id": "oIEwfUSo9ea6",
        "outputId": "0fe396ec-a608-4ad9-87ca-e97278ffc356"
      },
      "source": [
        "wl = 1  # window length, use 3 for part 2\n",
        "inc = 0 # increments\n",
        "\n",
        "m = [int(line) for line in open('drive/MyDrive/AoC/2021/input01.txt')]\n",
        "\n",
        "for i in range(0, len(m) - wl):\n",
        "  if m[i] < m[i+wl]:\n",
        "    inc += 1\n",
        "\n",
        "inc"
      ],
      "execution_count": null,
      "outputs": [
        {
          "output_type": "execute_result",
          "data": {
            "text/plain": [
              "1722"
            ]
          },
          "metadata": {},
          "execution_count": 2
        }
      ]
    },
    {
      "cell_type": "markdown",
      "metadata": {
        "id": "HbPVnHoO_Qfq"
      },
      "source": [
        "2) horizontal/depth course"
      ]
    },
    {
      "cell_type": "code",
      "metadata": {
        "colab": {
          "base_uri": "https://localhost:8080/"
        },
        "id": "Uhtw1KOy_Ur4",
        "outputId": "fe7c1d18-a3c3-4956-f35c-40c3b60beb9a"
      },
      "source": [
        "prog = [line.split() for line in open('drive/MyDrive/AoC/2021/input02.txt')]  # 0=cmd 1=amount\n",
        "h = 0\n",
        "d = 0\n",
        "for instr in prog:\n",
        "  cmd = instr[0]\n",
        "  amount = int(instr[1])\n",
        "  if cmd == 'forward':\n",
        "    h += amount\n",
        "  elif cmd == 'up':\n",
        "    d -= amount\n",
        "  elif cmd == 'down':\n",
        "    d += amount\n",
        "\n",
        "h * d\n"
      ],
      "execution_count": null,
      "outputs": [
        {
          "output_type": "execute_result",
          "data": {
            "text/plain": [
              "1698735"
            ]
          },
          "metadata": {},
          "execution_count": 3
        }
      ]
    },
    {
      "cell_type": "code",
      "metadata": {
        "colab": {
          "base_uri": "https://localhost:8080/"
        },
        "id": "UtoKxNE3Cvu4",
        "outputId": "7acbb72e-ecca-48d1-f6d2-3bd3a86e17d1"
      },
      "source": [
        "prog = [line.split() for line in open('drive/MyDrive/AoC/2021/input02.txt')]  # 0=cmd 1=amount\n",
        "h = 0\n",
        "d = 0\n",
        "aim = 0 \n",
        "for instr in prog:\n",
        "  cmd = instr[0]\n",
        "  amount = int(instr[1])\n",
        "  if cmd == 'forward':\n",
        "    h += amount\n",
        "    d += aim * amount\n",
        "  elif cmd == 'up':\n",
        "    aim -= amount\n",
        "  elif cmd == 'down':\n",
        "    aim += amount\n",
        "\n",
        "h * d\n"
      ],
      "execution_count": null,
      "outputs": [
        {
          "output_type": "execute_result",
          "data": {
            "text/plain": [
              "1594785890"
            ]
          },
          "metadata": {},
          "execution_count": 5
        }
      ]
    },
    {
      "cell_type": "markdown",
      "metadata": {
        "id": "eMcgDuC7NaYp"
      },
      "source": [
        "3) Most / least common bits in binary numbers represented as equal length strings"
      ]
    },
    {
      "cell_type": "code",
      "metadata": {
        "colab": {
          "base_uri": "https://localhost:8080/"
        },
        "id": "JjAW85etNptr",
        "outputId": "45c94949-74b6-4677-8892-0a6f4c5eb603"
      },
      "source": [
        "# count values per bit, keep either most common or least common value for each bit\n",
        "from functools import reduce\n",
        "\n",
        "ms = [line.strip() for line in open('drive/MyDrive/AoC/2021/input03.txt')]  # ms = measurements, binary 12 char strings\n",
        "half = len(ms)/2\n",
        "\n",
        "# count 1s in each bit position\n",
        "initial_bit_count1s = [0] * len(ms[0])\n",
        "count1s = reduce(lambda cnt1s, m: [cnt1s[i] + int(m[i]) for i, x in enumerate(cnt1s)], ms, initial_bit_count1s)\n",
        "\n",
        "most_common_bitvals = \"\".join(['1' if c > half else '0' for c in count1s])\n",
        "least_common_bitvals = \"\".join(['1' if c < half else '0' for c in count1s])  # could also invert most_common_bitvals\n",
        "\n",
        "int(most_common_bitvals, 2) * int(least_common_bitvals, 2)"
      ],
      "execution_count": null,
      "outputs": [
        {
          "output_type": "execute_result",
          "data": {
            "text/plain": [
              "4138664"
            ]
          },
          "metadata": {},
          "execution_count": 6
        }
      ]
    },
    {
      "cell_type": "code",
      "metadata": {
        "colab": {
          "base_uri": "https://localhost:8080/"
        },
        "id": "KUTwafbeVsCC",
        "outputId": "e66aeeb6-65a6-4121-912b-7e9aae9298e7"
      },
      "source": [
        "# count values for first bit, keep lines with first bit either most or least common value,\n",
        "# repeat with next bit on filtered list, repeat until only one list entry is left\n",
        "measurements = [line.strip() for line in open('drive/MyDrive/AoC/2021/input03.txt')]  # binary 12 char strings\n",
        "bits = len(measurements[0])\n",
        "\n",
        "# find the measurement according to filtermode\n",
        "# ms - measurements\n",
        "# filtermode 1 - keep numbers with bit value = most common value of the bit (equally common - keep those with 1)\n",
        "# filtermode 0 - keep numbers with bit value = least common value of the bit (equally common - keep those with 0)\n",
        "def find(ms, filtermode):\n",
        "\n",
        "  def filter(ms, bit):\n",
        "    half = len(ms)/2\n",
        "    # count 1s in bit position\n",
        "    count1s = sum([int(m[bit]) for m in ms])\n",
        "    # filter according to count1s and filtermode\n",
        "    filterval = filtermode if count1s > half else (1-filtermode if count1s < half else filtermode)\n",
        "    return [m for m in ms if int(m[bit]) == filterval]\n",
        "\n",
        "  def iter(ms, bit):\n",
        "    filtered = filter(ms, bit)\n",
        "    return filtered[0] if len(filtered) == 1 else iter(filtered, bit+1)\n",
        "\n",
        "  return iter(ms, 0)\n",
        "\n",
        "int(find(measurements, 1), 2) * int(find(measurements, 0), 2)"
      ],
      "execution_count": null,
      "outputs": [
        {
          "output_type": "execute_result",
          "data": {
            "text/plain": [
              "4273224"
            ]
          },
          "metadata": {},
          "execution_count": 4
        }
      ]
    },
    {
      "cell_type": "markdown",
      "metadata": {
        "id": "6o9nSEeb2_Bd"
      },
      "source": [
        "4) Bingo (5x5 Boards)\n"
      ]
    },
    {
      "cell_type": "code",
      "metadata": {
        "colab": {
          "base_uri": "https://localhost:8080/"
        },
        "id": "JP5HBO3T3jZr",
        "outputId": "5896c622-ab40-4b99-9fee-e28d840d9190"
      },
      "source": [
        "# Board structure\n",
        "# 2-dimensional array of pairs (2-elem lists) with left(0) = number, right(1) = marker (1 = marked, 0 = not marked)\n",
        "# The number/marker pairs are shared between all boards.\n",
        "\n",
        "from functools import reduce\n",
        "\n",
        "# Assume numbers drawn between 0 and 99 (incl.), initialize a marker object (a list length 2) for each number,\n",
        "# containing the number itself (index 0, actually only needed for display as the index of the marker object \n",
        "# already represents the number) and a marker (index 1) of value 0 if the number has not been drawn, yet, and\n",
        "# 1 if the number was drawn. These markers are shared between all the boards, such that setting the marker to 1\n",
        "# in one of the numbers, the number will appear as marked on all boards containing it.\n",
        "\n",
        "markers = [[n, 0] for n in range(0, 100)]\n",
        "boards = []\n",
        "\n",
        "for i, l in enumerate(open('drive/MyDrive/AoC/2021/input04.txt')):\n",
        "  if i == 0:\n",
        "    # The numbers that are drawn appear in the first line of the input\n",
        "    numbers = [int(s.strip()) for s in l.split(',')]\n",
        "  elif i % 6 == 1: \n",
        "    # A blank line announcing a new 5x5 board, lines 1, 7, 13, etc.\n",
        "    boards.append([])\n",
        "  else:\n",
        "    # By using the numbers on the board def. as index into markers, the marker objects are shared between all the boards\n",
        "    boards[int((i-1)/6)].append([markers[int(s.strip())] for s in l.split()])\n",
        "\n",
        "# Some helpers\n",
        "\n",
        "def mark(n):\n",
        "  markers[n][1] = 1  # marks number on all boards\n",
        "\n",
        "def rowbingo(board) -> bool:\n",
        "  # bool(list) is True if non-empty, i. e. 5 marked numbers in at least 1 row\n",
        "  return bool([row for row in board if sum([n[1] for n in row]) == 5])  \n",
        "\n",
        "def colbingo(board) -> bool:\n",
        "  # The reduce counts marked numbers (row[i][1] == 1) in all columns (i=0..4)\n",
        "  # true if 5 numbers are marked in any column\n",
        "  return 5 in reduce(lambda counts, row: [c+row[i][1] for i, c in enumerate(counts)], board, [0, 0, 0, 0, 0])\n",
        "\n",
        "def bingo(board) -> bool:\n",
        "  return rowbingo(board) or colbingo(board)\n",
        "\n",
        "def sum_unmarked(board) -> int:\n",
        "  return sum([sum([n[0] for n in row if n[1] == 0]) for row in board])\n",
        "\n",
        "def p(board):\n",
        "  for row in board:\n",
        "    print(row)\n",
        "\n",
        "# Part 1: First board to win\n",
        "bingoboards = []\n",
        "index = 0\n",
        "while len(bingoboards) == 0:\n",
        "  mark(numbers[index])\n",
        "  bingoboards = list(filter(bingo, boards))  # [board for board in boards if bingo(board)]\n",
        "  if bingoboards:\n",
        "    print(\"First board\")\n",
        "    p(bingoboards[0])\n",
        "    print(sum_unmarked(bingoboards[0]) * numbers[index])\n",
        "  else:\n",
        "    index += 1\n",
        "\n",
        "# Part 2: Last board to win\n",
        "\n",
        "# Now need to remove boards with bingo until only one left\n",
        "# (first remove the one found above)\n",
        "boards.remove(bingoboards[0])\n",
        "while len(boards) > 1:\n",
        "  # print(f\"index: {index}, number of boards: {len(boards)}\")\n",
        "  mark(numbers[index])\n",
        "  boards = [board for board in boards if not bingo(board)]  # list(filter(lambda board: not(bingo(board)), boards))\n",
        "  index += 1\n",
        "\n",
        "print(\"Last board\")\n",
        "# Go on until bingo\n",
        "while index < len(numbers):\n",
        "  mark(numbers[index])\n",
        "  if (bingo(boards[0])):\n",
        "    p(boards[0])\n",
        "    print(sum_unmarked(boards[0]) * numbers[index])\n",
        "    index = len(numbers)  # stop\n",
        "  else:\n",
        "    index += 1\n",
        "\n"
      ],
      "execution_count": null,
      "outputs": [
        {
          "output_type": "stream",
          "name": "stdout",
          "text": [
            "First board\n",
            "[[6, 0], [26, 0], [69, 1], [27, 1], [75, 0]]\n",
            "[[61, 0], [33, 1], [88, 1], [38, 0], [20, 0]]\n",
            "[[9, 1], [56, 0], [70, 0], [98, 1], [82, 0]]\n",
            "[[80, 1], [76, 0], [55, 1], [66, 1], [29, 0]]\n",
            "[[97, 1], [84, 1], [42, 1], [77, 1], [73, 1]]\n",
            "41503\n",
            "Last board\n",
            "[[94, 1], [38, 1], [96, 1], [44, 1], [46, 0]]\n",
            "[[10, 1], [14, 1], [75, 0], [97, 1], [76, 1]]\n",
            "[[7, 1], [61, 1], [56, 1], [36, 1], [1, 0]]\n",
            "[[81, 0], [67, 1], [49, 1], [78, 1], [86, 1]]\n",
            "[[31, 1], [65, 1], [88, 1], [24, 0], [63, 1]]\n",
            "3178\n"
          ]
        }
      ]
    },
    {
      "cell_type": "markdown",
      "metadata": {
        "id": "x2f2mAYv2MEX"
      },
      "source": [
        "5) Overlapping lines"
      ]
    },
    {
      "cell_type": "code",
      "metadata": {
        "colab": {
          "base_uri": "https://localhost:8080/"
        },
        "id": "Xg0ly6Ku2O2W",
        "outputId": "42cda9e8-2ca9-4f3b-fefe-6052baa607d9"
      },
      "source": [
        "# Part 1 only horizontal and vertical lines\n",
        "# Part 2 also 45 degree diagonal lines\n",
        "import re\n",
        "\n",
        "grid = {}  # maps points (x, y) to count\n",
        "\n",
        "# needed for part 2\n",
        "def sgn(x): \n",
        "  return 1 if x > 0 else (-1 if x < 0 else 0)\n",
        "\n",
        "def inc_point(x, y):\n",
        "  if (x, y) not in grid:\n",
        "    grid[(x, y)] = 1\n",
        "  else:\n",
        "    grid[(x, y)] += 1\n",
        "\n",
        "def add_line(x1, y1, x2, y2):\n",
        "  if x1==x2:\n",
        "    for y in range(min(y1,y2), max(y1,y2)+1):\n",
        "      inc_point(x1, y)\n",
        "  elif y1==y2:\n",
        "    for x in range(min(x1,x2), max(x1,x2)+1):\n",
        "      inc_point(x, y1)\n",
        "  # Part 2 - could also use this as single option without all the ifs (trusting the input) as it would cover horizontal and vertical lines, too\n",
        "  elif abs(x2-x1)==abs(y2-y1):\n",
        "    dx = sgn(x2-x1)\n",
        "    dy = sgn(y2-y1)\n",
        "    for i in range(0, abs(x2-x1)+1):\n",
        "      inc_point(x1 + i * dx, y1 + i * dy)\n",
        "\n",
        "for l in open('drive/MyDrive/AoC/2021/input05.txt'):\n",
        "  m = re.fullmatch(r\"(\\d+),(\\d+) -> (\\d+),(\\d+)\\n\", l)\n",
        "  add_line(*[int(m.group(i)) for i in [1, 2, 3, 4]])\n",
        "\n",
        "print(f\"number of points where lines overlap: {sum([1 if grid[k] > 1 else 0 for k in grid.keys()])}\")"
      ],
      "execution_count": null,
      "outputs": [
        {
          "output_type": "stream",
          "name": "stdout",
          "text": [
            "number of points where lines overlap: 22083\n"
          ]
        }
      ]
    },
    {
      "cell_type": "markdown",
      "metadata": {
        "id": "l9jzmfCsif76"
      },
      "source": [
        "6) Population growth"
      ]
    },
    {
      "cell_type": "code",
      "metadata": {
        "colab": {
          "base_uri": "https://localhost:8080/"
        },
        "id": "SKBCm2R-imKk",
        "outputId": "89f746b2-c3b4-4c3d-a7a7-c0f54bf107a8"
      },
      "source": [
        "# Part 1 naive brute force\n",
        "population = [int(timer_str) for timer_str in open('drive/MyDrive/AoC/2021/input06.txt').readline().split(',')]\n",
        "iterations = 80\n",
        "for i in range(0, iterations):\n",
        "  # print(f\"{i}: {len(population)}\")\n",
        "  new_timers = [8] * sum([1 if timer == 0 else 0 for timer in population])\n",
        "  population = [6 if timer == 0 else timer-1 for timer in population]\n",
        "  population += new_timers\n",
        "\n",
        "print(f\"{iterations}: {len(population)}\")\n"
      ],
      "execution_count": null,
      "outputs": [
        {
          "output_type": "stream",
          "name": "stdout",
          "text": [
            "80: 380612\n"
          ]
        }
      ]
    },
    {
      "cell_type": "code",
      "metadata": {
        "colab": {
          "base_uri": "https://localhost:8080/"
        },
        "id": "9uz7l56xlzie",
        "outputId": "554aeae7-c2ed-4ff1-927a-b714e8cd1f2e"
      },
      "source": [
        "# Part 2 a bit more intelligent\n",
        "pop_raw = [int(timer_str) for timer_str in open('drive/MyDrive/AoC/2021/input06.txt').readline().split(',')]\n",
        "pop_counts = [0,0,0,0,0,0,0,0,0]  # counts for timer values 0-8\n",
        "for timer in pop_raw:\n",
        "  pop_counts[timer] += 1\n",
        "iterations = 256\n",
        "for i in range(0, iterations):\n",
        "  # print(f\"{i}: {pop_counts} ({sum(pop_counts)})\")\n",
        "  new_counts = pop_counts[1:]  # decrease all from 1-8\n",
        "  new_counts[6] += pop_counts[0]  # 0s become 6s\n",
        "  pop_counts = new_counts + [pop_counts[0]]  # 0s produce new 8s\n",
        "\n",
        "print(f\"{iterations}: {pop_counts} ({sum(pop_counts)})\")\n"
      ],
      "execution_count": null,
      "outputs": [
        {
          "output_type": "stream",
          "name": "stdout",
          "text": [
            "256: [145229151101, 175734577513, 183417971628, 196504736072, 231271638229, 222902115155, 282121656192, 119339467551, 153645343459] (1710166656900)\n"
          ]
        }
      ]
    },
    {
      "cell_type": "markdown",
      "metadata": {
        "id": "0ykn752K8tQL"
      },
      "source": [
        "7) Find min diff"
      ]
    },
    {
      "cell_type": "code",
      "metadata": {
        "colab": {
          "base_uri": "https://localhost:8080/"
        },
        "id": "zzL9RSGA84Ub",
        "outputId": "2dbfcc7d-eed7-4423-d8e0-595c2f44de9e"
      },
      "source": [
        "positions = [int(s) for s in open('drive/MyDrive/AoC/2021/input07.txt').readline().split(',')]\n",
        "# input = [16,1,2,0,4,2,7,1,2,14]\n",
        "print(f\"estimation(part 1): {sum(positions)/len(positions)/2}\")\n",
        "\n",
        "def consumption1(target, current):\n",
        "  return sum([abs(target - curr) for curr in current])\n",
        "\n",
        "def consumption2(target, current):\n",
        "  return sum([int(abs(target-curr)*(abs(target-curr)+1)/2) for curr in current])\n",
        "\n",
        "print(\"part 1:\", min([(i, consumption1(i, positions)) for i in range(0, len(positions))], key=lambda t: t[1]))\n",
        "print(\"part 2:\", min([(i, consumption2(i, positions)) for i in range(0, len(positions))], key=lambda t: t[1]))\n",
        "  "
      ],
      "execution_count": 50,
      "outputs": [
        {
          "output_type": "stream",
          "name": "stdout",
          "text": [
            "estimation(part 1): 243.2525\n",
            "part 1: (347, 347449)\n",
            "part 2: (486, 98039527)\n"
          ]
        }
      ]
    },
    {
      "cell_type": "markdown",
      "source": [
        "8) 4-Digit display wiring"
      ],
      "metadata": {
        "id": "j0HGeXKy8VLf"
      }
    },
    {
      "cell_type": "code",
      "source": [
        "patterns_and_output = [{'patterns': l[0].split(), 'output': l[1].split()} for l in [line.split('|') for line in open('drive/MyDrive/AoC/2021/input08.txt')]]\n",
        "\n",
        "sc = {0: 6, 1: 2, 2: 5, 3: 5, 4: 4, 5: 5, 6: 6, 7: 3, 8: 7, 9: 6}  # segment counts\n",
        "\n",
        "# 1 unique digits in output\n",
        "\n",
        "print(f\"part 1: {sum([1 if len(o) in [sc[1], sc[4], sc[7], sc[8]] else 0 for po in patterns_and_output for o in po['output']])}\")\n",
        "\n",
        "# 2 find wiring from patterns, then translate/sort output to find the digits\n",
        "\n",
        "# Segment letters for each digit - this is what the output must be translated to!\n",
        "# 1:     c     f\n",
        "# 7: a   c     f    \n",
        "# 4:   b c d   f     \n",
        "# 5: a b   d   f g\n",
        "# 2: a   c d e   g\n",
        "# 3: a   c d   f g\n",
        "# 9: a b c d   f g\n",
        "# 0: a b c   e f g \n",
        "# 6: a b   d e f g\n",
        "# 8: a b c d e f g \n",
        "\n",
        "from functools import reduce\n",
        "\n",
        "# output: map letter in input pattern -> segments (a-g)\n",
        "def decode(patterns) -> dict:\n",
        "\n",
        "  # sort patterns by number of segments used for the digit,\n",
        "  # there are always 1 of length 2 (representing \"1\"), 1/3 (\"7\"), 1/4 (\"4\"), 3/5, 3/6, and 1 of length 7 (\"8\")\n",
        "  sp = sorted(patterns, key=lambda s: len(s))\n",
        "  len2_1_cf = sp[0]  # read: pattern of length 2 = digit \"1\" = segments c and f\n",
        "  len3_7_acf = sp[1] \n",
        "  len4_4_bcdf = sp[2]  \n",
        "  len5_235 = sp[3:6]  # read: list of patterns of length 5 (there are always 3), representing digits \"2\", \"3\", \"5\" (5 segments each)\n",
        "  len6_069 = sp[6:9]  # dito for length 6\n",
        "  len7_8_abcdefg = sp[9]\n",
        "\n",
        "  # some utilities \n",
        "\n",
        "  def s_diff(s1:str, s2:str) -> str:\n",
        "    return \"\".join([c for c in s1 if c not in s2])  \n",
        "\n",
        "  def s_inter(s1:str, s2:str) -> str:\n",
        "    return \"\".join([c for c in s1 if c in s2])\n",
        "\n",
        "  def s_union(s1:str, s2:str) -> str:\n",
        "    return \"\".join(set(s1+s2))\n",
        "\n",
        "  def chars_in(s1:str, s2:str) -> bool:\n",
        "    return sum([1 if c in s2 else 0 for c in s1]) == len(s1)\n",
        "\n",
        "  # one of many possible ways of deducting the mapping of the segment codes used in output to the correct segments\n",
        "  \n",
        "  mapping = {}\n",
        "  # 1\n",
        "  seg_a = s_diff(len3_7_acf, len2_1_cf)\n",
        "  mapping[seg_a] = 'a'\n",
        "  # 2 dg = \"3\" / len5 which includes (\"1\") - \"7\"\n",
        "  seg_dg = s_diff([p for p in len5_235 if chars_in(len2_1_cf, p)][0], len3_7_acf)\n",
        "  # 3 \n",
        "  seg_bd = s_diff(len4_4_bcdf, len2_1_cf)\n",
        "  # 4\n",
        "  seg_d = s_inter(seg_dg, seg_bd)\n",
        "  mapping[seg_d] = 'd'\n",
        "  # 5\n",
        "  seg_g = s_diff(seg_dg, seg_d)\n",
        "  mapping[seg_g] = 'g'\n",
        "  # 6\n",
        "  seg_b = s_diff(seg_bd, seg_d)\n",
        "  mapping[seg_b] = 'b'\n",
        "  # 7\n",
        "  seg_eg = s_diff(len7_8_abcdefg, s_union(len3_7_acf, len4_4_bcdf))\n",
        "  # 8\n",
        "  seg_e = s_diff(seg_eg, seg_g)\n",
        "  mapping[seg_e] = 'e'\n",
        "  # 9 f = \"6\" / len 6 which has only one of the segments of \"1\" (cf) - segments a,b,d,e,g\n",
        "  seg_f = reduce(lambda p, seg: sdiff(p, seg), [seg_a, seg_b, seg_d, seg_e, seg_g], [p for p in len6_069 if len(s_inter(p, len2_1_cf)) == 1][0])\n",
        "  mapping[seg_f] = 'f'\n",
        "  # 10 \n",
        "  seg_c = s_diff(len2_1_cf, seg_f)\n",
        "  mapping[seg_c] = 'c'\n",
        "  return mapping\n",
        "\n",
        "# apply mapping to output to get correct segment codes\n",
        "def translate(output, mapping):\n",
        "  return \"\".join([mapping[o] for o in output])\n",
        "\n",
        "def s_sort(s:str) -> str:\n",
        "  return \"\".join(sorted(s))\n",
        "\n",
        "# segments for digits 0-9\n",
        "segments = [ 'abcefg', 'cf', 'acdeg', 'acdfg', 'bcdf', 'abdfg', 'abdefg', 'acf', 'abcdefg', 'abcdfg' ]\n",
        "# digits by segments, it is important that the segment letters are sorted for each digit!\n",
        "digits = dict((s, d) for d, s in enumerate(segments))\n",
        "\n",
        "res = 0\n",
        "for po in patterns_and_output:\n",
        "  mapping = decode(po['patterns'])\n",
        "  decoded_output = sum([digits[s_sort(translate(output, mapping))] * pow(10, 3-i) for i, output in enumerate(po['output'])])\n",
        "  # print(decoded_output)\n",
        "  res += decoded_output\n",
        "\n",
        "print(f\"part 2: {res}\")"
      ],
      "metadata": {
        "colab": {
          "base_uri": "https://localhost:8080/"
        },
        "id": "VSIcdkV88Z3A",
        "outputId": "1235aacb-0791-48e9-f200-a09b30807552"
      },
      "execution_count": 51,
      "outputs": [
        {
          "output_type": "stream",
          "name": "stdout",
          "text": [
            "part 1: 539\n",
            "part 2: 1084606\n"
          ]
        }
      ]
    }
  ]
}