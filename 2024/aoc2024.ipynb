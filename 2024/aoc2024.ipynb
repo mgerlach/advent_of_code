{
  "nbformat": 4,
  "nbformat_minor": 0,
  "metadata": {
    "colab": {
      "provenance": [],
      "mount_file_id": "https://github.com/mgerlach/advent_of_code/blob/main/2024/aoc2024.ipynb",
      "authorship_tag": "ABX9TyPUZciZTmd+glxFH/2XiVGB",
      "include_colab_link": true
    },
    "kernelspec": {
      "name": "python3",
      "display_name": "Python 3"
    },
    "language_info": {
      "name": "python"
    }
  },
  "cells": [
    {
      "cell_type": "markdown",
      "metadata": {
        "id": "view-in-github",
        "colab_type": "text"
      },
      "source": [
        "<a href=\"https://colab.research.google.com/github/mgerlach/advent_of_code/blob/main/2024/aoc2024.ipynb\" target=\"_parent\"><img src=\"https://colab.research.google.com/assets/colab-badge.svg\" alt=\"Open In Colab\"/></a>"
      ]
    },
    {
      "cell_type": "markdown",
      "source": [
        "Global generic utils"
      ],
      "metadata": {
        "id": "NqpSHdZry-H0"
      }
    },
    {
      "cell_type": "code",
      "source": [
        "def vec_add(v1, v2):\n",
        "  return tuple(sum(i) for i in zip(v1, v2))\n",
        "\n",
        "def vec_sub(v1, v2):\n",
        "  return tuple(i[0] - i[1] for i in zip(v1, v2))\n",
        "\n",
        "dirs45 = [(dy, dx) for dy in [-1, 0, 1] for dx in [-1, 0, 1] if dy != 0 or dx != 0]\n",
        "\n",
        "dir_up = (-1, 0)\n",
        "dir_right = (0, 1)\n",
        "dir_down = (1, 0)\n",
        "dir_left = (0, -1)\n",
        "\n",
        "dirs90 = [dir_up, dir_right, dir_down, dir_left]\n",
        "turn_right = {dir_up: dir_right, dir_right: dir_down, dir_down: dir_left, dir_left: dir_up}\n",
        "turn_left = {dir_up: dir_left, dir_left: dir_down, dir_down: dir_right, dir_right: dir_up}\n",
        "\n",
        "def in_range(p, dimensions):\n",
        "  y, x = p\n",
        "  height, width = dimensions\n",
        "  return y >= 0 and y < height and x >= 0 and x < width\n",
        "\n",
        "def get_cell(p, grid):\n",
        "  y, x = p\n",
        "  return grid[y][x]\n"
      ],
      "metadata": {
        "id": "6gZpKr0ZzFrO"
      },
      "execution_count": 112,
      "outputs": []
    },
    {
      "cell_type": "markdown",
      "source": [
        "Day 01, input"
      ],
      "metadata": {
        "id": "r1TPXsFIHvfH"
      }
    },
    {
      "cell_type": "code",
      "source": [
        "input01 = [[int(i) for i in line.split()] for line in open('drive/MyDrive/AoC/2024/input01.txt')]"
      ],
      "metadata": {
        "id": "SKku640EHqzU"
      },
      "execution_count": null,
      "outputs": []
    },
    {
      "cell_type": "markdown",
      "source": [
        "Day 01, part 1, sum of absolute diff of sorted list elements"
      ],
      "metadata": {
        "id": "OK5K0ylA-8lh"
      }
    },
    {
      "cell_type": "code",
      "source": [
        "sum(abs(l - r) for (l, r) in zip(sorted(l for (l, _) in input01), sorted(r for (_, r) in input01)))"
      ],
      "metadata": {
        "colab": {
          "base_uri": "https://localhost:8080/"
        },
        "id": "owxfIRB-73TW",
        "outputId": "f7583ee1-cae1-4cad-8e42-f1d90cce0480"
      },
      "execution_count": null,
      "outputs": [
        {
          "output_type": "execute_result",
          "data": {
            "text/plain": [
              "1530215"
            ]
          },
          "metadata": {},
          "execution_count": 45
        }
      ]
    },
    {
      "cell_type": "markdown",
      "source": [
        "Day 01, part 2, sum lhs elements multiplied by frequency in rhs list"
      ],
      "metadata": {
        "id": "CdcLpLnV_PML"
      }
    },
    {
      "cell_type": "code",
      "source": [
        "from collections import Counter\n",
        "r_counts = Counter(r for (_, r) in input01)\n",
        "sum(l * r_counts[l] for (l, _) in input01)"
      ],
      "metadata": {
        "colab": {
          "base_uri": "https://localhost:8080/"
        },
        "id": "MTWKPqpv-Olj",
        "outputId": "226bff3f-6f41-4fba-d568-47d7f2aad7c1"
      },
      "execution_count": null,
      "outputs": [
        {
          "output_type": "execute_result",
          "data": {
            "text/plain": [
              "26800609"
            ]
          },
          "metadata": {},
          "execution_count": 46
        }
      ]
    },
    {
      "cell_type": "markdown",
      "source": [
        "Day 02, input"
      ],
      "metadata": {
        "id": "1L9Nb_rMHT9g"
      }
    },
    {
      "cell_type": "code",
      "source": [
        "input02 = [[int(i) for i in line.split()] for line in open('drive/MyDrive/AoC/2024/input02.txt')]"
      ],
      "metadata": {
        "id": "XFpAAU_dHRO1"
      },
      "execution_count": null,
      "outputs": []
    },
    {
      "cell_type": "markdown",
      "source": [
        "Day 02, utils"
      ],
      "metadata": {
        "id": "mvPBjJnKIIBp"
      }
    },
    {
      "cell_type": "code",
      "source": [
        "def same_sgn(deltas_line):\n",
        "  return all(deltas_line[i] * deltas_line[i+1] > 0 for i in range(len(deltas_line)-1))\n",
        "\n",
        "def delta_max(deltas_line, m):\n",
        "  return all(abs(d) <= m for d in deltas_line)"
      ],
      "metadata": {
        "id": "3scnsnVp6oAB"
      },
      "execution_count": null,
      "outputs": []
    },
    {
      "cell_type": "markdown",
      "source": [
        "Day 02, part 1, determine (all increasing or all decreasing) and deltas < 4"
      ],
      "metadata": {
        "id": "CDo_j_XGl44_"
      }
    },
    {
      "cell_type": "code",
      "source": [
        "deltas = [[line[n+1] - line[n] for n in range(len(line)-1)] for line in input02]\n",
        "\n",
        "sum(1 for deltas_line in deltas if same_sgn(deltas_line) and delta_max(deltas_line, 3))"
      ],
      "metadata": {
        "colab": {
          "base_uri": "https://localhost:8080/"
        },
        "id": "uChLkyXjJu4Q",
        "outputId": "464eb271-9978-4b0b-8fb2-ff9120513417"
      },
      "execution_count": null,
      "outputs": [
        {
          "output_type": "execute_result",
          "data": {
            "text/plain": [
              "359"
            ]
          },
          "metadata": {},
          "execution_count": 49
        }
      ]
    },
    {
      "cell_type": "markdown",
      "source": [
        "Day 02, part 2, allow removal of any single element"
      ],
      "metadata": {
        "id": "pyqz85jtYXCG"
      }
    },
    {
      "cell_type": "code",
      "source": [
        "def check_line(line):\n",
        "  deltas = [line[i+1] - line[i] for i in range(len(line)-1)]\n",
        "  return same_sgn(deltas) and delta_max(deltas, 3)\n",
        "\n",
        "def remove1(line):\n",
        "  return [line[:i] + line[i+1:] for i in range(len(line))]\n",
        "\n",
        "# part 1 regression\n",
        "# print(sum(1 for line in input02 if check_line(line)))\n",
        "\n",
        "# part 2\n",
        "sum(1 for line in input02 if check_line(line) or any(check_line(r) for r in remove1(line)))"
      ],
      "metadata": {
        "colab": {
          "base_uri": "https://localhost:8080/"
        },
        "id": "F_RiahZiKqp7",
        "outputId": "1dd8358d-7e95-4013-c2cc-429bba81813c"
      },
      "execution_count": null,
      "outputs": [
        {
          "output_type": "execute_result",
          "data": {
            "text/plain": [
              "418"
            ]
          },
          "metadata": {},
          "execution_count": 50
        }
      ]
    },
    {
      "cell_type": "markdown",
      "source": [
        "Day 03, input"
      ],
      "metadata": {
        "id": "j-Ni1FCRkrMk"
      }
    },
    {
      "cell_type": "code",
      "source": [
        "input03 = \"\".join(line for line in open('drive/MyDrive/AoC/2024/input03.txt'))"
      ],
      "metadata": {
        "id": "GFPJR9oEgR9g"
      },
      "execution_count": null,
      "outputs": []
    },
    {
      "cell_type": "markdown",
      "source": [
        "Day 03, utils"
      ],
      "metadata": {
        "id": "8OPwaByp2goY"
      }
    },
    {
      "cell_type": "code",
      "source": [
        "import re\n",
        "\n",
        "def find_mul_and_eval(instructions):\n",
        "  # regex mul\\\\((\\\\d+),(\\\\d+)\\\\)\n",
        "  matches = re.findall(\"mul\\((\\d+),(\\d+)\\)\", instructions)\n",
        "  return sum(int(x) * int(y) for (x, y) in matches)"
      ],
      "metadata": {
        "id": "Vhwgw70512ue"
      },
      "execution_count": null,
      "outputs": []
    },
    {
      "cell_type": "markdown",
      "source": [
        "Day 03, part 1, find mul(x,y) sequences, multiply and add"
      ],
      "metadata": {
        "id": "ctTUKUfAlLvJ"
      }
    },
    {
      "cell_type": "code",
      "source": [
        "# input03 = \"xmul(2,4)%&mul[3,7]!@^do_not_mul(5,5)+mul(32,64]then(mul(11,8)mul(8,5))\"\n",
        "find_mul_and_eval(input03)"
      ],
      "metadata": {
        "id": "GXsh1v2Mk07N",
        "colab": {
          "base_uri": "https://localhost:8080/"
        },
        "outputId": "30e03cef-1442-4a3f-e081-748fca3f01c8"
      },
      "execution_count": null,
      "outputs": [
        {
          "output_type": "execute_result",
          "data": {
            "text/plain": [
              "162813399"
            ]
          },
          "metadata": {},
          "execution_count": 53
        }
      ]
    },
    {
      "cell_type": "markdown",
      "source": [
        "Day 03, part 2, evaluate do() and don't() sequences"
      ],
      "metadata": {
        "id": "M3oaKPP2nPmU"
      }
    },
    {
      "cell_type": "code",
      "source": [
        "import re\n",
        "from functools import reduce\n",
        "\n",
        "def next_state(state, split):\n",
        "  s, is_active = state\n",
        "  match split:\n",
        "    case \"do()\":\n",
        "      return (s, True)\n",
        "    case \"don't()\":\n",
        "      return (s, False)\n",
        "    case _:\n",
        "      return (s + (find_mul_and_eval(split) if is_active else 0), is_active)\n",
        "\n",
        "# input03 = \"xmul(2,4)&mul[3,7]!^don't()_mul(5,5)+mul(32,64](mul(11,8)undo()?mul(8,5))\"\n",
        "# split on (do\\\\(\\\\)|don't\\\\(\\\\)) - capturing group leads to delimiters being included in result\n",
        "s, is_active = reduce(next_state, re.split(\"(do\\(\\)|don't\\(\\))\", input03), (0, True))\n",
        "s"
      ],
      "metadata": {
        "colab": {
          "base_uri": "https://localhost:8080/"
        },
        "id": "IloCNlgql80L",
        "outputId": "60fa6c4f-c045-41e8-c6ce-0048a5c48385"
      },
      "execution_count": null,
      "outputs": [
        {
          "output_type": "execute_result",
          "data": {
            "text/plain": [
              "53783319"
            ]
          },
          "metadata": {},
          "execution_count": 54
        }
      ]
    },
    {
      "cell_type": "markdown",
      "source": [
        "Day 04, input"
      ],
      "metadata": {
        "id": "mC6UgWYuvkn9"
      }
    },
    {
      "cell_type": "code",
      "source": [
        "input04 = [line.strip() for line in open('drive/MyDrive/AoC/2024/input04.txt')]\n",
        "rows = len(input04)\n",
        "cols = len(input04[0])\n",
        "dimensions = (rows, cols)"
      ],
      "metadata": {
        "id": "27Y3thHmvm7E"
      },
      "execution_count": null,
      "outputs": []
    },
    {
      "cell_type": "markdown",
      "source": [
        "Day 04, part 1, find XMAS"
      ],
      "metadata": {
        "id": "8EXwD1_3cfVI"
      }
    },
    {
      "cell_type": "code",
      "source": [
        "def check_char(p, char):\n",
        "  y, x = p\n",
        "  return in_range(p, dimensions) and input04[y][x] == char\n",
        "\n",
        "def check(s, p, d):\n",
        "  return s == \"\" or check_char(p, s[0]) and check(s[1:], vec_add(p, d), d)\n",
        "\n",
        "def count_xmas(p):\n",
        "  return sum(1 for d in dirs45 if check(\"XMAS\", p, d))\n",
        "\n",
        "sum(count_xmas((y, x)) for y in range(rows) for x in range(cols))"
      ],
      "metadata": {
        "colab": {
          "base_uri": "https://localhost:8080/"
        },
        "id": "w2qf355Rw6lx",
        "outputId": "3e9a7d7c-8c2e-4e4f-cdcb-702d22fe6a4c"
      },
      "execution_count": null,
      "outputs": [
        {
          "output_type": "execute_result",
          "data": {
            "text/plain": [
              "2567"
            ]
          },
          "metadata": {},
          "execution_count": 6
        }
      ]
    },
    {
      "cell_type": "markdown",
      "source": [
        "Day 04, part 2, find\n",
        "```\n",
        "M.S\n",
        ".A.\n",
        "M.S\n",
        "```\n",
        "\n"
      ],
      "metadata": {
        "id": "9lOrBwM1jbKl"
      }
    },
    {
      "cell_type": "code",
      "source": [
        "# The pattern can only occur in 4 different variants, with 'A' at (0,0)\n",
        "patterns = [\n",
        "  (((-1, -1), 'M'), ((-1, 1), 'S'), ((1, -1), 'M'), ((1, 1), 'S')),\n",
        "  (((-1, -1), 'M'), ((-1, 1), 'M'), ((1, -1), 'S'), ((1, 1), 'S')),\n",
        "  (((-1, -1), 'S'), ((-1, 1), 'M'), ((1, -1), 'S'), ((1, 1), 'M')),\n",
        "  (((-1, -1), 'S'), ((-1, 1), 'S'), ((1, -1), 'M'), ((1, 1), 'M'))\n",
        "]\n",
        "\n",
        "# variant without range check\n",
        "def check_char_unsafe(p, char):\n",
        "  return get_cell(p, input04) == char\n",
        "\n",
        "def check_pattern(p, pattern):\n",
        "  return all(check_char_unsafe(vec_add(p, d), char) for (d, char) in pattern)\n",
        "\n",
        "# Search for A within (1, 1)...(rows-1, cols-1) and check match for all patterns\n",
        "sum(1\n",
        "    for p in [(y, x) for y in range(1, rows-1) for x in range(1, cols-1) if input04[y][x] == 'A']\n",
        "    for pattern in patterns if check_pattern(p, pattern))"
      ],
      "metadata": {
        "colab": {
          "base_uri": "https://localhost:8080/"
        },
        "id": "vAxUvNhOjoOZ",
        "outputId": "8c4d5f9b-ea3a-4038-d482-194b95d32c3a"
      },
      "execution_count": null,
      "outputs": [
        {
          "output_type": "execute_result",
          "data": {
            "text/plain": [
              "2029"
            ]
          },
          "metadata": {},
          "execution_count": 59
        }
      ]
    },
    {
      "cell_type": "markdown",
      "source": [
        "Day 05, input"
      ],
      "metadata": {
        "id": "T-GlIeI_yH0R"
      }
    },
    {
      "cell_type": "code",
      "source": [
        "input05 = [line.strip() for line in open('drive/MyDrive/AoC/2024/input05.txt')]\n",
        "split_index = input05.index('')\n",
        "rules = [tuple(int(n) for n in rule.split('|')) for rule in input05[:split_index]]\n",
        "updates = [[int(n) for n in update.split(',')] for update in input05[split_index+1:]]"
      ],
      "metadata": {
        "id": "G_ynPO_i05nv"
      },
      "execution_count": null,
      "outputs": []
    },
    {
      "cell_type": "markdown",
      "source": [
        "Day 05, utils\n"
      ],
      "metadata": {
        "id": "21yWpqLA1uXG"
      }
    },
    {
      "cell_type": "code",
      "source": [
        "def verify_pair(left, right):\n",
        "  \"\"\"if a rule exists, check order against it, otherwise pass\"\"\"\n",
        "  existing_rules = [rule for rule in rules if left in rule and right in rule]\n",
        "  return not existing_rules or any(rl == left and rr == right for rl, rr in existing_rules)\n",
        "\n",
        "def verify_update(update):\n",
        "  return all(verify_pair(update[i], update[j]) for i in range(len(update)-1) for j in range(i+1, len(update)))"
      ],
      "metadata": {
        "id": "3Ze94NW_zPJo"
      },
      "execution_count": null,
      "outputs": []
    },
    {
      "cell_type": "markdown",
      "source": [
        "Day 05, part 1, find correct updates, sum up middle their elements"
      ],
      "metadata": {
        "id": "8lU7RtCR7Pbd"
      }
    },
    {
      "cell_type": "code",
      "source": [
        "sum(update[int(len(update)/2)] for update in updates if verify_update(update))"
      ],
      "metadata": {
        "colab": {
          "base_uri": "https://localhost:8080/"
        },
        "id": "qWoawq4o4l6v",
        "outputId": "a1e09cca-fbe2-435b-f429-50a96ac19f87"
      },
      "execution_count": null,
      "outputs": [
        {
          "output_type": "execute_result",
          "data": {
            "text/plain": [
              "7365"
            ]
          },
          "metadata": {},
          "execution_count": 62
        }
      ]
    },
    {
      "cell_type": "markdown",
      "source": [
        "Day 05, part 2, fix updates which break the rules, sum up their middle elements"
      ],
      "metadata": {
        "id": "xlrgyrB7-6T_"
      }
    },
    {
      "cell_type": "code",
      "source": [
        "def fix_update(update_rest, fixed):\n",
        "  if not update_rest:\n",
        "    return fixed\n",
        "  if not fixed:\n",
        "    return fix_update(update_rest[1:], [update_rest[0]])\n",
        "  # find correct place for update_rest[0] in fixed\n",
        "  for i in range(len(fixed)):\n",
        "    if verify_pair(update_rest[0], fixed[i]):\n",
        "      return fix_update(update_rest[1:], fixed[:i] + [update_rest[0]] + fixed[i:])\n",
        "  return fix_update(update_rest[1:], fixed + [update_rest[0]])\n",
        "\n",
        "sum(fix_update(update, [])[int(len(update)/2)] for update in updates if not verify_update(update))"
      ],
      "metadata": {
        "colab": {
          "base_uri": "https://localhost:8080/"
        },
        "id": "e3hdrfwD-5uA",
        "outputId": "05f592f2-d985-4880-8f36-0575e3e08312"
      },
      "execution_count": null,
      "outputs": [
        {
          "output_type": "execute_result",
          "data": {
            "text/plain": [
              "5770"
            ]
          },
          "metadata": {},
          "execution_count": 63
        }
      ]
    },
    {
      "cell_type": "markdown",
      "source": [
        "Day 06, input"
      ],
      "metadata": {
        "id": "c6MRgkiLphhx"
      }
    },
    {
      "cell_type": "code",
      "source": [
        "input06 = [line.strip() for line in open('drive/MyDrive/AoC/2024/input06.txt')]\n",
        "height = len(input06)\n",
        "width = len(input06[0])\n",
        "dimensions = (height, width)\n",
        "start = [(y, x) for y in range(height) for x in range(width) if get_cell((y, x), input06) == '^'][0]"
      ],
      "metadata": {
        "id": "14BPsXpkMxlv"
      },
      "execution_count": 40,
      "outputs": []
    },
    {
      "cell_type": "markdown",
      "source": [
        "Day 06, part 1, visisted cells"
      ],
      "metadata": {
        "id": "CQSuREG4NiLi"
      }
    },
    {
      "cell_type": "code",
      "source": [
        "def get_visited(grid) -> tuple[list[tuple[tuple[int, int], tuple[int, int]]], bool]:\n",
        "  dir = dir_up\n",
        "  p = start\n",
        "  visited = {(p, dir)}\n",
        "  while(in_range(p, dimensions)):\n",
        "    next = vec_add(p, dir)\n",
        "    if in_range(next, dimensions):\n",
        "      if get_cell(next, grid) == '#':\n",
        "        dir = turn_right[dir]\n",
        "      elif (next, dir) in visited:\n",
        "        return (visited, True)\n",
        "      else:\n",
        "        p = next\n",
        "        visited.add((p, dir))\n",
        "    else:\n",
        "      return (visited, False)\n",
        "\n",
        "visited, _ = get_visited(input06)\n",
        "len({p for (p, dir) in visited})"
      ],
      "metadata": {
        "id": "QdJqwU6xNns3",
        "outputId": "2dbe8776-a241-4900-e7bf-9d1570d954ef",
        "colab": {
          "base_uri": "https://localhost:8080/"
        }
      },
      "execution_count": 46,
      "outputs": [
        {
          "output_type": "execute_result",
          "data": {
            "text/plain": [
              "4711"
            ]
          },
          "metadata": {},
          "execution_count": 46
        }
      ]
    },
    {
      "cell_type": "markdown",
      "source": [
        "Day 06, part 2, find loops"
      ],
      "metadata": {
        "id": "JZE3hTy7kGux"
      }
    },
    {
      "cell_type": "code",
      "source": [
        "mutable = [[c for c in row] for row in input06]\n",
        "loops = 0\n",
        "for y in range(height):\n",
        "  # print(y, loops)\n",
        "  for x in range(width):\n",
        "    if get_cell((y, x), input06) == '.':\n",
        "      mutable[y][x] = '#'\n",
        "      _, loop = get_visited(mutable)\n",
        "      loops += loop\n",
        "      mutable[y][x] = '.'\n",
        "loops"
      ],
      "metadata": {
        "colab": {
          "base_uri": "https://localhost:8080/"
        },
        "id": "vilThMk8kFpb",
        "outputId": "aaeddf86-b39b-418d-fd1e-352a2b22eec5"
      },
      "execution_count": 59,
      "outputs": [
        {
          "output_type": "execute_result",
          "data": {
            "text/plain": [
              "1562"
            ]
          },
          "metadata": {},
          "execution_count": 59
        }
      ]
    },
    {
      "cell_type": "markdown",
      "source": [
        "Day 07, input"
      ],
      "metadata": {
        "id": "N5Tv2i1YpcsL"
      }
    },
    {
      "cell_type": "code",
      "source": [
        "# [(desired_result, [operand1, operand2, ...])]\n",
        "input07 = [\n",
        "    (int(result.strip()), [int(operand.strip()) for operand in operands.split()])\n",
        "    for (result, operands) in [[s.strip() for s in line.split(':')] for line in open('drive/MyDrive/AoC/2024/input07.txt')]]"
      ],
      "metadata": {
        "id": "EUSaUdGeQh0m"
      },
      "execution_count": 72,
      "outputs": []
    },
    {
      "cell_type": "markdown",
      "source": [
        "Day 07, part 1, find valid equations with '*' and '+'"
      ],
      "metadata": {
        "id": "3k_RnofPsbB2"
      }
    },
    {
      "cell_type": "code",
      "source": [
        "def check_equation(desired_result, current_result, remaining_operands):\n",
        "  if not remaining_operands:\n",
        "    return desired_result == current_result\n",
        "  if current_result > desired_result:\n",
        "    return False\n",
        "  return check_equation(desired_result, current_result + remaining_operands[0], remaining_operands[1:]) or \\\n",
        "         check_equation(desired_result, current_result * remaining_operands[0], remaining_operands[1:])\n",
        "\n",
        "sum(desired_result for (desired_result, operands) in input07 if check_equation(desired_result, operands[0], operands[1:]))"
      ],
      "metadata": {
        "colab": {
          "base_uri": "https://localhost:8080/"
        },
        "id": "2vrLLyYjpcLN",
        "outputId": "19a66d4c-f7b8-4aba-a321-50c6be4c7b48"
      },
      "execution_count": 82,
      "outputs": [
        {
          "output_type": "execute_result",
          "data": {
            "text/plain": [
              "4555081946288"
            ]
          },
          "metadata": {},
          "execution_count": 82
        }
      ]
    },
    {
      "cell_type": "markdown",
      "source": [
        "Day 07, part 2, find valid equations with '*', '+', '||' (concat)"
      ],
      "metadata": {
        "id": "ZI6Yxu_cuWQq"
      }
    },
    {
      "cell_type": "code",
      "source": [
        "from math import log10\n",
        "def check_equation2(desired_result, current_result, remaining_operands):\n",
        "  if not remaining_operands:\n",
        "    return desired_result == current_result\n",
        "  if current_result > desired_result:\n",
        "    return False\n",
        "  return check_equation2(desired_result, current_result + remaining_operands[0], remaining_operands[1:]) or \\\n",
        "         check_equation2(desired_result, current_result * remaining_operands[0], remaining_operands[1:]) or \\\n",
        "         check_equation2(desired_result, current_result * 10 ** (int(log10(remaining_operands[0])) + 1) + remaining_operands[0], remaining_operands[1:])\n",
        "         # or with strings: check_equation2(desired_result, int(f'{current_result}{remaining_operands[0]}'), remaining_operands[1:])\n",
        "\n",
        "sum(desired_result for (desired_result, operands) in input07 if check_equation2(desired_result, operands[0], operands[1:]))"
      ],
      "metadata": {
        "colab": {
          "base_uri": "https://localhost:8080/"
        },
        "id": "HLi48dqUtOr5",
        "outputId": "affc09bb-3b97-4add-9014-3ba1c1670ae2"
      },
      "execution_count": 83,
      "outputs": [
        {
          "output_type": "execute_result",
          "data": {
            "text/plain": [
              "227921760109726"
            ]
          },
          "metadata": {},
          "execution_count": 83
        }
      ]
    },
    {
      "cell_type": "markdown",
      "source": [
        "Day 08, input"
      ],
      "metadata": {
        "id": "_npwXTDQzmJS"
      }
    },
    {
      "cell_type": "code",
      "source": [
        "# get width, height\n",
        "input08 = [line.strip() for line in open('drive/MyDrive/AoC/2024/input08.txt')]\n",
        "height = len(input08)\n",
        "width = len(input08[0])\n",
        "dimensions = (height, width)\n",
        "antennas = {}\n",
        "for (name, pos) in [(input08[y][x], (y, x)) for y in range(height) for x in range(width) if input08[y][x] != '.']:\n",
        "  if name in antennas:\n",
        "    antennas[name].append(pos)\n",
        "  else:\n",
        "    antennas[name] = [pos]\n"
      ],
      "metadata": {
        "id": "u4F3xlexzshP"
      },
      "execution_count": 139,
      "outputs": []
    },
    {
      "cell_type": "markdown",
      "source": [
        "Day 08, part 1, find antinodes (unique positions)"
      ],
      "metadata": {
        "id": "pKq4640e5zb4"
      }
    },
    {
      "cell_type": "code",
      "source": [
        "def antinodes(positions):\n",
        "  return [p for p in [vec_sub(p1, vec_sub(p2, p1)) for p1 in positions for p2 in positions if p1 != p2] if in_range(p, dimensions)]\n",
        "\n",
        "len({p for a in antennas.values() for p in antinodes(a)})"
      ],
      "metadata": {
        "id": "zbQL-Qxz31kl",
        "outputId": "cb7a5683-c774-40ca-9015-25131b37158d",
        "colab": {
          "base_uri": "https://localhost:8080/"
        }
      },
      "execution_count": 140,
      "outputs": [
        {
          "output_type": "execute_result",
          "data": {
            "text/plain": [
              "354"
            ]
          },
          "metadata": {},
          "execution_count": 140
        }
      ]
    },
    {
      "cell_type": "markdown",
      "source": [
        "Day 08, part 2, find more antinodes (unique positions)\n"
      ],
      "metadata": {
        "id": "U1C0YD4s9vb7"
      }
    },
    {
      "cell_type": "code",
      "source": [
        "def antinodes2(positions):\n",
        "  def antinodes_for_pair(p1, p2):\n",
        "    anodes = []\n",
        "    dir = vec_sub(p2, p1)  # step\n",
        "    p = p2  # p1, p2 are antinodes themselves, but no need to add p1 as we also call this for the swapped pair\n",
        "    while(in_range(p, dimensions)):\n",
        "      anodes.append(p)\n",
        "      p = vec_add(p, dir)\n",
        "    return anodes\n",
        "  return {a for p1 in positions for p2 in positions if p1 != p2 for a in antinodes_for_pair(p1, p2)}\n",
        "\n",
        "len({a for p in antennas.values() for a in antinodes2(p)})"
      ],
      "metadata": {
        "id": "Z24X9r_K8ZNk",
        "outputId": "11bf27bf-6a0f-4293-8b2d-eae539265c11",
        "colab": {
          "base_uri": "https://localhost:8080/"
        }
      },
      "execution_count": 141,
      "outputs": [
        {
          "output_type": "execute_result",
          "data": {
            "text/plain": [
              "1263"
            ]
          },
          "metadata": {},
          "execution_count": 141
        }
      ]
    }
  ]
}