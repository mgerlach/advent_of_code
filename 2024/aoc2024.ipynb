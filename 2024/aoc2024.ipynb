{
  "nbformat": 4,
  "nbformat_minor": 0,
  "metadata": {
    "colab": {
      "provenance": [],
      "mount_file_id": "https://github.com/mgerlach/advent_of_code/blob/main/2024/aoc2024.ipynb",
      "authorship_tag": "ABX9TyOtg2m5P0jIJo8Fjb2nEzuL",
      "include_colab_link": true
    },
    "kernelspec": {
      "name": "python3",
      "display_name": "Python 3"
    },
    "language_info": {
      "name": "python"
    }
  },
  "cells": [
    {
      "cell_type": "markdown",
      "metadata": {
        "id": "view-in-github",
        "colab_type": "text"
      },
      "source": [
        "<a href=\"https://colab.research.google.com/github/mgerlach/advent_of_code/blob/main/2024/aoc2024.ipynb\" target=\"_parent\"><img src=\"https://colab.research.google.com/assets/colab-badge.svg\" alt=\"Open In Colab\"/></a>"
      ]
    },
    {
      "cell_type": "markdown",
      "source": [
        "Global generic utils"
      ],
      "metadata": {
        "id": "NqpSHdZry-H0"
      }
    },
    {
      "cell_type": "code",
      "source": [
        "from collections import Counter\n",
        "from functools import reduce\n",
        "from itertools import groupby, islice, takewhile\n",
        "import math, re\n",
        "\n",
        "def vec_add(v1, v2):\n",
        "  return tuple(sum(i) for i in zip(v1, v2))\n",
        "\n",
        "def vec_sub(v1, v2):\n",
        "  return tuple(i[0] - i[1] for i in zip(v1, v2))\n",
        "\n",
        "dirs45 = [(dy, dx) for dy in [-1, 0, 1] for dx in [-1, 0, 1] if dy != 0 or dx != 0]\n",
        "\n",
        "dir_up = (-1, 0)\n",
        "dir_right = (0, 1)\n",
        "dir_down = (1, 0)\n",
        "dir_left = (0, -1)\n",
        "\n",
        "dirs90 = [dir_up, dir_right, dir_down, dir_left]\n",
        "turn_right = {dir_up: dir_right, dir_right: dir_down, dir_down: dir_left, dir_left: dir_up}\n",
        "turn_left = {dir_up: dir_left, dir_left: dir_down, dir_down: dir_right, dir_right: dir_up}\n",
        "\n",
        "def in_range(p, dimensions):\n",
        "  y, x = p\n",
        "  height, width = dimensions\n",
        "  return y >= 0 and y < height and x >= 0 and x < width\n",
        "\n",
        "def get_cell(p, grid):\n",
        "  y, x = p\n",
        "  return grid[y][x]\n",
        "\n",
        "# use with itertools islice(limit), islice(start, limit, step), takewhile(predicate, iterate(...))\n",
        "def iterate(start, func):\n",
        "  current = start\n",
        "  while True:\n",
        "    yield current\n",
        "    current = func(current)\n",
        "\n",
        "def read_grid(filename):\n",
        "  input = [line.strip() for line in open(f'drive/MyDrive/AoC/2024/{filename}.txt')]\n",
        "  height = len(input)\n",
        "  width = len(input[0])\n",
        "  return input, height, width"
      ],
      "metadata": {
        "id": "6gZpKr0ZzFrO"
      },
      "execution_count": null,
      "outputs": []
    },
    {
      "cell_type": "markdown",
      "source": [
        "Day 01, input"
      ],
      "metadata": {
        "id": "r1TPXsFIHvfH"
      }
    },
    {
      "cell_type": "code",
      "source": [
        "input01 = [[int(i) for i in line.split()] for line in open('drive/MyDrive/AoC/2024/input01.txt')]"
      ],
      "metadata": {
        "id": "SKku640EHqzU"
      },
      "execution_count": null,
      "outputs": []
    },
    {
      "cell_type": "markdown",
      "source": [
        "Day 01, part 1, sum of absolute diff of sorted list elements"
      ],
      "metadata": {
        "id": "OK5K0ylA-8lh"
      }
    },
    {
      "cell_type": "code",
      "source": [
        "sum(abs(l - r) for (l, r) in zip(sorted(l for (l, _) in input01), sorted(r for (_, r) in input01)))"
      ],
      "metadata": {
        "colab": {
          "base_uri": "https://localhost:8080/"
        },
        "id": "owxfIRB-73TW",
        "outputId": "f7583ee1-cae1-4cad-8e42-f1d90cce0480"
      },
      "execution_count": null,
      "outputs": [
        {
          "output_type": "execute_result",
          "data": {
            "text/plain": [
              "1530215"
            ]
          },
          "metadata": {},
          "execution_count": 45
        }
      ]
    },
    {
      "cell_type": "markdown",
      "source": [
        "Day 01, part 2, sum lhs elements multiplied by frequency in rhs list"
      ],
      "metadata": {
        "id": "CdcLpLnV_PML"
      }
    },
    {
      "cell_type": "code",
      "source": [
        "from collections import Counter\n",
        "r_counts = Counter(r for (_, r) in input01)\n",
        "sum(l * r_counts[l] for (l, _) in input01)"
      ],
      "metadata": {
        "colab": {
          "base_uri": "https://localhost:8080/"
        },
        "id": "MTWKPqpv-Olj",
        "outputId": "226bff3f-6f41-4fba-d568-47d7f2aad7c1"
      },
      "execution_count": null,
      "outputs": [
        {
          "output_type": "execute_result",
          "data": {
            "text/plain": [
              "26800609"
            ]
          },
          "metadata": {},
          "execution_count": 46
        }
      ]
    },
    {
      "cell_type": "markdown",
      "source": [
        "Day 02, input"
      ],
      "metadata": {
        "id": "1L9Nb_rMHT9g"
      }
    },
    {
      "cell_type": "code",
      "source": [
        "input02 = [[int(i) for i in line.split()] for line in open('drive/MyDrive/AoC/2024/input02.txt')]"
      ],
      "metadata": {
        "id": "XFpAAU_dHRO1"
      },
      "execution_count": null,
      "outputs": []
    },
    {
      "cell_type": "markdown",
      "source": [
        "Day 02, utils"
      ],
      "metadata": {
        "id": "mvPBjJnKIIBp"
      }
    },
    {
      "cell_type": "code",
      "source": [
        "def same_sgn(deltas_line):\n",
        "  return all(deltas_line[i] * deltas_line[i+1] > 0 for i in range(len(deltas_line)-1))\n",
        "\n",
        "def delta_max(deltas_line, m):\n",
        "  return all(abs(d) <= m for d in deltas_line)"
      ],
      "metadata": {
        "id": "3scnsnVp6oAB"
      },
      "execution_count": null,
      "outputs": []
    },
    {
      "cell_type": "markdown",
      "source": [
        "Day 02, part 1, determine (all increasing or all decreasing) and deltas < 4"
      ],
      "metadata": {
        "id": "CDo_j_XGl44_"
      }
    },
    {
      "cell_type": "code",
      "source": [
        "deltas = [[line[n+1] - line[n] for n in range(len(line)-1)] for line in input02]\n",
        "\n",
        "sum(1 for deltas_line in deltas if same_sgn(deltas_line) and delta_max(deltas_line, 3))"
      ],
      "metadata": {
        "colab": {
          "base_uri": "https://localhost:8080/"
        },
        "id": "uChLkyXjJu4Q",
        "outputId": "464eb271-9978-4b0b-8fb2-ff9120513417"
      },
      "execution_count": null,
      "outputs": [
        {
          "output_type": "execute_result",
          "data": {
            "text/plain": [
              "359"
            ]
          },
          "metadata": {},
          "execution_count": 49
        }
      ]
    },
    {
      "cell_type": "markdown",
      "source": [
        "Day 02, part 2, allow removal of any single element"
      ],
      "metadata": {
        "id": "pyqz85jtYXCG"
      }
    },
    {
      "cell_type": "code",
      "source": [
        "def check_line(line):\n",
        "  deltas = [line[i+1] - line[i] for i in range(len(line)-1)]\n",
        "  return same_sgn(deltas) and delta_max(deltas, 3)\n",
        "\n",
        "def remove1(line):\n",
        "  return [line[:i] + line[i+1:] for i in range(len(line))]\n",
        "\n",
        "# part 1 regression\n",
        "# print(sum(1 for line in input02 if check_line(line)))\n",
        "\n",
        "# part 2\n",
        "sum(1 for line in input02 if check_line(line) or any(check_line(r) for r in remove1(line)))"
      ],
      "metadata": {
        "colab": {
          "base_uri": "https://localhost:8080/"
        },
        "id": "F_RiahZiKqp7",
        "outputId": "1dd8358d-7e95-4013-c2cc-429bba81813c"
      },
      "execution_count": null,
      "outputs": [
        {
          "output_type": "execute_result",
          "data": {
            "text/plain": [
              "418"
            ]
          },
          "metadata": {},
          "execution_count": 50
        }
      ]
    },
    {
      "cell_type": "markdown",
      "source": [
        "Day 03, input"
      ],
      "metadata": {
        "id": "j-Ni1FCRkrMk"
      }
    },
    {
      "cell_type": "code",
      "source": [
        "input03 = \"\".join(line for line in open('drive/MyDrive/AoC/2024/input03.txt'))"
      ],
      "metadata": {
        "id": "GFPJR9oEgR9g"
      },
      "execution_count": null,
      "outputs": []
    },
    {
      "cell_type": "markdown",
      "source": [
        "Day 03, utils"
      ],
      "metadata": {
        "id": "8OPwaByp2goY"
      }
    },
    {
      "cell_type": "code",
      "source": [
        "import re\n",
        "\n",
        "def find_mul_and_eval(instructions):\n",
        "  # regex mul\\\\((\\\\d+),(\\\\d+)\\\\)\n",
        "  matches = re.findall(\"mul\\((\\d+),(\\d+)\\)\", instructions)\n",
        "  return sum(int(x) * int(y) for (x, y) in matches)"
      ],
      "metadata": {
        "id": "Vhwgw70512ue"
      },
      "execution_count": null,
      "outputs": []
    },
    {
      "cell_type": "markdown",
      "source": [
        "Day 03, part 1, find mul(x,y) sequences, multiply and add"
      ],
      "metadata": {
        "id": "ctTUKUfAlLvJ"
      }
    },
    {
      "cell_type": "code",
      "source": [
        "# input03 = \"xmul(2,4)%&mul[3,7]!@^do_not_mul(5,5)+mul(32,64]then(mul(11,8)mul(8,5))\"\n",
        "find_mul_and_eval(input03)"
      ],
      "metadata": {
        "id": "GXsh1v2Mk07N",
        "colab": {
          "base_uri": "https://localhost:8080/"
        },
        "outputId": "30e03cef-1442-4a3f-e081-748fca3f01c8"
      },
      "execution_count": null,
      "outputs": [
        {
          "output_type": "execute_result",
          "data": {
            "text/plain": [
              "162813399"
            ]
          },
          "metadata": {},
          "execution_count": 53
        }
      ]
    },
    {
      "cell_type": "markdown",
      "source": [
        "Day 03, part 2, evaluate do() and don't() sequences"
      ],
      "metadata": {
        "id": "M3oaKPP2nPmU"
      }
    },
    {
      "cell_type": "code",
      "source": [
        "import re\n",
        "from functools import reduce\n",
        "\n",
        "def next_state(state, split):\n",
        "  s, is_active = state\n",
        "  match split:\n",
        "    case \"do()\":\n",
        "      return (s, True)\n",
        "    case \"don't()\":\n",
        "      return (s, False)\n",
        "    case _:\n",
        "      return (s + (find_mul_and_eval(split) if is_active else 0), is_active)\n",
        "\n",
        "# input03 = \"xmul(2,4)&mul[3,7]!^don't()_mul(5,5)+mul(32,64](mul(11,8)undo()?mul(8,5))\"\n",
        "# split on (do\\\\(\\\\)|don't\\\\(\\\\)) - capturing group leads to delimiters being included in result\n",
        "s, is_active = reduce(next_state, re.split(\"(do\\(\\)|don't\\(\\))\", input03), (0, True))\n",
        "s"
      ],
      "metadata": {
        "colab": {
          "base_uri": "https://localhost:8080/"
        },
        "id": "IloCNlgql80L",
        "outputId": "60fa6c4f-c045-41e8-c6ce-0048a5c48385"
      },
      "execution_count": null,
      "outputs": [
        {
          "output_type": "execute_result",
          "data": {
            "text/plain": [
              "53783319"
            ]
          },
          "metadata": {},
          "execution_count": 54
        }
      ]
    },
    {
      "cell_type": "markdown",
      "source": [
        "Day 04, input"
      ],
      "metadata": {
        "id": "mC6UgWYuvkn9"
      }
    },
    {
      "cell_type": "code",
      "source": [
        "input04, rows, cols = read_grid(\"input04\")"
      ],
      "metadata": {
        "id": "27Y3thHmvm7E"
      },
      "execution_count": null,
      "outputs": []
    },
    {
      "cell_type": "markdown",
      "source": [
        "Day 04, part 1, find XMAS"
      ],
      "metadata": {
        "id": "8EXwD1_3cfVI"
      }
    },
    {
      "cell_type": "code",
      "source": [
        "def check_char(p, char):\n",
        "  return in_range(p, (rows, cols)) and get_cell(p, input04) == char\n",
        "\n",
        "def check(s, p, d):\n",
        "  return s == \"\" or check_char(p, s[0]) and check(s[1:], vec_add(p, d), d)\n",
        "\n",
        "def count_xmas(p):\n",
        "  return sum(1 for d in dirs45 if check(\"XMAS\", p, d))\n",
        "\n",
        "sum(count_xmas((y, x)) for y in range(rows) for x in range(cols))"
      ],
      "metadata": {
        "colab": {
          "base_uri": "https://localhost:8080/"
        },
        "id": "w2qf355Rw6lx",
        "outputId": "c3329622-fe74-408c-98a9-1c2b38f3a69a"
      },
      "execution_count": null,
      "outputs": [
        {
          "output_type": "execute_result",
          "data": {
            "text/plain": [
              "2567"
            ]
          },
          "metadata": {},
          "execution_count": 114
        }
      ]
    },
    {
      "cell_type": "markdown",
      "source": [
        "Day 04, part 2, find\n",
        "```\n",
        "M.S\n",
        ".A.\n",
        "M.S\n",
        "```\n",
        "\n"
      ],
      "metadata": {
        "id": "9lOrBwM1jbKl"
      }
    },
    {
      "cell_type": "code",
      "source": [
        "# The pattern can only occur in 4 different variants, with 'A' at (0,0)\n",
        "patterns = [\n",
        "  (((-1, -1), 'M'), ((-1, 1), 'S'), ((1, -1), 'M'), ((1, 1), 'S')),\n",
        "  (((-1, -1), 'M'), ((-1, 1), 'M'), ((1, -1), 'S'), ((1, 1), 'S')),\n",
        "  (((-1, -1), 'S'), ((-1, 1), 'M'), ((1, -1), 'S'), ((1, 1), 'M')),\n",
        "  (((-1, -1), 'S'), ((-1, 1), 'S'), ((1, -1), 'M'), ((1, 1), 'M'))\n",
        "]\n",
        "\n",
        "# variant without range check\n",
        "def check_char_unsafe(p, char):\n",
        "  return get_cell(p, input04) == char\n",
        "\n",
        "def check_pattern(p, pattern):\n",
        "  return all(check_char_unsafe(vec_add(p, d), char) for (d, char) in pattern)\n",
        "\n",
        "# Search for A within (1, 1)...(rows-1, cols-1) and check match for all patterns\n",
        "sum(1\n",
        "    for p in [(y, x) for y in range(1, rows-1) for x in range(1, cols-1) if get_cell((y, x), input04) == 'A']\n",
        "    for pattern in patterns if check_pattern(p, pattern))"
      ],
      "metadata": {
        "colab": {
          "base_uri": "https://localhost:8080/"
        },
        "id": "vAxUvNhOjoOZ",
        "outputId": "69b78d67-4197-481c-c053-b711b11ef013"
      },
      "execution_count": null,
      "outputs": [
        {
          "output_type": "execute_result",
          "data": {
            "text/plain": [
              "2029"
            ]
          },
          "metadata": {},
          "execution_count": 116
        }
      ]
    },
    {
      "cell_type": "markdown",
      "source": [
        "Day 05, input"
      ],
      "metadata": {
        "id": "T-GlIeI_yH0R"
      }
    },
    {
      "cell_type": "code",
      "source": [
        "input05, _, _ = read_grid(\"input05\")\n",
        "split_index = input05.index('')\n",
        "rules = [tuple(int(n) for n in rule.split('|')) for rule in input05[:split_index]]\n",
        "updates = [[int(n) for n in update.split(',')] for update in input05[split_index+1:]]"
      ],
      "metadata": {
        "id": "G_ynPO_i05nv"
      },
      "execution_count": null,
      "outputs": []
    },
    {
      "cell_type": "markdown",
      "source": [
        "Day 05, utils\n"
      ],
      "metadata": {
        "id": "21yWpqLA1uXG"
      }
    },
    {
      "cell_type": "code",
      "source": [
        "def verify_pair(left, right):\n",
        "  \"\"\"if a rule exists, check order against it, otherwise pass\"\"\"\n",
        "  existing_rules = [rule for rule in rules if left in rule and right in rule]\n",
        "  return not existing_rules or any(rl == left and rr == right for rl, rr in existing_rules)\n",
        "\n",
        "def verify_update(update):\n",
        "  return all(verify_pair(update[i], update[j]) for i in range(len(update)-1) for j in range(i+1, len(update)))"
      ],
      "metadata": {
        "id": "3Ze94NW_zPJo"
      },
      "execution_count": null,
      "outputs": []
    },
    {
      "cell_type": "markdown",
      "source": [
        "Day 05, part 1, find correct updates, sum up middle their elements"
      ],
      "metadata": {
        "id": "8lU7RtCR7Pbd"
      }
    },
    {
      "cell_type": "code",
      "source": [
        "sum(update[int(len(update)/2)] for update in updates if verify_update(update))"
      ],
      "metadata": {
        "colab": {
          "base_uri": "https://localhost:8080/"
        },
        "id": "qWoawq4o4l6v",
        "outputId": "a74e3d6d-c03f-4351-9693-8eea17b5fc7a"
      },
      "execution_count": null,
      "outputs": [
        {
          "output_type": "execute_result",
          "data": {
            "text/plain": [
              "7365"
            ]
          },
          "metadata": {},
          "execution_count": 120
        }
      ]
    },
    {
      "cell_type": "markdown",
      "source": [
        "Day 05, part 2, fix updates which break the rules, sum up their middle elements"
      ],
      "metadata": {
        "id": "xlrgyrB7-6T_"
      }
    },
    {
      "cell_type": "code",
      "source": [
        "def fix_update(update_rest, fixed):\n",
        "  if not update_rest:\n",
        "    return fixed\n",
        "  if not fixed:\n",
        "    return fix_update(update_rest[1:], [update_rest[0]])\n",
        "  # find correct place for update_rest[0] in fixed\n",
        "  for i in range(len(fixed)):\n",
        "    if verify_pair(update_rest[0], fixed[i]):\n",
        "      return fix_update(update_rest[1:], fixed[:i] + [update_rest[0]] + fixed[i:])\n",
        "  return fix_update(update_rest[1:], fixed + [update_rest[0]])\n",
        "\n",
        "sum(fix_update(update, [])[int(len(update)/2)] for update in updates if not verify_update(update))"
      ],
      "metadata": {
        "colab": {
          "base_uri": "https://localhost:8080/"
        },
        "id": "e3hdrfwD-5uA",
        "outputId": "d940802a-8e61-49e8-d57e-6786c3d9192f"
      },
      "execution_count": null,
      "outputs": [
        {
          "output_type": "execute_result",
          "data": {
            "text/plain": [
              "5770"
            ]
          },
          "metadata": {},
          "execution_count": 121
        }
      ]
    },
    {
      "cell_type": "markdown",
      "source": [
        "Day 06, input"
      ],
      "metadata": {
        "id": "c6MRgkiLphhx"
      }
    },
    {
      "cell_type": "code",
      "source": [
        "input06, height, width = read_grid(\"input06\")\n",
        "dimensions = (height, width)\n",
        "start = [(y, x) for y in range(height) for x in range(width) if get_cell((y, x), input06) == '^'][0]"
      ],
      "metadata": {
        "id": "14BPsXpkMxlv"
      },
      "execution_count": null,
      "outputs": []
    },
    {
      "cell_type": "markdown",
      "source": [
        "Day 06, part 1, visisted cells"
      ],
      "metadata": {
        "id": "CQSuREG4NiLi"
      }
    },
    {
      "cell_type": "code",
      "source": [
        "def get_visited(grid) -> tuple[list[tuple[tuple[int, int], tuple[int, int]]], bool]:\n",
        "  dir = dir_up\n",
        "  p = start\n",
        "  visited = {(p, dir)}\n",
        "  while in_range(p, dimensions):\n",
        "    next = vec_add(p, dir)\n",
        "    if in_range(next, dimensions):\n",
        "      if get_cell(next, grid) == '#':\n",
        "        dir = turn_right[dir]\n",
        "      elif (next, dir) in visited:\n",
        "        return (visited, True)\n",
        "      else:\n",
        "        p = next\n",
        "        visited.add((p, dir))\n",
        "    else:\n",
        "      return (visited, False)\n",
        "\n",
        "visited, _ = get_visited(input06)\n",
        "len({p for (p, dir) in visited})"
      ],
      "metadata": {
        "id": "QdJqwU6xNns3",
        "outputId": "de08551a-a66f-4661-e4b1-6827a29c8e1c",
        "colab": {
          "base_uri": "https://localhost:8080/"
        }
      },
      "execution_count": null,
      "outputs": [
        {
          "output_type": "execute_result",
          "data": {
            "text/plain": [
              "4711"
            ]
          },
          "metadata": {},
          "execution_count": 158
        }
      ]
    },
    {
      "cell_type": "markdown",
      "source": [
        "Day 06, part 2, find loops"
      ],
      "metadata": {
        "id": "JZE3hTy7kGux"
      }
    },
    {
      "cell_type": "code",
      "source": [
        "mutable = [[c for c in row] for row in input06]\n",
        "loops = 0\n",
        "for y in range(height):\n",
        "  # print(y, loops)\n",
        "  for x in range(width):\n",
        "    if get_cell((y, x), input06) == '.':\n",
        "      mutable[y][x] = '#'\n",
        "      _, loop = get_visited(mutable)\n",
        "      loops += loop\n",
        "      mutable[y][x] = '.'\n",
        "loops"
      ],
      "metadata": {
        "id": "vilThMk8kFpb",
        "colab": {
          "base_uri": "https://localhost:8080/"
        },
        "outputId": "189e2458-0d24-4f63-edbf-363577cd3868"
      },
      "execution_count": null,
      "outputs": [
        {
          "output_type": "execute_result",
          "data": {
            "text/plain": [
              "1562"
            ]
          },
          "metadata": {},
          "execution_count": 159
        }
      ]
    },
    {
      "cell_type": "markdown",
      "source": [
        "Day 07, input"
      ],
      "metadata": {
        "id": "N5Tv2i1YpcsL"
      }
    },
    {
      "cell_type": "code",
      "source": [
        "# [(desired_result, [operand1, operand2, ...])]\n",
        "input07 = [\n",
        "    (int(result.strip()), [int(operand.strip()) for operand in operands.split()])\n",
        "    for (result, operands) in [[s.strip() for s in line.split(':')] for line in open('drive/MyDrive/AoC/2024/input07.txt')]]"
      ],
      "metadata": {
        "id": "EUSaUdGeQh0m"
      },
      "execution_count": null,
      "outputs": []
    },
    {
      "cell_type": "markdown",
      "source": [
        "Day 07, part 1, find valid equations with '*' and '+'"
      ],
      "metadata": {
        "id": "3k_RnofPsbB2"
      }
    },
    {
      "cell_type": "code",
      "source": [
        "def check_equation(desired_result, current_result, remaining_operands):\n",
        "  if not remaining_operands:\n",
        "    return desired_result == current_result\n",
        "  if current_result > desired_result:\n",
        "    return False\n",
        "  return check_equation(desired_result, current_result + remaining_operands[0], remaining_operands[1:]) or \\\n",
        "         check_equation(desired_result, current_result * remaining_operands[0], remaining_operands[1:])\n",
        "\n",
        "sum(desired_result for (desired_result, operands) in input07 if check_equation(desired_result, operands[0], operands[1:]))"
      ],
      "metadata": {
        "colab": {
          "base_uri": "https://localhost:8080/"
        },
        "id": "2vrLLyYjpcLN",
        "outputId": "bb4ca305-5869-488e-a6c9-1ae48fc64f4c"
      },
      "execution_count": null,
      "outputs": [
        {
          "output_type": "execute_result",
          "data": {
            "text/plain": [
              "4555081946288"
            ]
          },
          "metadata": {},
          "execution_count": 127
        }
      ]
    },
    {
      "cell_type": "markdown",
      "source": [
        "Day 07, part 2, find valid equations with '*', '+', '||' (concat)"
      ],
      "metadata": {
        "id": "ZI6Yxu_cuWQq"
      }
    },
    {
      "cell_type": "code",
      "source": [
        "from math import log10\n",
        "def check_equation2(desired_result, current_result, remaining_operands):\n",
        "  if not remaining_operands:\n",
        "    return desired_result == current_result\n",
        "  if current_result > desired_result:\n",
        "    return False\n",
        "  return check_equation2(desired_result, current_result + remaining_operands[0], remaining_operands[1:]) or \\\n",
        "         check_equation2(desired_result, current_result * remaining_operands[0], remaining_operands[1:]) or \\\n",
        "         check_equation2(desired_result, current_result * 10 ** (int(log10(remaining_operands[0])) + 1) + remaining_operands[0], remaining_operands[1:])\n",
        "         # or with strings: check_equation2(desired_result, int(f'{current_result}{remaining_operands[0]}'), remaining_operands[1:])\n",
        "\n",
        "sum(desired_result for (desired_result, operands) in input07 if check_equation2(desired_result, operands[0], operands[1:]))"
      ],
      "metadata": {
        "colab": {
          "base_uri": "https://localhost:8080/"
        },
        "id": "HLi48dqUtOr5",
        "outputId": "f636aaa9-db39-44a3-92fd-b44f24e37695"
      },
      "execution_count": null,
      "outputs": [
        {
          "output_type": "execute_result",
          "data": {
            "text/plain": [
              "227921760109726"
            ]
          },
          "metadata": {},
          "execution_count": 128
        }
      ]
    },
    {
      "cell_type": "markdown",
      "source": [
        "Day 08, input"
      ],
      "metadata": {
        "id": "_npwXTDQzmJS"
      }
    },
    {
      "cell_type": "code",
      "source": [
        "input08, height, width = read_grid(\"input08\")\n",
        "dimensions = (height, width)\n",
        "antennas = {}\n",
        "for (name, pos) in [(input08[y][x], (y, x)) for y in range(height) for x in range(width) if input08[y][x] != '.']:\n",
        "  if name in antennas:\n",
        "    antennas[name].append(pos)\n",
        "  else:\n",
        "    antennas[name] = [pos]"
      ],
      "metadata": {
        "id": "u4F3xlexzshP"
      },
      "execution_count": null,
      "outputs": []
    },
    {
      "cell_type": "markdown",
      "source": [
        "Day 08, part 1, find antinodes (unique positions)"
      ],
      "metadata": {
        "id": "pKq4640e5zb4"
      }
    },
    {
      "cell_type": "code",
      "source": [
        "def antinodes(positions):\n",
        "  return [p for p in [vec_sub(p1, vec_sub(p2, p1)) for p1 in positions for p2 in positions if p1 != p2] if in_range(p, dimensions)]\n",
        "\n",
        "len({p for a in antennas.values() for p in antinodes(a)})"
      ],
      "metadata": {
        "colab": {
          "base_uri": "https://localhost:8080/"
        },
        "id": "zbQL-Qxz31kl",
        "outputId": "099a9efb-b5ec-4bae-ba0e-5e3b27f6eaea"
      },
      "execution_count": null,
      "outputs": [
        {
          "output_type": "execute_result",
          "data": {
            "text/plain": [
              "354"
            ]
          },
          "metadata": {},
          "execution_count": 133
        }
      ]
    },
    {
      "cell_type": "markdown",
      "source": [
        "Day 08, part 2, find more antinodes (unique positions)\n"
      ],
      "metadata": {
        "id": "U1C0YD4s9vb7"
      }
    },
    {
      "cell_type": "code",
      "source": [
        "def antinodes2(positions):\n",
        "  def antinodes_for_pair(p1, p2):\n",
        "    anodes = []\n",
        "    dir = vec_sub(p2, p1)  # step\n",
        "    p = p2  # p1, p2 are antinodes themselves, but no need to add p1 as we also call this for the swapped pair\n",
        "    while in_range(p, dimensions):\n",
        "      anodes.append(p)\n",
        "      p = vec_add(p, dir)\n",
        "    return anodes\n",
        "  return {a for p1 in positions for p2 in positions if p1 != p2 for a in antinodes_for_pair(p1, p2)}\n",
        "\n",
        "len({a for p in antennas.values() for a in antinodes2(p)})"
      ],
      "metadata": {
        "colab": {
          "base_uri": "https://localhost:8080/"
        },
        "id": "Z24X9r_K8ZNk",
        "outputId": "50bedc8b-d067-4727-f77d-7ec975a5e693"
      },
      "execution_count": null,
      "outputs": [
        {
          "output_type": "execute_result",
          "data": {
            "text/plain": [
              "1263"
            ]
          },
          "metadata": {},
          "execution_count": 134
        }
      ]
    },
    {
      "cell_type": "markdown",
      "source": [
        "Day 09, input"
      ],
      "metadata": {
        "id": "24VlGq86D4kn"
      }
    },
    {
      "cell_type": "code",
      "source": [
        "input09 = open('drive/MyDrive/AoC/2024/input09.txt').read().strip()\n",
        "# input09 = '2333133121414131402'  # example\n",
        "codes = [int(c) for c in input09 + '0']"
      ],
      "metadata": {
        "id": "zQHuKZYxD7Dx"
      },
      "execution_count": null,
      "outputs": []
    },
    {
      "cell_type": "markdown",
      "source": [
        "Day 09, part 1, fill free space with single blocks"
      ],
      "metadata": {
        "id": "-2hePse4EPnB"
      }
    },
    {
      "cell_type": "code",
      "source": [
        "drive = [block for i in range(0, len(codes)-1, 2) for block in [int(i/2)] * codes[i] + [-1] * codes[i+1]]\n",
        "i = 0\n",
        "j = len(drive) - 1\n",
        "compacted = []\n",
        "while j >= i:\n",
        "  if drive[i] >= 0:\n",
        "    compacted.append(drive[i])\n",
        "  else:\n",
        "    compacted.append(drive[j])\n",
        "    j -= 1\n",
        "    while drive[j] == -1:\n",
        "      j -= 1\n",
        "  i += 1\n",
        "\n",
        "sum(b * i for (b, i) in zip(compacted, range(len(compacted))))"
      ],
      "metadata": {
        "id": "7nFewmeCEO-e",
        "outputId": "67decf89-bc90-44a3-d8fc-27181b983d19",
        "colab": {
          "base_uri": "https://localhost:8080/"
        }
      },
      "execution_count": null,
      "outputs": [
        {
          "output_type": "execute_result",
          "data": {
            "text/plain": [
              "6384282079460"
            ]
          },
          "metadata": {},
          "execution_count": 152
        }
      ]
    },
    {
      "cell_type": "markdown",
      "source": [
        "Day 09, part 2, fill free space with whole files"
      ],
      "metadata": {
        "id": "MODS0kwzLxzw"
      }
    },
    {
      "cell_type": "code",
      "source": [
        "### SLOW for full input!!! ###\n",
        "drive = [block for i in range(0, len(codes)-1, 2) for block in [int(i/2)] * codes[i] + [-1] * codes[i+1]]\n",
        "compacted = [b for b in drive]\n",
        "j = len(compacted) - 1\n",
        "# print(compacted)\n",
        "while j >= 0:\n",
        "  while compacted[j] == -1:\n",
        "    j -= 1\n",
        "  # found number, determine size\n",
        "  n = j\n",
        "  while compacted[n] == compacted[j]:\n",
        "    n -= 1\n",
        "  num_size = j - n\n",
        "  # look for gaps\n",
        "  i = 0\n",
        "  while (i < j):\n",
        "    while compacted[i] != -1 and i < j:\n",
        "      i += 1\n",
        "    # found gap, determine size\n",
        "    g = i\n",
        "    while compacted[g] == -1:\n",
        "      g += 1\n",
        "    gap_size = g - i\n",
        "    if (gap_size >= num_size):\n",
        "      # move\n",
        "      for k in range(num_size):\n",
        "        compacted[i + k] = compacted[j - k]\n",
        "        compacted[j - k] = -1\n",
        "        # print(compacted)\n",
        "      break\n",
        "    i = g\n",
        "\n",
        "  j = n\n",
        "\n",
        "sum((b if b >= 0 else 0) * i for (b, i) in zip(compacted, range(len(compacted))))"
      ],
      "metadata": {
        "id": "pTQwq6ojEFCM",
        "outputId": "cbaa5536-1b82-4bd2-c4e4-fa03e9f1b0b4",
        "colab": {
          "base_uri": "https://localhost:8080/"
        }
      },
      "execution_count": null,
      "outputs": [
        {
          "output_type": "execute_result",
          "data": {
            "text/plain": [
              "2858"
            ]
          },
          "metadata": {},
          "execution_count": 12
        }
      ]
    },
    {
      "cell_type": "markdown",
      "source": [
        "Day 10, input\n"
      ],
      "metadata": {
        "id": "uHIZroNiDM0-"
      }
    },
    {
      "cell_type": "code",
      "source": [
        "input10_chars, height, width = read_grid('input10')\n",
        "input10 = [[int(c) if c.isdigit() else -1 for c in row] for row in input10_chars]\n",
        "dimensions = (height, width)\n",
        "trailheads = [(y, x) for y in range(height) for x in range(width) if get_cell((y, x), input10) == 0]"
      ],
      "metadata": {
        "id": "ulrsBZq2DX2-"
      },
      "execution_count": 122,
      "outputs": []
    },
    {
      "cell_type": "markdown",
      "source": [
        "Day 10, depth first search for peaks (9)"
      ],
      "metadata": {
        "id": "tEW2W5QcZQTI"
      }
    },
    {
      "cell_type": "code",
      "source": [
        "def find_peaks(p, visited, peaks):\n",
        "  if not in_range(p, dimensions) \\\n",
        "    or get_cell(p, input10) == -1 \\\n",
        "    or p in visited \\\n",
        "    or visited and get_cell(p, input10) != get_cell(visited[-1], input10) + 1:\n",
        "    return peaks\n",
        "  if get_cell(p, input10) == 9:\n",
        "    # print(visited + [p])\n",
        "    return peaks + [p]\n",
        "  return reduce(lambda ps, d: find_peaks(vec_add(p, d), visited + [p], ps), dirs90, peaks)"
      ],
      "metadata": {
        "id": "JilzmHArDj79"
      },
      "execution_count": 123,
      "outputs": []
    },
    {
      "cell_type": "markdown",
      "source": [
        "Day 10, part 1, sum number of peaks reachable per trailhead"
      ],
      "metadata": {
        "id": "5Mng-6-fZYxI"
      }
    },
    {
      "cell_type": "code",
      "source": [
        "sum(len(set(find_peaks(p, [], []))) for p in trailheads)"
      ],
      "metadata": {
        "colab": {
          "base_uri": "https://localhost:8080/"
        },
        "id": "lBaCaS6DZdpi",
        "outputId": "95788247-bb16-41f9-b737-1fdb410cf3a0"
      },
      "execution_count": 124,
      "outputs": [
        {
          "output_type": "execute_result",
          "data": {
            "text/plain": [
              "796"
            ]
          },
          "metadata": {},
          "execution_count": 124
        }
      ]
    },
    {
      "cell_type": "markdown",
      "source": [
        "Day 10, part 2, sum number of distinct trails to peaks per trailhead"
      ],
      "metadata": {
        "id": "Evymr9cYZguI"
      }
    },
    {
      "cell_type": "code",
      "source": [
        "sum(len(find_peaks(p, [], [])) for p in trailheads)"
      ],
      "metadata": {
        "colab": {
          "base_uri": "https://localhost:8080/"
        },
        "id": "aVweMTquZsTf",
        "outputId": "add66814-951c-496f-f218-2f6471daebb1"
      },
      "execution_count": 125,
      "outputs": [
        {
          "output_type": "execute_result",
          "data": {
            "text/plain": [
              "1942"
            ]
          },
          "metadata": {},
          "execution_count": 125
        }
      ]
    },
    {
      "cell_type": "markdown",
      "source": [
        "Day 11, input"
      ],
      "metadata": {
        "id": "cfB3m3zYbAla"
      }
    },
    {
      "cell_type": "code",
      "source": [
        "input11 = [s.strip() for s in \"8435 234 928434 14 0 7 92446 8992692\".split()]\n",
        "# input11 = [s.strip() for s in \"125 17\".split()]"
      ],
      "metadata": {
        "id": "QJQB5jz7bASf"
      },
      "execution_count": 127,
      "outputs": []
    },
    {
      "cell_type": "markdown",
      "source": [
        "Day 11, funcs"
      ],
      "metadata": {
        "id": "dfs50bhbciqR"
      }
    },
    {
      "cell_type": "code",
      "source": [
        "def blink_single(s):\n",
        "  return ['1'] if s == '0' else [f'{int(s) * 2024}'] if len(s) % 2 == 1 else [s[:(len(s)//2)], f'{int(s[(len(s)//2):])}']\n",
        "\n",
        "def blink(stones):\n",
        "  return reduce(lambda counter, stone: counter + Counter({new_stone: stones[stone] * new_count for new_stone, new_count in Counter(blink_single(stone)).items()}), stones, Counter())"
      ],
      "metadata": {
        "id": "DTlDxndlciR7"
      },
      "execution_count": 128,
      "outputs": []
    },
    {
      "cell_type": "markdown",
      "source": [
        "Day 11, part 1, 25 itertions"
      ],
      "metadata": {
        "id": "i0f5MqgtioxE"
      }
    },
    {
      "cell_type": "code",
      "source": [
        "stones = Counter(input11)\n",
        "for i in range(25):\n",
        "  stones = blink(stones)\n",
        "sum(stones.values())\n"
      ],
      "metadata": {
        "colab": {
          "base_uri": "https://localhost:8080/"
        },
        "id": "YG_vzRRXJrbX",
        "outputId": "b06bf8c7-abcd-4b7e-fa2a-446ab2b5cd73"
      },
      "execution_count": 129,
      "outputs": [
        {
          "output_type": "execute_result",
          "data": {
            "text/plain": [
              "182081"
            ]
          },
          "metadata": {},
          "execution_count": 129
        }
      ]
    },
    {
      "cell_type": "markdown",
      "source": [
        "Day 11, part 2, 75 iterations"
      ],
      "metadata": {
        "id": "rikI1ZcKroMc"
      }
    },
    {
      "cell_type": "code",
      "source": [
        "stones = Counter(input11)\n",
        "for i in range(75):\n",
        "  stones = blink(stones)\n",
        "sum(stones.values())"
      ],
      "metadata": {
        "colab": {
          "base_uri": "https://localhost:8080/"
        },
        "id": "fPMRBRvfds8G",
        "outputId": "c3ac6747-91e9-43b5-942e-1b3eacbedbd5"
      },
      "execution_count": null,
      "outputs": [
        {
          "output_type": "execute_result",
          "data": {
            "text/plain": [
              "216318908621637"
            ]
          },
          "metadata": {},
          "execution_count": 79
        }
      ]
    },
    {
      "cell_type": "code",
      "source": [
        "# TODO - exponential growth, can't simulate, need to calculate"
      ],
      "metadata": {
        "id": "2fExLDqKrrWp"
      },
      "execution_count": null,
      "outputs": []
    },
    {
      "cell_type": "markdown",
      "source": [
        "Day 12, input"
      ],
      "metadata": {
        "id": "L9907uoPDcsm"
      }
    },
    {
      "cell_type": "code",
      "source": [
        "input12, height, width = read_grid(\"input12\")\n",
        "# input12=['AAAA','BBCD','BBCC','EEEC']\n",
        "# input12=['OOOOO','OXOXO','OOOOO','OXOXO','OOOOO']\n",
        "# height = len(input12)\n",
        "# width = len(input12[0])\n",
        "dimensions = (height, width)"
      ],
      "metadata": {
        "id": "aalsa-dy5ZvV"
      },
      "execution_count": null,
      "outputs": []
    },
    {
      "cell_type": "markdown",
      "source": [
        "Day 12, regions"
      ],
      "metadata": {
        "id": "3kANSv14R0IL"
      }
    },
    {
      "cell_type": "code",
      "source": [
        "global_visited = set()\n",
        "\n",
        "def region(p):\n",
        "  c = get_cell(p, input12)\n",
        "  visited = set()\n",
        "\n",
        "  def collect(p):\n",
        "    if p in global_visited or p in visited or not in_range(p, dimensions) or get_cell(p, input12) != c:\n",
        "      return\n",
        "    visited.add(p)\n",
        "    global_visited.add(p)\n",
        "    for d in dirs90:\n",
        "       collect(vec_add(p, d))\n",
        "\n",
        "  collect(p)\n",
        "  return c, visited\n",
        "\n",
        "regions = [region(p) for p in [(y, x) for y in range(height) for x in range(width)] if not p in global_visited]\n",
        "\n",
        "# len(r) = area of region r (consisting of all points for the region) with char c\n",
        "# [(c, len(r)) for (c, r) in regions]"
      ],
      "metadata": {
        "id": "bawcOtASR26A",
        "collapsed": true
      },
      "execution_count": null,
      "outputs": []
    },
    {
      "cell_type": "markdown",
      "source": [
        "Day 12, part 1, areas * perimeters"
      ],
      "metadata": {
        "id": "Dw_-I5nVLbpH"
      }
    },
    {
      "cell_type": "code",
      "source": [
        "def perimeter(p):\n",
        "  c = get_cell(p, input12)\n",
        "  return sum(0 if in_range(vec_add(p, d), dimensions) and get_cell(vec_add(p, d), input12) == c else 1 for d in dirs90)\n",
        "\n",
        "# [(c, len(r), sum(perimeter(p) for p in r)) for (c, r) in regions]\n",
        "sum(sum(perimeter(p) for p in r) * len(r) for (c, r) in regions)"
      ],
      "metadata": {
        "colab": {
          "base_uri": "https://localhost:8080/"
        },
        "id": "W-Ha-UH3LgzS",
        "outputId": "0f9e3236-139e-404a-852d-d2a390f97ebd"
      },
      "execution_count": null,
      "outputs": [
        {
          "output_type": "execute_result",
          "data": {
            "text/plain": [
              "1494342"
            ]
          },
          "metadata": {},
          "execution_count": 124
        }
      ]
    },
    {
      "cell_type": "markdown",
      "source": [
        "Day 12, part 2, areas * side counts"
      ],
      "metadata": {
        "id": "6st_ex4XjnTo"
      }
    },
    {
      "cell_type": "code",
      "source": [
        "def side_count(region):\n",
        "  c, r = region\n",
        "  min_x = min(x for (y, x) in r)\n",
        "  min_y = min(y for (y, x) in r)\n",
        "  max_x = max(x for (y, x) in r)\n",
        "  max_y = max(y for (y, x) in r)\n",
        "\n",
        "  sc = 0\n",
        "  # horizontal\n",
        "  for y in range(min_y, max_y+1):\n",
        "    cur_top = -1\n",
        "    cur_bottom = -1\n",
        "    for x in range(min_x, max_x+1):\n",
        "      if (y, x) in r and (not in_range((y-1, x), dimensions) or get_cell((y-1, x), input12) != c):\n",
        "        if cur_top != y:\n",
        "          cur_top = y\n",
        "          sc += 1\n",
        "      else:\n",
        "        cur_top = -1\n",
        "      if (y, x) in r and (not in_range((y+1, x), dimensions) or get_cell((y+1, x), input12) != c):\n",
        "        if cur_bottom != y:\n",
        "          cur_bottom = y\n",
        "          sc += 1\n",
        "      else:\n",
        "        cur_bottom = -1\n",
        "      # print(y, x, sc)\n",
        "  # vertical\n",
        "  for x in range(min_x, max_x+1):\n",
        "    cur_left = -1\n",
        "    cur_right = -1\n",
        "    for y in range(min_y, max_y+1):\n",
        "      if (y, x) in r and (not in_range((y, x-1), dimensions) or get_cell((y, x-1), input12) != c):\n",
        "        if cur_left != x:\n",
        "          cur_left = x\n",
        "          sc += 1\n",
        "      else:\n",
        "        cur_left = -1\n",
        "      if (y, x) in r and (not in_range((y, x+1), dimensions) or get_cell((y, x+1), input12) != c):\n",
        "        if cur_right != x:\n",
        "          cur_right = x\n",
        "          sc += 1\n",
        "      else:\n",
        "        cur_right = -1\n",
        "      # print(y, x, sc)\n",
        "  return sc\n",
        "\n",
        "# [(c, len(r), side_count((c, r))) for (c, r) in regions]\n",
        "sum(len(r) * side_count((c, r)) for (c, r) in regions)"
      ],
      "metadata": {
        "id": "SWYo8L6xbrHt",
        "colab": {
          "base_uri": "https://localhost:8080/"
        },
        "outputId": "16eb93ce-451e-4b0e-f42b-487c35a6caea"
      },
      "execution_count": null,
      "outputs": [
        {
          "output_type": "execute_result",
          "data": {
            "text/plain": [
              "893676"
            ]
          },
          "metadata": {},
          "execution_count": 220
        }
      ]
    },
    {
      "cell_type": "markdown",
      "source": [
        "Day 13, input"
      ],
      "metadata": {
        "id": "-FpUaEsBXY3X"
      }
    },
    {
      "cell_type": "code",
      "source": [
        "xy = re.compile('.*?: X=?([+-]?\\d+), Y=?([+-]?\\d+)')\n",
        "# machines(button A delta, button B delta, prize pos)\n",
        "machines = [[tuple([int(s) for s in xy.match(definition).groups()]) for definition in line.split('\\n')] for line in \"\".join([line for line in open(f'drive/MyDrive/AoC/2024/input13.txt')]).split('\\n\\n')]"
      ],
      "metadata": {
        "id": "usSWJbLkScCR"
      },
      "execution_count": null,
      "outputs": []
    },
    {
      "cell_type": "markdown",
      "source": [
        "Day 13, part 1, min costs"
      ],
      "metadata": {
        "id": "fexRrWaHhmLW"
      }
    },
    {
      "cell_type": "code",
      "source": [
        "def min_cost(machine):\n",
        "  (ax, ay), (bx, by), (px, py) = machine\n",
        "\n",
        "  # try x combinations to reach price x\n",
        "  x_max_a = int(px/ax)\n",
        "  x_max_b = int(px/bx)\n",
        "\n",
        "  # if ax/bx < 3 go for low a, higher b, if ax/bx > 3 go for low b, higher a\n",
        "  x = [(a, int((px - a * ax) / bx), int(3 * a + (px - a * ax) / bx)) for a in range(x_max_a + 1) if (px - a * ax) % bx == 0] \\\n",
        "  if ax/bx < 3 else \\\n",
        "  [(int((px - b * bx) / ax), b, int(3 * (px - b * bx) / ax + b)) for b in range(x_max_b + 1) if (px - b * bx) % ax == 0]\n",
        "  # print('x:', x)\n",
        "\n",
        "  # try y combinations to reach price y\n",
        "  y_max_a = int(py/ay)\n",
        "  y_max_b = int(py/by)\n",
        "\n",
        "  # if ay/by < 3 go for low a, higher b, if ay/by > 3 go for low b, higher a\n",
        "  y = [(a, int((py - a * ay) / by), int(3 * a + (py - a * ay) / by)) for a in range(y_max_a + 1) if (py - a * ay) % by == 0] \\\n",
        "  if ay/by < 3 else \\\n",
        "  [(int((py - b * by) / ay), b, int(3 * (py - b * by) / ay + b)) for b in range(y_max_b + 1) if (py - b * by) % ay == 0]\n",
        "  # print('y:', y)\n",
        "\n",
        "  intersection = [c for c in x if c in y]\n",
        "  return min([cost for _, _, cost in intersection]) if intersection else 0\n",
        "\n",
        "sum(min_cost(machine) or 0 for machine in machines)"
      ],
      "metadata": {
        "colab": {
          "base_uri": "https://localhost:8080/"
        },
        "id": "V2QXoTsKhlHD",
        "outputId": "29b8cefe-4ff8-4d7a-dd58-66421a394d73"
      },
      "execution_count": null,
      "outputs": [
        {
          "output_type": "execute_result",
          "data": {
            "text/plain": [
              "39996"
            ]
          },
          "metadata": {},
          "execution_count": 15
        }
      ]
    },
    {
      "cell_type": "markdown",
      "source": [
        "Day 13, part 2, min cost with less attempts"
      ],
      "metadata": {
        "id": "sKsFogKhumRE"
      }
    },
    {
      "cell_type": "code",
      "source": [
        "def check_int(x):\n",
        "  # account for rounding errors with large numbers\n",
        "  return abs(x - int(x)) <= 0.001 or abs(x - int(x)) >= 0.999\n",
        "\n",
        "def min_cost_2(machine):\n",
        "  (ax, ay), (bx, by), (px1, py1) = machine\n",
        "\n",
        "  (px, py) = (10000000000000 + px1, 10000000000000 + py1)\n",
        "\n",
        "  # Transform one of the following...\n",
        "  # px = a*ax + b*bx\n",
        "  # py = a*ay + b*by\n",
        "  # ... to get b if a is given and substitute for b in the other expression to get an expression for a without b,\n",
        "  # calculate a, then calculate b using the initial transformation\n",
        "  a = (py-px*by/bx)/(ay-ax*by/bx)\n",
        "  b = (px-a*ax)/bx\n",
        "\n",
        "  # These are linear equations, so there can be only one solution.\n",
        "  # We consider the solution only if a and b are integers as the cost functions for a and b are discrete.\n",
        "\n",
        "  return a*3+b if check_int(a) and check_int(b) else 0\n",
        "  # return (a, b, check_int(a), check_int(b))\n",
        "\n",
        "int(sum(min_cost_2(machine) or 0 for machine in machines))\n",
        "# [min_cost_2(machine) or 0 for machine in machines]"
      ],
      "metadata": {
        "colab": {
          "base_uri": "https://localhost:8080/"
        },
        "id": "yMwLTfgYur-h",
        "outputId": "a3bad72a-3002-4630-b8a3-543110069c41"
      },
      "execution_count": null,
      "outputs": [
        {
          "output_type": "execute_result",
          "data": {
            "text/plain": [
              "73267584326867"
            ]
          },
          "metadata": {},
          "execution_count": 33
        }
      ]
    },
    {
      "cell_type": "markdown",
      "source": [
        "Day 14, input"
      ],
      "metadata": {
        "id": "xdvDrbwRn77l"
      }
    },
    {
      "cell_type": "code",
      "source": [
        "pv = re.compile('p=(\\d+),(\\d+) v=([+-]?\\d+),([+-]?\\d+)')\n",
        "\n",
        "# parse robot defs per line as ((y, x), (vy, vx)), mind swapped x and y for consistency with previous days' grids\n",
        "\n",
        "# example\n",
        "# height = 7\n",
        "# width = 11\n",
        "# robots = [((r[1], r[0]), (r[3], r[2])) for r in [[int(s) for s in pv.match(line).groups()] for line in open('drive/MyDrive/AoC/2024/input14_example.txt')]]\n",
        "\n",
        "# actual task\n",
        "height = 103\n",
        "width = 101\n",
        "robots = [((r[1], r[0]), (r[3], r[2])) for r in [[int(s) for s in pv.match(line).groups()] for line in open('drive/MyDrive/AoC/2024/input14.txt')]]\n",
        "\n",
        "def cycle(p, v, cycles):\n",
        "  y, x = p\n",
        "  vy, vx = v\n",
        "  return ((y + (height + vy) * cycles) % height, (x + (width + vx) * cycles) % width)\n",
        "\n",
        "def cycle_robot(robot, cycles):\n",
        "  (p, v) = robot\n",
        "  return (cycle(p, v, cycles), v)"
      ],
      "metadata": {
        "id": "cBpq1oZkn9FW"
      },
      "execution_count": null,
      "outputs": []
    },
    {
      "cell_type": "markdown",
      "source": [
        "Day 14, part 1, after 100 cycles, multiply number of robots per quadrant (except robots in the middle)"
      ],
      "metadata": {
        "id": "VUsxzdaWyCUz"
      }
    },
    {
      "cell_type": "code",
      "source": [
        "def evaluate(robots):\n",
        "  return math.prod([\n",
        "      sum(1 for (y, x), _ in robots if y < height//2 and x < width//2),\n",
        "      sum(1 for (y, x), _ in robots if y < height//2 and x > width//2),\n",
        "      sum(1 for (y, x), _ in robots if y > height//2 and x < width//2),\n",
        "      sum(1 for (y, x), _ in robots if y > height//2 and x > width//2)\n",
        "  ])\n",
        "\n",
        "evaluate([cycle_robot(r, 100) for r in robots])"
      ],
      "metadata": {
        "colab": {
          "base_uri": "https://localhost:8080/"
        },
        "id": "KUkeTiSBrjFa",
        "outputId": "f34eb05b-ae85-4909-b88f-513e12dbf9b0"
      },
      "execution_count": null,
      "outputs": [
        {
          "output_type": "execute_result",
          "data": {
            "text/plain": [
              "221142636"
            ]
          },
          "metadata": {},
          "execution_count": 95
        }
      ]
    },
    {
      "cell_type": "markdown",
      "source": [
        "Day 14, part 2, find Xmas tree picture"
      ],
      "metadata": {
        "id": "jjFKX6ADyMmO"
      }
    },
    {
      "cell_type": "code",
      "source": [
        "def print_robots(robots):\n",
        "  ps = Counter([p for p, _ in robots])\n",
        "  for y in range(height):\n",
        "    l = ''\n",
        "    for x in range(width):\n",
        "      l += f'{ps[y, x]}' if (y, x) in ps else ' '\n",
        "    print(l)\n",
        "\n",
        "# By just printing out every cycle, noticed that starting at cycle 38, robots\n",
        "# are grouped in a vertical band. As the horizontal configuration should repeat\n",
        "# every 101 (width, prime) cycles, check every 38 + n * 101 cycle.\n",
        "# Just print in batches (e.g. Google Colab limits output to 5000 lines,\n",
        "# so use batches of 49) and search for consecutive 1s in the output,\n",
        "# assuming 1, 111, 11111, 1111111 appear in an Xmas tree pic.\n",
        "\n",
        "batch_size = 49\n",
        "batch_num = 1\n",
        "step = width\n",
        "start = 38 + batch_num * batch_size * step  # every 101th\n",
        "i = start\n",
        "rs = robots\n",
        "while i < start + batch_size * step:\n",
        "  print(i)\n",
        "  rs = [cycle_robot(r, i) for r in robots]\n",
        "  print_robots(rs)\n",
        "  i += step\n",
        "\n",
        "# result = 7916"
      ],
      "metadata": {
        "collapsed": true,
        "id": "RiH9z7kFyMS3"
      },
      "execution_count": null,
      "outputs": []
    }
  ]
}